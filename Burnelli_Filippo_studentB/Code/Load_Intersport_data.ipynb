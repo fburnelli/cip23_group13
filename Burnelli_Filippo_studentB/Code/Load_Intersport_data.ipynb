{
 "cells": [
  {
   "cell_type": "code",
   "execution_count": null,
   "id": "83654ae4",
   "metadata": {},
   "outputs": [],
   "source": [
    "df.apply(lambda x: x.astype(str).str.len().max())"
   ]
  },
  {
   "cell_type": "code",
   "execution_count": null,
   "id": "ab251412",
   "metadata": {},
   "outputs": [],
   "source": [
    "# Define the table schema\n",
    "table_schema = '''\n",
    "CREATE TABLE IF NOT EXISTS intersport_stage3 (\n",
    "    location VARCHAR(100),\n",
    "    location_town VARCHAR(100),\n",
    "    first_rental_day DATE,\n",
    "    return_date DATE,\n",
    "    gear_name VARCHAR(100),\n",
    "    price FLOAT,\n",
    "    rental_duration INT,\n",
    "    price_per_day FLOAT,\n",
    "    gear_class VARCHAR(100)\n",
    ");\n",
    "'''\n"
   ]
  },
  {
   "cell_type": "code",
   "execution_count": null,
   "id": "0ad8a852",
   "metadata": {},
   "outputs": [],
   "source": [
    "import mariadb\n",
    "username = 'cip_user'\n",
    "password = 'cip_pw'\n",
    "database_name = 'CIP'\n",
    "\n",
    "conn = mariadb.connect(\n",
    "        user=username,\n",
    "        password=password,\n",
    "        host=\"localhost\",\n",
    "        port=3306,\n",
    "        database=database_name\n",
    "\n",
    "    )\n",
    "cur = conn.cursor() \n",
    "cur.execute(table_schema)"
   ]
  },
  {
   "cell_type": "code",
   "execution_count": null,
   "id": "87ace61c",
   "metadata": {},
   "outputs": [],
   "source": [
    "sudo apt-get install libmariadb3 libmariadb-dev\n",
    "!pip install mariadb"
   ]
  },
  {
   "cell_type": "code",
   "execution_count": null,
   "id": "00892279",
   "metadata": {},
   "outputs": [],
   "source": []
  },
  {
   "cell_type": "code",
   "execution_count": null,
   "id": "5e7683f7",
   "metadata": {},
   "outputs": [],
   "source": []
  }
 ],
 "metadata": {
  "kernelspec": {
   "display_name": "Python 3.9 (cv)",
   "language": "python",
   "name": "cv"
  },
  "language_info": {
   "codemirror_mode": {
    "name": "ipython",
    "version": 3
   },
   "file_extension": ".py",
   "mimetype": "text/x-python",
   "name": "python",
   "nbconvert_exporter": "python",
   "pygments_lexer": "ipython3",
   "version": "3.8.5"
  }
 },
 "nbformat": 4,
 "nbformat_minor": 5
}
