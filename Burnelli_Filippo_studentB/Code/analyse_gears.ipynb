{
 "cells": [
  {
   "cell_type": "markdown",
   "id": "c5dcb5c4",
   "metadata": {},
   "source": [
    "## Data Analysis"
   ]
  },
  {
   "cell_type": "code",
   "execution_count": 1,
   "id": "1304f8c9",
   "metadata": {},
   "outputs": [],
   "source": [
    "import pandas as pd\n",
    "import warnings\n",
    "warnings.filterwarnings('ignore')"
   ]
  },
  {
   "cell_type": "code",
   "execution_count": 5,
   "id": "d39ff16e",
   "metadata": {},
   "outputs": [],
   "source": [
    "df = pd.read_csv(\"../Data/gears_stage3.csv\", sep=',')"
   ]
  },
  {
   "cell_type": "code",
   "execution_count": 6,
   "id": "c4ea3ea5",
   "metadata": {},
   "outputs": [
    {
     "data": {
      "text/html": [
       "<div>\n",
       "<style scoped>\n",
       "    .dataframe tbody tr th:only-of-type {\n",
       "        vertical-align: middle;\n",
       "    }\n",
       "\n",
       "    .dataframe tbody tr th {\n",
       "        vertical-align: top;\n",
       "    }\n",
       "\n",
       "    .dataframe thead th {\n",
       "        text-align: right;\n",
       "    }\n",
       "</style>\n",
       "<table border=\"1\" class=\"dataframe\">\n",
       "  <thead>\n",
       "    <tr style=\"text-align: right;\">\n",
       "      <th></th>\n",
       "      <th>location</th>\n",
       "      <th>location_town</th>\n",
       "      <th>first_rental_day</th>\n",
       "      <th>return_date</th>\n",
       "      <th>gear_name</th>\n",
       "      <th>price</th>\n",
       "      <th>rental_duration</th>\n",
       "      <th>price_per_day</th>\n",
       "      <th>gear_class</th>\n",
       "    </tr>\n",
       "  </thead>\n",
       "  <tbody>\n",
       "    <tr>\n",
       "      <th>0</th>\n",
       "      <td>Grimentz – Valais</td>\n",
       "      <td>Grimentz</td>\n",
       "      <td>2023-12-15</td>\n",
       "      <td>2023-12-15</td>\n",
       "      <td>Ski Exclusive</td>\n",
       "      <td>49.5</td>\n",
       "      <td>1</td>\n",
       "      <td>49.5</td>\n",
       "      <td>ski</td>\n",
       "    </tr>\n",
       "    <tr>\n",
       "      <th>1</th>\n",
       "      <td>Grimentz – Valais</td>\n",
       "      <td>Grimentz</td>\n",
       "      <td>2023-12-15</td>\n",
       "      <td>2023-12-15</td>\n",
       "      <td>Ski Premium</td>\n",
       "      <td>34.2</td>\n",
       "      <td>1</td>\n",
       "      <td>34.2</td>\n",
       "      <td>ski</td>\n",
       "    </tr>\n",
       "    <tr>\n",
       "      <th>2</th>\n",
       "      <td>Grimentz – Valais</td>\n",
       "      <td>Grimentz</td>\n",
       "      <td>2023-12-15</td>\n",
       "      <td>2023-12-15</td>\n",
       "      <td>Telemark Ski Premium</td>\n",
       "      <td>49.5</td>\n",
       "      <td>1</td>\n",
       "      <td>49.5</td>\n",
       "      <td>ski</td>\n",
       "    </tr>\n",
       "    <tr>\n",
       "      <th>3</th>\n",
       "      <td>Grimentz – Valais</td>\n",
       "      <td>Grimentz</td>\n",
       "      <td>2023-12-15</td>\n",
       "      <td>2023-12-15</td>\n",
       "      <td>Ski Economy</td>\n",
       "      <td>26.1</td>\n",
       "      <td>1</td>\n",
       "      <td>26.1</td>\n",
       "      <td>ski</td>\n",
       "    </tr>\n",
       "  </tbody>\n",
       "</table>\n",
       "</div>"
      ],
      "text/plain": [
       "            location location_town first_rental_day return_date  \\\n",
       "0  Grimentz – Valais      Grimentz       2023-12-15  2023-12-15   \n",
       "1  Grimentz – Valais      Grimentz       2023-12-15  2023-12-15   \n",
       "2  Grimentz – Valais      Grimentz       2023-12-15  2023-12-15   \n",
       "3  Grimentz – Valais      Grimentz       2023-12-15  2023-12-15   \n",
       "\n",
       "              gear_name  price  rental_duration  price_per_day gear_class  \n",
       "0         Ski Exclusive   49.5                1           49.5        ski  \n",
       "1           Ski Premium   34.2                1           34.2        ski  \n",
       "2  Telemark Ski Premium   49.5                1           49.5        ski  \n",
       "3           Ski Economy   26.1                1           26.1        ski  "
      ]
     },
     "execution_count": 6,
     "metadata": {},
     "output_type": "execute_result"
    }
   ],
   "source": [
    "df.head(4)"
   ]
  },
  {
   "cell_type": "code",
   "execution_count": 9,
   "id": "1e5f58f7",
   "metadata": {},
   "outputs": [],
   "source": [
    "df_selection = df[['location_town', 'price_per_day']][df['gear_name'].str.lower() == \"ski premium\"]"
   ]
  },
  {
   "cell_type": "code",
   "execution_count": 11,
   "id": "cd441abe",
   "metadata": {
    "scrolled": true
   },
   "outputs": [],
   "source": [
    "df_prices = df_selection.groupby('location_town')['price_per_day'].mean().reset_index()"
   ]
  },
  {
   "cell_type": "code",
   "execution_count": 13,
   "id": "92fd1e74",
   "metadata": {},
   "outputs": [
    {
     "data": {
      "text/plain": [
       "<Axes: >"
      ]
     },
     "execution_count": 13,
     "metadata": {},
     "output_type": "execute_result"
    },
    {
     "data": {
      "image/png": "[encoded data removed]",
      "text/plain": [
       "<Figure size 640x480 with 1 Axes>"
      ]
     },
     "metadata": {},
     "output_type": "display_data"
    }
   ],
   "source": [
    "df_prices.boxplot(column='price_per_day', grid=False)\n"
   ]
  },
  {
   "cell_type": "code",
   "execution_count": 15,
   "id": "bcc34f66",
   "metadata": {},
   "outputs": [
    {
     "data": {
      "text/plain": [
       "location_town    Sils i.E.\n",
       "price_per_day        49.95\n",
       "Name: 30, dtype: object"
      ]
     },
     "execution_count": 15,
     "metadata": {},
     "output_type": "execute_result"
    }
   ],
   "source": [
    "df_prices.loc[df_prices['price_per_day'].idxmax()]\n"
   ]
  },
  {
   "cell_type": "code",
   "execution_count": 16,
   "id": "d4f91761",
   "metadata": {},
   "outputs": [
    {
     "data": {
      "text/plain": [
       "location_town    Buttes La Robella\n",
       "price_per_day                25.55\n",
       "Name: 5, dtype: object"
      ]
     },
     "execution_count": 16,
     "metadata": {},
     "output_type": "execute_result"
    }
   ],
   "source": [
    "df_prices.loc[df_prices['price_per_day'].idxmin()]\n"
   ]
  },
  {
   "cell_type": "code",
   "execution_count": null,
   "id": "66435d0a",
   "metadata": {},
   "outputs": [],
   "source": []
  },
  {
   "cell_type": "code",
   "execution_count": null,
   "id": "c1833889",
   "metadata": {},
   "outputs": [],
   "source": []
  }
 ],
 "metadata": {
  "kernelspec": {
   "display_name": "Python 3.9 (cv)",
   "language": "python",
   "name": "cv"
  },
  "language_info": {
   "codemirror_mode": {
    "name": "ipython",
    "version": 3
   },
   "file_extension": ".py",
   "mimetype": "text/x-python",
   "name": "python",
   "nbconvert_exporter": "python",
   "pygments_lexer": "ipython3",
   "version": "3.8.5"
  }
 },
 "nbformat": 4,
 "nbformat_minor": 5
}
