{
 "cells": [
  {
   "cell_type": "markdown",
   "id": "83dabff3",
   "metadata": {},
   "source": [
    "# Data Analysis \n",
    "- Exploration\n",
    "\n",
    "\n"
   ]
  },
  {
   "cell_type": "markdown",
   "id": "25ac0ed6-c737-4501-a654-1c21f76f13a5",
   "metadata": {},
   "source": [
    "## Read Data"
   ]
  },
  {
   "cell_type": "code",
   "execution_count": 146,
   "id": "fd941156",
   "metadata": {},
   "outputs": [],
   "source": [
    "import pandas as pd\n",
    "import warnings\n",
    "import mariadb\n",
    "import matplotlib.pyplot as plt\n",
    "\n",
    "warnings.filterwarnings('ignore')"
   ]
  },
  {
   "cell_type": "code",
   "execution_count": 147,
   "id": "03df6e1a-6d22-4110-aa5a-c7fe56da86eb",
   "metadata": {},
   "outputs": [],
   "source": [
    "username = 'cip_user'\n",
    "password = 'cip_pw'\n",
    "database_name = 'CIP'\n",
    "\n",
    "conn = mariadb.connect(\n",
    "        user=username,\n",
    "        password=password,\n",
    "        host=\"localhost\",\n",
    "        port=3306,\n",
    "        database=database_name\n",
    "    )\n",
    "mycursor = conn.cursor()\n",
    "\n",
    "df = pd.read_sql_query(\"\"\"SELECT \n",
    "                                resort,location_key,first_rental_day,return_date,gear_name,price,rental_duration,price_per_day,gear_class\n",
    "                       \n",
    "                                 FROM merged;\"\"\", conn)\n",
    "df = pd.read_csv(\"../Data/merged.csv\", sep=',')\n",
    "conn.close()"
   ]
  },
  {
   "cell_type": "code",
   "execution_count": null,
   "id": "55ef192d",
   "metadata": {
    "scrolled": true
   },
   "outputs": [],
   "source": []
  },
  {
   "cell_type": "markdown",
   "id": "82fcd74d-d0b3-4016-8a04-5e8ba37cabaf",
   "metadata": {},
   "source": [
    "## 1) How many Resorts with an Intersport in town?"
   ]
  },
  {
   "cell_type": "code",
   "execution_count": 148,
   "id": "b239e574-06b6-4fa5-81a7-edb8da7aa97b",
   "metadata": {},
   "outputs": [],
   "source": [
    "filtered_df = df[df['rental_duration'].notnull()]\n",
    "s=f\"\"\"Number of Resorts with an Intersport in town: {len(filtered_df['Resort'].unique())} \"\"\"\n"
   ]
  },
  {
   "cell_type": "code",
   "execution_count": 149,
   "id": "2727780d-d4e1-473e-b065-11cf504e2c55",
   "metadata": {},
   "outputs": [
    {
     "data": {
      "text/markdown": [
       "<br/><br/><br/><strong>Number of Resorts with an Intersport in town: 44 </strong><br/><br/><br/>"
      ],
      "text/plain": [
       "<IPython.core.display.Markdown object>"
      ]
     },
     "execution_count": 149,
     "metadata": {},
     "output_type": "execute_result"
    }
   ],
   "source": [
    "from IPython.display import display, Markdown\n",
    "Markdown('<br/><br/><br/><strong>{}</strong><br/><br/><br/>'.format( s))"
   ]
  },
  {
   "cell_type": "markdown",
   "id": "b98f7d47-4dfa-4a1a-b22a-5ca7d0be5638",
   "metadata": {},
   "source": [
    "## 2) How does the accommodation price differ based on location?  "
   ]
  },
  {
   "cell_type": "markdown",
   "id": "bc2e5877-1ade-4574-8431-15d00d6a236e",
   "metadata": {},
   "source": [
    "For answering the question, we would use the comparable price column. Which is ratio of rate (i.e the price of the accomodation for a night including all additional expenses like cleaning, tax and offers) to persons (i.e the number of people that can share the accomodation at the same time). This is done to adjust so that bigger places are not considered expensive just because they are more spacious."
   ]
  },
  {
   "cell_type": "code",
   "execution_count": 150,
   "id": "055b5610-1c50-47a1-bcaf-a1b91ea22baa",
   "metadata": {},
   "outputs": [],
   "source": [
    "price_per_location = df.groupby('location').agg({'comparable price':'mean', 'surcharge':'mean' })#.sort_values(by='comparable price')"
   ]
  },
  {
   "cell_type": "code",
   "execution_count": 151,
   "id": "74beee90-5626-4acf-bb1d-1140d19fe735",
   "metadata": {},
   "outputs": [
    {
     "data": {
      "text/plain": [
       "<Axes: >"
      ]
     },
     "execution_count": 151,
     "metadata": {},
     "output_type": "execute_result"
    },
    {
     "data": {
      "image/png": "[encoded data removed]",
      "text/plain": [
       "<Figure size 640x480 with 1 Axes>"
      ]
     },
     "metadata": {},
     "output_type": "display_data"
    }
   ],
   "source": [
    "price_per_location.boxplot(column='comparable price',grid=False)"
   ]
  },
  {
   "cell_type": "markdown",
   "id": "0a24275d-b52a-4b8b-9594-8d97883f926a",
   "metadata": {},
   "source": [
    "## 3) Highest/Lowest Combined price per night"
   ]
  },
  {
   "cell_type": "markdown",
   "id": "7e626eda-d3c0-4e6b-b189-508e8244d7ae",
   "metadata": {},
   "source": [
    "### 3 Most Expensive Location (with INTERSPORT)"
   ]
  },
  {
   "cell_type": "code",
   "execution_count": 152,
   "id": "4b1ae7e0-c5b8-4c90-b44a-902e33644bed",
   "metadata": {},
   "outputs": [
    {
     "data": {
      "text/plain": [
       "Location\n",
       "St. Moritz – Graubünden    145.83\n",
       "Gstaad – Bern Region       139.53\n",
       "Arosa – Graubünden         132.79\n",
       "Name: sum_prices, dtype: float64"
      ]
     },
     "execution_count": 152,
     "metadata": {},
     "output_type": "execute_result"
    }
   ],
   "source": [
    "df_ski_premium = df[df['gear_name'] == 'Ski Premium']\n",
    "df_ski_premium['adult - CHF'] = pd.to_numeric(df_ski_premium['adult - CHF'], errors='coerce')\n",
    "\n",
    "df_ski_premium = df_ski_premium[[\"Resort\",\"Location\",\"comparable price\",\"price_per_day\",\"adult - CHF\"]]\n",
    "df_ski_premium['sum_prices'] =df_ski_premium['price_per_day'] + df_ski_premium['comparable price']\n",
    "\n",
    "sum_prices_by_location = df_ski_premium.groupby('Location')['sum_prices'].mean()\n",
    "sum_prices_by_location.sort_values(ascending=False).round(2).head(3)\n"
   ]
  },
  {
   "cell_type": "markdown",
   "id": "45a21379-186b-40ee-8d7d-bfa597a6ceb2",
   "metadata": {},
   "source": [
    "### 3 Most Expensive Location (NO Intersport in town )"
   ]
  },
  {
   "cell_type": "code",
   "execution_count": 153,
   "id": "aae96746-3615-4a1a-b1fe-04fd818d9288",
   "metadata": {
    "scrolled": true
   },
   "outputs": [
    {
     "data": {
      "text/plain": [
       "Location\n",
       "Zermatt – Valais                              103.07\n",
       "Verbier – Valais                               97.23\n",
       "Hoch-Ybrig – Lucerne - Lake Lucerne Region     92.00\n",
       "Name: sum_prices, dtype: float64"
      ]
     },
     "execution_count": 153,
     "metadata": {},
     "output_type": "execute_result"
    }
   ],
   "source": [
    "df_null_gear = df[df['gear_name'].isnull()]\n",
    "df_null_gear['adult - CHF'] = pd.to_numeric(df_null_gear['adult - CHF'], errors='coerce')\n",
    "df_null_gear = df_null_gear[[\"Resort\",\"Location\",\"comparable price\",\"price_per_day\",\"adult - CHF\"]]\n",
    "df_null_gear['sum_prices'] = df_null_gear['comparable price']\n",
    "sum_prices_by_location = df_null_gear.groupby('Location')['sum_prices'].mean().dropna()\n",
    "sum_prices_by_location.sort_values(ascending=False).round(2).head(3)"
   ]
  },
  {
   "cell_type": "markdown",
   "id": "4eb31cf3-f259-4ce8-8caa-19693735a4be",
   "metadata": {},
   "source": [
    "### 3  Cheapest (with INTERSPORT)"
   ]
  },
  {
   "cell_type": "code",
   "execution_count": 154,
   "id": "e5a5c0d6-3eda-443a-989c-0327f97cd902",
   "metadata": {
    "scrolled": true
   },
   "outputs": [
    {
     "data": {
      "text/plain": [
       "Location\n",
       "La Roche - La Berra – Region of Fribourg    58.76\n",
       "Buttes La Robella – Jura & Three-Lakes      58.34\n",
       "La Dôle – Canton of Vaud                    50.16\n",
       "Name: sum_prices, dtype: float64"
      ]
     },
     "execution_count": 154,
     "metadata": {},
     "output_type": "execute_result"
    }
   ],
   "source": [
    "sum_prices_by_location = df_ski_premium.groupby('Location')['sum_prices'].mean().dropna()\n",
    "sum_prices_by_location.sort_values(ascending=False).round(2).tail(3)\n"
   ]
  },
  {
   "cell_type": "markdown",
   "id": "8e76add8-7ba6-4c0a-beea-7f9f00261bb7",
   "metadata": {},
   "source": [
    "### 3 Cheapest (NO INTERSPORT in town)"
   ]
  },
  {
   "cell_type": "code",
   "execution_count": 155,
   "id": "51b87cb7-4a25-4211-8b21-76b924ec1818",
   "metadata": {},
   "outputs": [
    {
     "data": {
      "text/plain": [
       "Location\n",
       "Urnäsch – Eastern Switzerland / Liechtenstein    24.60\n",
       "Carì – Ticino                                    20.56\n",
       "Bivio – Graubünden                               13.50\n",
       "Name: sum_prices, dtype: float64"
      ]
     },
     "execution_count": 155,
     "metadata": {},
     "output_type": "execute_result"
    }
   ],
   "source": [
    "sum_prices_by_location = df_null_gear.groupby('Location')['sum_prices'].mean().dropna()\n",
    "sum_prices_by_location.sort_values(ascending=False).round(2).tail(3)"
   ]
  },
  {
   "cell_type": "code",
   "execution_count": null,
   "id": "9f2c99af-c4f3-4b1f-b920-fe03ec717856",
   "metadata": {},
   "outputs": [],
   "source": []
  }
 ],
 "metadata": {
  "kernelspec": {
   "display_name": "Python 3 (ipykernel)",
   "language": "python",
   "name": "python3"
  },
  "language_info": {
   "codemirror_mode": {
    "name": "ipython",
    "version": 3
   },
   "file_extension": ".py",
   "mimetype": "text/x-python",
   "name": "python",
   "nbconvert_exporter": "python",
   "pygments_lexer": "ipython3",
   "version": "3.10.12"
  }
 },
 "nbformat": 4,
 "nbformat_minor": 5
}
