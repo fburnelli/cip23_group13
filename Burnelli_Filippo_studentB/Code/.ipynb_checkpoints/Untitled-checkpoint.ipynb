{
 "cells": [
  {
   "cell_type": "code",
   "execution_count": 12,
   "id": "87979897",
   "metadata": {},
   "outputs": [],
   "source": [
    "import pandas as pd"
   ]
  },
  {
   "cell_type": "code",
   "execution_count": 13,
   "id": "f540f97a",
   "metadata": {},
   "outputs": [],
   "source": [
    "df = pd.read_csv(\"../Data/gears_stage1.csv\", sep=',')"
   ]
  },
  {
   "cell_type": "code",
   "execution_count": 14,
   "id": "25dbab18",
   "metadata": {
    "scrolled": true
   },
   "outputs": [
    {
     "data": {
      "text/html": [
       "<div>\n",
       "<style scoped>\n",
       "    .dataframe tbody tr th:only-of-type {\n",
       "        vertical-align: middle;\n",
       "    }\n",
       "\n",
       "    .dataframe tbody tr th {\n",
       "        vertical-align: top;\n",
       "    }\n",
       "\n",
       "    .dataframe thead th {\n",
       "        text-align: right;\n",
       "    }\n",
       "</style>\n",
       "<table border=\"1\" class=\"dataframe\">\n",
       "  <thead>\n",
       "    <tr style=\"text-align: right;\">\n",
       "      <th></th>\n",
       "      <th>location</th>\n",
       "      <th>location_town</th>\n",
       "      <th>first_rental_day</th>\n",
       "      <th>return_date</th>\n",
       "      <th>gear_name</th>\n",
       "      <th>description</th>\n",
       "      <th>price</th>\n",
       "    </tr>\n",
       "  </thead>\n",
       "  <tbody>\n",
       "    <tr>\n",
       "      <th>0</th>\n",
       "      <td>Grimentz – Valais</td>\n",
       "      <td>Grimentz</td>\n",
       "      <td>2023-12-15</td>\n",
       "      <td>2023-12-15</td>\n",
       "      <td>Ski Exclusive</td>\n",
       "      <td>Highest Quality &amp; innovative technology__Direc...</td>\n",
       "      <td>CHF 49.50</td>\n",
       "    </tr>\n",
       "    <tr>\n",
       "      <th>1</th>\n",
       "      <td>Grimentz – Valais</td>\n",
       "      <td>Grimentz</td>\n",
       "      <td>2023-12-15</td>\n",
       "      <td>2023-12-15</td>\n",
       "      <td>Ski Premium</td>\n",
       "      <td>For sporty bargain hunters__A ton of fun on th...</td>\n",
       "      <td>CHF 34.20</td>\n",
       "    </tr>\n",
       "    <tr>\n",
       "      <th>2</th>\n",
       "      <td>Grimentz – Valais</td>\n",
       "      <td>Grimentz</td>\n",
       "      <td>2023-12-15</td>\n",
       "      <td>2023-12-15</td>\n",
       "      <td>Telemark Ski Premium</td>\n",
       "      <td>Type according to availability;</td>\n",
       "      <td>CHF 49.50</td>\n",
       "    </tr>\n",
       "    <tr>\n",
       "      <th>3</th>\n",
       "      <td>Grimentz – Valais</td>\n",
       "      <td>Grimentz</td>\n",
       "      <td>2023-12-15</td>\n",
       "      <td>2023-12-15</td>\n",
       "      <td>Ski Economy</td>\n",
       "      <td>For the price-conscious__Type according to ava...</td>\n",
       "      <td>CHF 26.10</td>\n",
       "    </tr>\n",
       "    <tr>\n",
       "      <th>4</th>\n",
       "      <td>Grimentz – Valais</td>\n",
       "      <td>Grimentz</td>\n",
       "      <td>2023-12-15</td>\n",
       "      <td>2023-12-15</td>\n",
       "      <td>Skiboots premium</td>\n",
       "      <td>Direct force transmission__High Comfort &amp; perf...</td>\n",
       "      <td>CHF 17.10</td>\n",
       "    </tr>\n",
       "  </tbody>\n",
       "</table>\n",
       "</div>"
      ],
      "text/plain": [
       "            location location_town first_rental_day return_date  \\\n",
       "0  Grimentz – Valais     Grimentz        2023-12-15  2023-12-15   \n",
       "1  Grimentz – Valais     Grimentz        2023-12-15  2023-12-15   \n",
       "2  Grimentz – Valais     Grimentz        2023-12-15  2023-12-15   \n",
       "3  Grimentz – Valais     Grimentz        2023-12-15  2023-12-15   \n",
       "4  Grimentz – Valais     Grimentz        2023-12-15  2023-12-15   \n",
       "\n",
       "              gear_name                                        description  \\\n",
       "0         Ski Exclusive  Highest Quality & innovative technology__Direc...   \n",
       "1           Ski Premium  For sporty bargain hunters__A ton of fun on th...   \n",
       "2  Telemark Ski Premium                    Type according to availability;   \n",
       "3           Ski Economy  For the price-conscious__Type according to ava...   \n",
       "4      Skiboots premium  Direct force transmission__High Comfort & perf...   \n",
       "\n",
       "       price  \n",
       "0  CHF 49.50  \n",
       "1  CHF 34.20  \n",
       "2  CHF 49.50  \n",
       "3  CHF 26.10  \n",
       "4  CHF 17.10  "
      ]
     },
     "execution_count": 14,
     "metadata": {},
     "output_type": "execute_result"
    }
   ],
   "source": [
    "df.head(5)"
   ]
  },
  {
   "cell_type": "code",
   "execution_count": 15,
   "id": "ec0b455b",
   "metadata": {
    "scrolled": true
   },
   "outputs": [
    {
     "name": "stdout",
     "output_type": "stream",
     "text": [
      "<class 'pandas.core.frame.DataFrame'>\n",
      "RangeIndex: 1782 entries, 0 to 1781\n",
      "Data columns (total 7 columns):\n",
      " #   Column            Non-Null Count  Dtype \n",
      "---  ------            --------------  ----- \n",
      " 0   location          1782 non-null   object\n",
      " 1   location_town     1782 non-null   object\n",
      " 2   first_rental_day  1782 non-null   object\n",
      " 3   return_date       1782 non-null   object\n",
      " 4   gear_name         1782 non-null   object\n",
      " 5   description       1782 non-null   object\n",
      " 6   price             1782 non-null   object\n",
      "dtypes: object(7)\n",
      "memory usage: 97.6+ KB\n"
     ]
    }
   ],
   "source": [
    "df.info()"
   ]
  },
  {
   "cell_type": "code",
   "execution_count": 16,
   "id": "d329c84a",
   "metadata": {
    "scrolled": true
   },
   "outputs": [
    {
     "data": {
      "text/html": [
       "<div>\n",
       "<style scoped>\n",
       "    .dataframe tbody tr th:only-of-type {\n",
       "        vertical-align: middle;\n",
       "    }\n",
       "\n",
       "    .dataframe tbody tr th {\n",
       "        vertical-align: top;\n",
       "    }\n",
       "\n",
       "    .dataframe thead th {\n",
       "        text-align: right;\n",
       "    }\n",
       "</style>\n",
       "<table border=\"1\" class=\"dataframe\">\n",
       "  <thead>\n",
       "    <tr style=\"text-align: right;\">\n",
       "      <th></th>\n",
       "      <th>location</th>\n",
       "      <th>location_town</th>\n",
       "      <th>first_rental_day</th>\n",
       "      <th>return_date</th>\n",
       "      <th>gear_name</th>\n",
       "      <th>description</th>\n",
       "      <th>price</th>\n",
       "    </tr>\n",
       "  </thead>\n",
       "  <tbody>\n",
       "    <tr>\n",
       "      <th>count</th>\n",
       "      <td>1782</td>\n",
       "      <td>1782</td>\n",
       "      <td>1782</td>\n",
       "      <td>1782</td>\n",
       "      <td>1782</td>\n",
       "      <td>1782</td>\n",
       "      <td>1782</td>\n",
       "    </tr>\n",
       "    <tr>\n",
       "      <th>unique</th>\n",
       "      <td>44</td>\n",
       "      <td>44</td>\n",
       "      <td>1</td>\n",
       "      <td>3</td>\n",
       "      <td>74</td>\n",
       "      <td>69</td>\n",
       "      <td>288</td>\n",
       "    </tr>\n",
       "    <tr>\n",
       "      <th>top</th>\n",
       "      <td>Villars-sur-Ollon – Canton of Vaud</td>\n",
       "      <td>Villars-sur-Ollon</td>\n",
       "      <td>2023-12-15</td>\n",
       "      <td>2023-12-16</td>\n",
       "      <td>Ski Economy</td>\n",
       "      <td>Type according to availability;</td>\n",
       "      <td>CHF 5.00</td>\n",
       "    </tr>\n",
       "    <tr>\n",
       "      <th>freq</th>\n",
       "      <td>96</td>\n",
       "      <td>96</td>\n",
       "      <td>1782</td>\n",
       "      <td>619</td>\n",
       "      <td>124</td>\n",
       "      <td>184</td>\n",
       "      <td>91</td>\n",
       "    </tr>\n",
       "  </tbody>\n",
       "</table>\n",
       "</div>"
      ],
      "text/plain": [
       "                                  location       location_town  \\\n",
       "count                                 1782                1782   \n",
       "unique                                  44                  44   \n",
       "top     Villars-sur-Ollon – Canton of Vaud  Villars-sur-Ollon    \n",
       "freq                                    96                  96   \n",
       "\n",
       "       first_rental_day return_date    gear_name  \\\n",
       "count              1782        1782         1782   \n",
       "unique                1           3           74   \n",
       "top          2023-12-15  2023-12-16  Ski Economy   \n",
       "freq               1782         619          124   \n",
       "\n",
       "                            description     price  \n",
       "count                              1782      1782  \n",
       "unique                               69       288  \n",
       "top     Type according to availability;  CHF 5.00  \n",
       "freq                                184        91  "
      ]
     },
     "execution_count": 16,
     "metadata": {},
     "output_type": "execute_result"
    }
   ],
   "source": [
    "df.describe()"
   ]
  },
  {
   "cell_type": "code",
   "execution_count": 17,
   "id": "8515536b",
   "metadata": {},
   "outputs": [
    {
     "ename": "SyntaxError",
     "evalue": "invalid syntax (1561358544.py, line 1)",
     "output_type": "error",
     "traceback": [
      "\u001b[0;36m  Cell \u001b[0;32mIn[17], line 1\u001b[0;36m\u001b[0m\n\u001b[0;31m    rental duration\u001b[0m\n\u001b[0m           ^\u001b[0m\n\u001b[0;31mSyntaxError\u001b[0m\u001b[0;31m:\u001b[0m invalid syntax\n"
     ]
    }
   ],
   "source": []
  },
  {
   "cell_type": "code",
   "execution_count": null,
   "id": "ed6dbadb",
   "metadata": {},
   "outputs": [],
   "source": [
    "rental duration"
   ]
  }
 ],
 "metadata": {
  "kernelspec": {
   "display_name": "Python 3.9 (cv)",
   "language": "python",
   "name": "cv"
  },
  "language_info": {
   "codemirror_mode": {
    "name": "ipython",
    "version": 3
   },
   "file_extension": ".py",
   "mimetype": "text/x-python",
   "name": "python",
   "nbconvert_exporter": "python",
   "pygments_lexer": "ipython3",
   "version": "3.8.5"
  }
 },
 "nbformat": 4,
 "nbformat_minor": 5
}
