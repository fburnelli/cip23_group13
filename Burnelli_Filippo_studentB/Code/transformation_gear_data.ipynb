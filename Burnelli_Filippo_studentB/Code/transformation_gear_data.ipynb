{
 "cells": [
  {
   "cell_type": "markdown",
   "id": "dcd2e4eb",
   "metadata": {},
   "source": [
    "# Cleaning & transformation\n",
    "This notebook performs data cleaning, data transformation and persist the result csv in gears_stage3.csv. \n",
    "## CLEANING\n",
    "- 1) Data types adjustment\n",
    "    - Columns: first_rental_day,return_date,price)\n",
    "    - Rows: All\n",
    "- 2) Remove Currency (ex. CHF 99.99 )\n",
    "    - Columns: ,price\n",
    "    - Rows: All\n",
    "- 3) Irrelevant column values\n",
    "    - Columns: gear_name (not relevant as product or a service to be rented(like \"Cancellation option\"))\n",
    "    - Rows: 80 Rows\n",
    "- 4) location_town Correction: remove Canton from gemeinde (Ex. Aeschi BE)\n",
    "    - Columns: first_rental_day,return_date,price)\n",
    "    - Rows: 66\n",
    "- 5) String strip spaces,etc.\n",
    "    - Columns: gear_name,location.location_town\n",
    "    - Rows: All\n",
    "- 5) String lowercase\n",
    "    - Columns: gear_name\n",
    "    - Rows: All\n",
    "- 7) Drop irrelevant columns \n",
    "    - Columns: gear free text description (gear_description)\n",
    "    - Rows: All\n",
    "\n",
    "<b>Not handled cause OK</b>: Missing Values, Duplicates, Zero Values, Outliars\n",
    "\n",
    "## TRANSFORM\n",
    "- 1) Rent duration: Calculated  rental duration in Days\n",
    "- 2) Daily Rent Price calculated: Rent price per day\n",
    "- 3) Gear Class: Determine a more generic gear class the gear belong to"
   ]
  },
  {
   "cell_type": "code",
   "execution_count": 371,
   "id": "87979897",
   "metadata": {},
   "outputs": [],
   "source": [
    "import pandas as pd\n",
    "import warnings\n",
    "warnings.filterwarnings('ignore')"
   ]
  },
  {
   "cell_type": "code",
   "execution_count": 372,
   "id": "f540f97a",
   "metadata": {},
   "outputs": [],
   "source": [
    "df = pd.read_csv(\"../Data/gears_stage1.csv\", sep=',')"
   ]
  },
  {
   "cell_type": "markdown",
   "id": "b1c5f97a",
   "metadata": {},
   "source": [
    "### basic exploration"
   ]
  },
  {
   "cell_type": "code",
   "execution_count": 373,
   "id": "7842a7e5",
   "metadata": {
    "scrolled": true
   },
   "outputs": [
    {
     "data": {
      "text/html": [
       "<div>\n",
       "<style scoped>\n",
       "    .dataframe tbody tr th:only-of-type {\n",
       "        vertical-align: middle;\n",
       "    }\n",
       "\n",
       "    .dataframe tbody tr th {\n",
       "        vertical-align: top;\n",
       "    }\n",
       "\n",
       "    .dataframe thead th {\n",
       "        text-align: right;\n",
       "    }\n",
       "</style>\n",
       "<table border=\"1\" class=\"dataframe\">\n",
       "  <thead>\n",
       "    <tr style=\"text-align: right;\">\n",
       "      <th></th>\n",
       "      <th>location</th>\n",
       "      <th>location_town</th>\n",
       "      <th>first_rental_day</th>\n",
       "      <th>return_date</th>\n",
       "      <th>gear_name</th>\n",
       "      <th>description</th>\n",
       "      <th>price</th>\n",
       "    </tr>\n",
       "  </thead>\n",
       "  <tbody>\n",
       "    <tr>\n",
       "      <th>0</th>\n",
       "      <td>Grimentz – Valais</td>\n",
       "      <td>Grimentz</td>\n",
       "      <td>2023-12-15</td>\n",
       "      <td>2023-12-15</td>\n",
       "      <td>Ski Exclusive</td>\n",
       "      <td>Highest Quality &amp; innovative technology__Direc...</td>\n",
       "      <td>CHF 49.50</td>\n",
       "    </tr>\n",
       "    <tr>\n",
       "      <th>1</th>\n",
       "      <td>Grimentz – Valais</td>\n",
       "      <td>Grimentz</td>\n",
       "      <td>2023-12-15</td>\n",
       "      <td>2023-12-15</td>\n",
       "      <td>Ski Premium</td>\n",
       "      <td>For sporty bargain hunters__A ton of fun on th...</td>\n",
       "      <td>CHF 34.20</td>\n",
       "    </tr>\n",
       "    <tr>\n",
       "      <th>2</th>\n",
       "      <td>Grimentz – Valais</td>\n",
       "      <td>Grimentz</td>\n",
       "      <td>2023-12-15</td>\n",
       "      <td>2023-12-15</td>\n",
       "      <td>Telemark Ski Premium</td>\n",
       "      <td>Type according to availability;</td>\n",
       "      <td>CHF 49.50</td>\n",
       "    </tr>\n",
       "    <tr>\n",
       "      <th>3</th>\n",
       "      <td>Grimentz – Valais</td>\n",
       "      <td>Grimentz</td>\n",
       "      <td>2023-12-15</td>\n",
       "      <td>2023-12-15</td>\n",
       "      <td>Ski Economy</td>\n",
       "      <td>For the price-conscious__Type according to ava...</td>\n",
       "      <td>CHF 26.10</td>\n",
       "    </tr>\n",
       "  </tbody>\n",
       "</table>\n",
       "</div>"
      ],
      "text/plain": [
       "            location location_town first_rental_day return_date  \\\n",
       "0  Grimentz – Valais     Grimentz        2023-12-15  2023-12-15   \n",
       "1  Grimentz – Valais     Grimentz        2023-12-15  2023-12-15   \n",
       "2  Grimentz – Valais     Grimentz        2023-12-15  2023-12-15   \n",
       "3  Grimentz – Valais     Grimentz        2023-12-15  2023-12-15   \n",
       "\n",
       "              gear_name                                        description  \\\n",
       "0         Ski Exclusive  Highest Quality & innovative technology__Direc...   \n",
       "1           Ski Premium  For sporty bargain hunters__A ton of fun on th...   \n",
       "2  Telemark Ski Premium                    Type according to availability;   \n",
       "3           Ski Economy  For the price-conscious__Type according to ava...   \n",
       "\n",
       "       price  \n",
       "0  CHF 49.50  \n",
       "1  CHF 34.20  \n",
       "2  CHF 49.50  \n",
       "3  CHF 26.10  "
      ]
     },
     "execution_count": 373,
     "metadata": {},
     "output_type": "execute_result"
    }
   ],
   "source": [
    "df.head(4)"
   ]
  },
  {
   "cell_type": "code",
   "execution_count": 374,
   "id": "9c5f852a",
   "metadata": {
    "scrolled": true
   },
   "outputs": [
    {
     "data": {
      "text/html": [
       "<div>\n",
       "<style scoped>\n",
       "    .dataframe tbody tr th:only-of-type {\n",
       "        vertical-align: middle;\n",
       "    }\n",
       "\n",
       "    .dataframe tbody tr th {\n",
       "        vertical-align: top;\n",
       "    }\n",
       "\n",
       "    .dataframe thead th {\n",
       "        text-align: right;\n",
       "    }\n",
       "</style>\n",
       "<table border=\"1\" class=\"dataframe\">\n",
       "  <thead>\n",
       "    <tr style=\"text-align: right;\">\n",
       "      <th></th>\n",
       "      <th>location</th>\n",
       "      <th>location_town</th>\n",
       "      <th>first_rental_day</th>\n",
       "      <th>return_date</th>\n",
       "      <th>gear_name</th>\n",
       "      <th>description</th>\n",
       "      <th>price</th>\n",
       "    </tr>\n",
       "  </thead>\n",
       "  <tbody>\n",
       "    <tr>\n",
       "      <th>count</th>\n",
       "      <td>1654</td>\n",
       "      <td>1654</td>\n",
       "      <td>1654</td>\n",
       "      <td>1654</td>\n",
       "      <td>1654</td>\n",
       "      <td>1654</td>\n",
       "      <td>1654</td>\n",
       "    </tr>\n",
       "    <tr>\n",
       "      <th>unique</th>\n",
       "      <td>44</td>\n",
       "      <td>44</td>\n",
       "      <td>1</td>\n",
       "      <td>3</td>\n",
       "      <td>74</td>\n",
       "      <td>69</td>\n",
       "      <td>288</td>\n",
       "    </tr>\n",
       "    <tr>\n",
       "      <th>top</th>\n",
       "      <td>Silvaplana – Graubünden</td>\n",
       "      <td>Silvaplana</td>\n",
       "      <td>2023-12-15</td>\n",
       "      <td>2023-12-15</td>\n",
       "      <td>Ski Economy</td>\n",
       "      <td>Type according to availability;</td>\n",
       "      <td>CHF 5.00</td>\n",
       "    </tr>\n",
       "    <tr>\n",
       "      <th>freq</th>\n",
       "      <td>69</td>\n",
       "      <td>69</td>\n",
       "      <td>1654</td>\n",
       "      <td>573</td>\n",
       "      <td>113</td>\n",
       "      <td>164</td>\n",
       "      <td>80</td>\n",
       "    </tr>\n",
       "  </tbody>\n",
       "</table>\n",
       "</div>"
      ],
      "text/plain": [
       "                       location location_town first_rental_day return_date  \\\n",
       "count                      1654          1654             1654        1654   \n",
       "unique                       44            44                1           3   \n",
       "top     Silvaplana – Graubünden   Silvaplana        2023-12-15  2023-12-15   \n",
       "freq                         69            69             1654         573   \n",
       "\n",
       "          gear_name                      description     price  \n",
       "count          1654                             1654      1654  \n",
       "unique           74                               69       288  \n",
       "top     Ski Economy  Type according to availability;  CHF 5.00  \n",
       "freq            113                              164        80  "
      ]
     },
     "execution_count": 374,
     "metadata": {},
     "output_type": "execute_result"
    }
   ],
   "source": [
    "df.describe()"
   ]
  },
  {
   "cell_type": "code",
   "execution_count": 375,
   "id": "4737260e",
   "metadata": {
    "scrolled": true
   },
   "outputs": [
    {
     "name": "stdout",
     "output_type": "stream",
     "text": [
      "<class 'pandas.core.frame.DataFrame'>\n",
      "RangeIndex: 1654 entries, 0 to 1653\n",
      "Data columns (total 7 columns):\n",
      " #   Column            Non-Null Count  Dtype \n",
      "---  ------            --------------  ----- \n",
      " 0   location          1654 non-null   object\n",
      " 1   location_town     1654 non-null   object\n",
      " 2   first_rental_day  1654 non-null   object\n",
      " 3   return_date       1654 non-null   object\n",
      " 4   gear_name         1654 non-null   object\n",
      " 5   description       1654 non-null   object\n",
      " 6   price             1654 non-null   object\n",
      "dtypes: object(7)\n",
      "memory usage: 90.6+ KB\n"
     ]
    }
   ],
   "source": [
    "df.info()"
   ]
  },
  {
   "cell_type": "markdown",
   "id": "14ee567a",
   "metadata": {},
   "source": [
    "## Checking if  Missing Values\n",
    "There are no Missing Data so we don't have to decide if want to drop data or to decide an imputation strategy."
   ]
  },
  {
   "cell_type": "code",
   "execution_count": 376,
   "id": "31370abc",
   "metadata": {},
   "outputs": [
    {
     "data": {
      "text/plain": [
       "location            0\n",
       "location_town       0\n",
       "first_rental_day    0\n",
       "return_date         0\n",
       "gear_name           0\n",
       "description         0\n",
       "price               0\n",
       "dtype: int64"
      ]
     },
     "execution_count": 376,
     "metadata": {},
     "output_type": "execute_result"
    }
   ],
   "source": [
    "df.isnull().sum()"
   ]
  },
  {
   "cell_type": "markdown",
   "id": "4c5b8987",
   "metadata": {},
   "source": [
    "## Duplicated: check for duplicates\n",
    "No duplicated found so no need to apply a strategy for duplicates."
   ]
  },
  {
   "cell_type": "code",
   "execution_count": 377,
   "id": "08bdb3e0",
   "metadata": {},
   "outputs": [
    {
     "data": {
      "text/plain": [
       "0"
      ]
     },
     "execution_count": 377,
     "metadata": {},
     "output_type": "execute_result"
    }
   ],
   "source": [
    "df.duplicated().sum()"
   ]
  },
  {
   "cell_type": "markdown",
   "id": "6156b8cf",
   "metadata": {},
   "source": [
    "## Data Types check\n"
   ]
  },
  {
   "cell_type": "code",
   "execution_count": 378,
   "id": "cdf02bd3",
   "metadata": {
    "scrolled": false
   },
   "outputs": [
    {
     "name": "stdout",
     "output_type": "stream",
     "text": [
      "<class 'pandas.core.frame.DataFrame'>\n",
      "RangeIndex: 1654 entries, 0 to 1653\n",
      "Data columns (total 7 columns):\n",
      " #   Column            Non-Null Count  Dtype \n",
      "---  ------            --------------  ----- \n",
      " 0   location          1654 non-null   object\n",
      " 1   location_town     1654 non-null   object\n",
      " 2   first_rental_day  1654 non-null   object\n",
      " 3   return_date       1654 non-null   object\n",
      " 4   gear_name         1654 non-null   object\n",
      " 5   description       1654 non-null   object\n",
      " 6   price             1654 non-null   object\n",
      "dtypes: object(7)\n",
      "memory usage: 90.6+ KB\n"
     ]
    }
   ],
   "source": [
    "df.info()"
   ]
  },
  {
   "cell_type": "markdown",
   "id": "f2107512",
   "metadata": {},
   "source": [
    "### Change in data type needed\n",
    "- first_rental_day to be casted as a DATE\n",
    "- return_date to be casted as a DATE\n",
    "- price to be transformed and casted as a FLOAT\n"
   ]
  },
  {
   "cell_type": "code",
   "execution_count": 379,
   "id": "22791a49",
   "metadata": {},
   "outputs": [],
   "source": [
    "df['first_rental_day'] = pd.to_datetime(df['first_rental_day'])\n"
   ]
  },
  {
   "cell_type": "code",
   "execution_count": 380,
   "id": "09d64510",
   "metadata": {},
   "outputs": [],
   "source": [
    "df['return_date'] = pd.to_datetime(df['return_date'])\n"
   ]
  },
  {
   "cell_type": "code",
   "execution_count": 381,
   "id": "02a838a9",
   "metadata": {},
   "outputs": [],
   "source": [
    "### Price: Wrong Format and Change data type "
   ]
  },
  {
   "cell_type": "code",
   "execution_count": 382,
   "id": "3ec0658d",
   "metadata": {
    "scrolled": false
   },
   "outputs": [
    {
     "data": {
      "text/plain": [
       "0    CHF 49.50\n",
       "1    CHF 34.20\n",
       "2    CHF 49.50\n",
       "Name: price, dtype: object"
      ]
     },
     "execution_count": 382,
     "metadata": {},
     "output_type": "execute_result"
    }
   ],
   "source": [
    "df['price'].head(3)"
   ]
  },
  {
   "cell_type": "markdown",
   "id": "81942938",
   "metadata": {},
   "source": [
    "As First step remove not numerics"
   ]
  },
  {
   "cell_type": "code",
   "execution_count": 383,
   "id": "849ae327",
   "metadata": {},
   "outputs": [],
   "source": [
    "# Remove non numeric\n",
    "df['price'] = pd.to_numeric(df['price'].replace('[^\\d.]', '', regex=True), errors='coerce')\n"
   ]
  },
  {
   "cell_type": "code",
   "execution_count": 384,
   "id": "c72e6d8b",
   "metadata": {
    "scrolled": false
   },
   "outputs": [
    {
     "data": {
      "text/plain": [
       "0    49.5\n",
       "1    34.2\n",
       "2    49.5\n",
       "3    26.1\n",
       "4    17.1\n",
       "Name: price, dtype: float64"
      ]
     },
     "execution_count": 384,
     "metadata": {},
     "output_type": "execute_result"
    }
   ],
   "source": [
    "df['price'].head(5)"
   ]
  },
  {
   "cell_type": "markdown",
   "id": "2547d85e",
   "metadata": {},
   "source": [
    "### Checkt the Types afterwards"
   ]
  },
  {
   "cell_type": "code",
   "execution_count": 385,
   "id": "b8d914b9",
   "metadata": {
    "scrolled": false
   },
   "outputs": [
    {
     "name": "stdout",
     "output_type": "stream",
     "text": [
      "<class 'pandas.core.frame.DataFrame'>\n",
      "RangeIndex: 1654 entries, 0 to 1653\n",
      "Data columns (total 7 columns):\n",
      " #   Column            Non-Null Count  Dtype         \n",
      "---  ------            --------------  -----         \n",
      " 0   location          1654 non-null   object        \n",
      " 1   location_town     1654 non-null   object        \n",
      " 2   first_rental_day  1654 non-null   datetime64[ns]\n",
      " 3   return_date       1654 non-null   datetime64[ns]\n",
      " 4   gear_name         1654 non-null   object        \n",
      " 5   description       1654 non-null   object        \n",
      " 6   price             1654 non-null   float64       \n",
      "dtypes: datetime64[ns](2), float64(1), object(4)\n",
      "memory usage: 90.6+ KB\n"
     ]
    }
   ],
   "source": [
    "df.info()"
   ]
  },
  {
   "cell_type": "code",
   "execution_count": 386,
   "id": "ea33caad",
   "metadata": {
    "scrolled": false
   },
   "outputs": [
    {
     "data": {
      "text/html": [
       "<div>\n",
       "<style scoped>\n",
       "    .dataframe tbody tr th:only-of-type {\n",
       "        vertical-align: middle;\n",
       "    }\n",
       "\n",
       "    .dataframe tbody tr th {\n",
       "        vertical-align: top;\n",
       "    }\n",
       "\n",
       "    .dataframe thead th {\n",
       "        text-align: right;\n",
       "    }\n",
       "</style>\n",
       "<table border=\"1\" class=\"dataframe\">\n",
       "  <thead>\n",
       "    <tr style=\"text-align: right;\">\n",
       "      <th></th>\n",
       "      <th>location</th>\n",
       "      <th>location_town</th>\n",
       "      <th>first_rental_day</th>\n",
       "      <th>return_date</th>\n",
       "      <th>gear_name</th>\n",
       "      <th>description</th>\n",
       "      <th>price</th>\n",
       "    </tr>\n",
       "  </thead>\n",
       "  <tbody>\n",
       "    <tr>\n",
       "      <th>0</th>\n",
       "      <td>Grimentz – Valais</td>\n",
       "      <td>Grimentz</td>\n",
       "      <td>2023-12-15</td>\n",
       "      <td>2023-12-15</td>\n",
       "      <td>Ski Exclusive</td>\n",
       "      <td>Highest Quality &amp; innovative technology__Direc...</td>\n",
       "      <td>49.5</td>\n",
       "    </tr>\n",
       "    <tr>\n",
       "      <th>1</th>\n",
       "      <td>Grimentz – Valais</td>\n",
       "      <td>Grimentz</td>\n",
       "      <td>2023-12-15</td>\n",
       "      <td>2023-12-15</td>\n",
       "      <td>Ski Premium</td>\n",
       "      <td>For sporty bargain hunters__A ton of fun on th...</td>\n",
       "      <td>34.2</td>\n",
       "    </tr>\n",
       "    <tr>\n",
       "      <th>2</th>\n",
       "      <td>Grimentz – Valais</td>\n",
       "      <td>Grimentz</td>\n",
       "      <td>2023-12-15</td>\n",
       "      <td>2023-12-15</td>\n",
       "      <td>Telemark Ski Premium</td>\n",
       "      <td>Type according to availability;</td>\n",
       "      <td>49.5</td>\n",
       "    </tr>\n",
       "    <tr>\n",
       "      <th>3</th>\n",
       "      <td>Grimentz – Valais</td>\n",
       "      <td>Grimentz</td>\n",
       "      <td>2023-12-15</td>\n",
       "      <td>2023-12-15</td>\n",
       "      <td>Ski Economy</td>\n",
       "      <td>For the price-conscious__Type according to ava...</td>\n",
       "      <td>26.1</td>\n",
       "    </tr>\n",
       "    <tr>\n",
       "      <th>4</th>\n",
       "      <td>Grimentz – Valais</td>\n",
       "      <td>Grimentz</td>\n",
       "      <td>2023-12-15</td>\n",
       "      <td>2023-12-15</td>\n",
       "      <td>Skiboots premium</td>\n",
       "      <td>Direct force transmission__High Comfort &amp; perf...</td>\n",
       "      <td>17.1</td>\n",
       "    </tr>\n",
       "  </tbody>\n",
       "</table>\n",
       "</div>"
      ],
      "text/plain": [
       "            location location_town first_rental_day return_date  \\\n",
       "0  Grimentz – Valais     Grimentz        2023-12-15  2023-12-15   \n",
       "1  Grimentz – Valais     Grimentz        2023-12-15  2023-12-15   \n",
       "2  Grimentz – Valais     Grimentz        2023-12-15  2023-12-15   \n",
       "3  Grimentz – Valais     Grimentz        2023-12-15  2023-12-15   \n",
       "4  Grimentz – Valais     Grimentz        2023-12-15  2023-12-15   \n",
       "\n",
       "              gear_name                                        description  \\\n",
       "0         Ski Exclusive  Highest Quality & innovative technology__Direc...   \n",
       "1           Ski Premium  For sporty bargain hunters__A ton of fun on th...   \n",
       "2  Telemark Ski Premium                    Type according to availability;   \n",
       "3           Ski Economy  For the price-conscious__Type according to ava...   \n",
       "4      Skiboots premium  Direct force transmission__High Comfort & perf...   \n",
       "\n",
       "   price  \n",
       "0   49.5  \n",
       "1   34.2  \n",
       "2   49.5  \n",
       "3   26.1  \n",
       "4   17.1  "
      ]
     },
     "execution_count": 386,
     "metadata": {},
     "output_type": "execute_result"
    }
   ],
   "source": [
    "df.head(5)"
   ]
  },
  {
   "cell_type": "markdown",
   "id": "6bbc4443",
   "metadata": {},
   "source": [
    "rental duration return_date"
   ]
  },
  {
   "cell_type": "code",
   "execution_count": 387,
   "id": "3a024fa1",
   "metadata": {},
   "outputs": [
    {
     "data": {
      "text/plain": [
       "count    1654.000000\n",
       "mean       46.533222\n",
       "std        33.197804\n",
       "min         5.000000\n",
       "25%        20.700000\n",
       "50%        37.600000\n",
       "75%        64.950000\n",
       "max       224.100000\n",
       "Name: price, dtype: float64"
      ]
     },
     "execution_count": 387,
     "metadata": {},
     "output_type": "execute_result"
    }
   ],
   "source": [
    "df['price'].describe()"
   ]
  },
  {
   "cell_type": "markdown",
   "id": "ec96fbdc",
   "metadata": {},
   "source": [
    "### Double check the first_rental_day return_date "
   ]
  },
  {
   "cell_type": "markdown",
   "id": "aadba73d",
   "metadata": {},
   "source": [
    "Are there \"empty\" dates? From the queries we know we have  very limited set of date"
   ]
  },
  {
   "cell_type": "code",
   "execution_count": 388,
   "id": "e9fb1b4d",
   "metadata": {
    "scrolled": true
   },
   "outputs": [
    {
     "data": {
      "text/plain": [
       "array(['2023-12-15T00:00:00.000000000'], dtype='datetime64[ns]')"
      ]
     },
     "execution_count": 388,
     "metadata": {},
     "output_type": "execute_result"
    }
   ],
   "source": [
    "df['first_rental_day'].unique()"
   ]
  },
  {
   "cell_type": "code",
   "execution_count": 389,
   "id": "fa506486",
   "metadata": {
    "scrolled": true
   },
   "outputs": [
    {
     "data": {
      "text/plain": [
       "array(['2023-12-15T00:00:00.000000000', '2023-12-16T00:00:00.000000000',\n",
       "       '2023-12-17T00:00:00.000000000'], dtype='datetime64[ns]')"
      ]
     },
     "execution_count": 389,
     "metadata": {},
     "output_type": "execute_result"
    }
   ],
   "source": [
    "df['return_date'].unique()"
   ]
  },
  {
   "cell_type": "markdown",
   "id": "7c195f94",
   "metadata": {},
   "source": [
    "Checking \"zero\" values for prices"
   ]
  },
  {
   "cell_type": "markdown",
   "id": "ea350c0d",
   "metadata": {},
   "source": [
    "## Outliar analysis"
   ]
  },
  {
   "cell_type": "markdown",
   "id": "6ff6485e",
   "metadata": {},
   "source": [
    "### Investigating  max & min price rows, may be need to be investigated as outliars"
   ]
  },
  {
   "cell_type": "markdown",
   "id": "33d4f02b",
   "metadata": {},
   "source": [
    "Investigating on lowest value"
   ]
  },
  {
   "cell_type": "code",
   "execution_count": 390,
   "id": "1cfe925b",
   "metadata": {
    "scrolled": false
   },
   "outputs": [
    {
     "data": {
      "text/html": [
       "<div>\n",
       "<style scoped>\n",
       "    .dataframe tbody tr th:only-of-type {\n",
       "        vertical-align: middle;\n",
       "    }\n",
       "\n",
       "    .dataframe tbody tr th {\n",
       "        vertical-align: top;\n",
       "    }\n",
       "\n",
       "    .dataframe thead th {\n",
       "        text-align: right;\n",
       "    }\n",
       "</style>\n",
       "<table border=\"1\" class=\"dataframe\">\n",
       "  <thead>\n",
       "    <tr style=\"text-align: right;\">\n",
       "      <th></th>\n",
       "      <th>location</th>\n",
       "      <th>location_town</th>\n",
       "      <th>first_rental_day</th>\n",
       "      <th>return_date</th>\n",
       "      <th>gear_name</th>\n",
       "      <th>description</th>\n",
       "      <th>price</th>\n",
       "    </tr>\n",
       "  </thead>\n",
       "  <tbody>\n",
       "    <tr>\n",
       "      <th>10</th>\n",
       "      <td>Grimentz – Valais</td>\n",
       "      <td>Grimentz</td>\n",
       "      <td>2023-12-15</td>\n",
       "      <td>2023-12-15</td>\n",
       "      <td>Cancellation option</td>\n",
       "      <td>With the cancellation option you can cancel yo...</td>\n",
       "      <td>5.0</td>\n",
       "    </tr>\n",
       "    <tr>\n",
       "      <th>27</th>\n",
       "      <td>Grimentz – Valais</td>\n",
       "      <td>Grimentz</td>\n",
       "      <td>2023-12-15</td>\n",
       "      <td>2023-12-16</td>\n",
       "      <td>Cancellation option</td>\n",
       "      <td>With the cancellation option you can cancel yo...</td>\n",
       "      <td>5.0</td>\n",
       "    </tr>\n",
       "    <tr>\n",
       "      <th>44</th>\n",
       "      <td>Grimentz – Valais</td>\n",
       "      <td>Grimentz</td>\n",
       "      <td>2023-12-15</td>\n",
       "      <td>2023-12-17</td>\n",
       "      <td>Cancellation option</td>\n",
       "      <td>With the cancellation option you can cancel yo...</td>\n",
       "      <td>5.0</td>\n",
       "    </tr>\n",
       "    <tr>\n",
       "      <th>57</th>\n",
       "      <td>Les Collons Thyon – Valais</td>\n",
       "      <td>Les Collons Thyon</td>\n",
       "      <td>2023-12-15</td>\n",
       "      <td>2023-12-15</td>\n",
       "      <td>Cancellation option</td>\n",
       "      <td>With the cancellation option you can cancel yo...</td>\n",
       "      <td>5.0</td>\n",
       "    </tr>\n",
       "    <tr>\n",
       "      <th>67</th>\n",
       "      <td>Les Collons Thyon – Valais</td>\n",
       "      <td>Les Collons Thyon</td>\n",
       "      <td>2023-12-15</td>\n",
       "      <td>2023-12-16</td>\n",
       "      <td>Cancellation option</td>\n",
       "      <td>With the cancellation option you can cancel yo...</td>\n",
       "      <td>5.0</td>\n",
       "    </tr>\n",
       "  </tbody>\n",
       "</table>\n",
       "</div>"
      ],
      "text/plain": [
       "                      location       location_town first_rental_day  \\\n",
       "10           Grimentz – Valais           Grimentz        2023-12-15   \n",
       "27           Grimentz – Valais           Grimentz        2023-12-15   \n",
       "44           Grimentz – Valais           Grimentz        2023-12-15   \n",
       "57  Les Collons Thyon – Valais  Les Collons Thyon        2023-12-15   \n",
       "67  Les Collons Thyon – Valais  Les Collons Thyon        2023-12-15   \n",
       "\n",
       "   return_date            gear_name  \\\n",
       "10  2023-12-15  Cancellation option   \n",
       "27  2023-12-16  Cancellation option   \n",
       "44  2023-12-17  Cancellation option   \n",
       "57  2023-12-15  Cancellation option   \n",
       "67  2023-12-16  Cancellation option   \n",
       "\n",
       "                                          description  price  \n",
       "10  With the cancellation option you can cancel yo...    5.0  \n",
       "27  With the cancellation option you can cancel yo...    5.0  \n",
       "44  With the cancellation option you can cancel yo...    5.0  \n",
       "57  With the cancellation option you can cancel yo...    5.0  \n",
       "67  With the cancellation option you can cancel yo...    5.0  "
      ]
     },
     "execution_count": 390,
     "metadata": {},
     "output_type": "execute_result"
    }
   ],
   "source": [
    "df[df['price'] == df['price'].min()].head(5)"
   ]
  },
  {
   "cell_type": "markdown",
   "id": "5d2a4a54",
   "metadata": {},
   "source": [
    "### Cancellation option to be removed as it is not a product or a service to rent"
   ]
  },
  {
   "cell_type": "code",
   "execution_count": 391,
   "id": "890b7525",
   "metadata": {
    "scrolled": false
   },
   "outputs": [
    {
     "data": {
      "text/plain": [
       "80"
      ]
     },
     "execution_count": 391,
     "metadata": {},
     "output_type": "execute_result"
    }
   ],
   "source": [
    "df[df['gear_name'] =='Cancellation option'].count()[0]"
   ]
  },
  {
   "cell_type": "code",
   "execution_count": 392,
   "id": "e3bd10f1",
   "metadata": {
    "scrolled": false
   },
   "outputs": [
    {
     "data": {
      "text/plain": [
       "location            80\n",
       "location_town       80\n",
       "first_rental_day    80\n",
       "return_date         80\n",
       "gear_name           80\n",
       "description         80\n",
       "price               80\n",
       "dtype: int64"
      ]
     },
     "execution_count": 392,
     "metadata": {},
     "output_type": "execute_result"
    }
   ],
   "source": [
    "df[df['gear_name'] =='Cancellation option'].count()"
   ]
  },
  {
   "cell_type": "code",
   "execution_count": 393,
   "id": "7b777c98",
   "metadata": {},
   "outputs": [],
   "source": [
    "df = df[df['gear_name'] != 'Cancellation option']"
   ]
  },
  {
   "cell_type": "code",
   "execution_count": 394,
   "id": "da9a86bb",
   "metadata": {
    "scrolled": false
   },
   "outputs": [
    {
     "data": {
      "text/html": [
       "<div>\n",
       "<style scoped>\n",
       "    .dataframe tbody tr th:only-of-type {\n",
       "        vertical-align: middle;\n",
       "    }\n",
       "\n",
       "    .dataframe tbody tr th {\n",
       "        vertical-align: top;\n",
       "    }\n",
       "\n",
       "    .dataframe thead th {\n",
       "        text-align: right;\n",
       "    }\n",
       "</style>\n",
       "<table border=\"1\" class=\"dataframe\">\n",
       "  <thead>\n",
       "    <tr style=\"text-align: right;\">\n",
       "      <th></th>\n",
       "      <th>location</th>\n",
       "      <th>location_town</th>\n",
       "      <th>first_rental_day</th>\n",
       "      <th>return_date</th>\n",
       "      <th>gear_name</th>\n",
       "      <th>description</th>\n",
       "      <th>price</th>\n",
       "    </tr>\n",
       "  </thead>\n",
       "  <tbody>\n",
       "    <tr>\n",
       "      <th>93</th>\n",
       "      <td>La Dôle – Canton of Vaud</td>\n",
       "      <td>La Dôle</td>\n",
       "      <td>2023-12-15</td>\n",
       "      <td>2023-12-15</td>\n",
       "      <td>Skating shoes</td>\n",
       "      <td>Suitable for skating rinks &amp; natural ice.__For...</td>\n",
       "      <td>5.4</td>\n",
       "    </tr>\n",
       "    <tr>\n",
       "      <th>404</th>\n",
       "      <td>La Punt – Graubünden</td>\n",
       "      <td>La Punt</td>\n",
       "      <td>2023-12-15</td>\n",
       "      <td>2023-12-15</td>\n",
       "      <td>Skating shoes</td>\n",
       "      <td>Suitable for skating rinks &amp; natural ice.__For...</td>\n",
       "      <td>5.4</td>\n",
       "    </tr>\n",
       "    <tr>\n",
       "      <th>626</th>\n",
       "      <td>La Roche - La Berra – Region of Fribourg</td>\n",
       "      <td>La Roche - La Berra</td>\n",
       "      <td>2023-12-15</td>\n",
       "      <td>2023-12-15</td>\n",
       "      <td>Skating shoes</td>\n",
       "      <td>Suitable for skating rinks &amp; natural ice.__For...</td>\n",
       "      <td>5.4</td>\n",
       "    </tr>\n",
       "    <tr>\n",
       "      <th>695</th>\n",
       "      <td>La Forclaz VS – Valais</td>\n",
       "      <td>La Forclaz VS</td>\n",
       "      <td>2023-12-15</td>\n",
       "      <td>2023-12-15</td>\n",
       "      <td>Skating shoes</td>\n",
       "      <td>Suitable for skating rinks &amp; natural ice.__For...</td>\n",
       "      <td>5.4</td>\n",
       "    </tr>\n",
       "    <tr>\n",
       "      <th>764</th>\n",
       "      <td>Bad Ragaz – Eastern Switzerland / Liechtenstein</td>\n",
       "      <td>Bad Ragaz</td>\n",
       "      <td>2023-12-15</td>\n",
       "      <td>2023-12-15</td>\n",
       "      <td>Ski helmet</td>\n",
       "      <td>Optimal wearing comfort__Perfect protection__V...</td>\n",
       "      <td>5.4</td>\n",
       "    </tr>\n",
       "  </tbody>\n",
       "</table>\n",
       "</div>"
      ],
      "text/plain": [
       "                                            location         location_town  \\\n",
       "93                          La Dôle – Canton of Vaud              La Dôle    \n",
       "404                             La Punt – Graubünden              La Punt    \n",
       "626         La Roche - La Berra – Region of Fribourg  La Roche - La Berra    \n",
       "695                           La Forclaz VS – Valais        La Forclaz VS    \n",
       "764  Bad Ragaz – Eastern Switzerland / Liechtenstein            Bad Ragaz    \n",
       "\n",
       "    first_rental_day return_date      gear_name  \\\n",
       "93        2023-12-15  2023-12-15  Skating shoes   \n",
       "404       2023-12-15  2023-12-15  Skating shoes   \n",
       "626       2023-12-15  2023-12-15  Skating shoes   \n",
       "695       2023-12-15  2023-12-15  Skating shoes   \n",
       "764       2023-12-15  2023-12-15     Ski helmet   \n",
       "\n",
       "                                           description  price  \n",
       "93   Suitable for skating rinks & natural ice.__For...    5.4  \n",
       "404  Suitable for skating rinks & natural ice.__For...    5.4  \n",
       "626  Suitable for skating rinks & natural ice.__For...    5.4  \n",
       "695  Suitable for skating rinks & natural ice.__For...    5.4  \n",
       "764  Optimal wearing comfort__Perfect protection__V...    5.4  "
      ]
     },
     "execution_count": 394,
     "metadata": {},
     "output_type": "execute_result"
    }
   ],
   "source": [
    "df[df['price'] == df['price'].min()].head(5)"
   ]
  },
  {
   "cell_type": "code",
   "execution_count": 395,
   "id": "5a5b0c32",
   "metadata": {},
   "outputs": [
    {
     "data": {
      "text/plain": [
       "0"
      ]
     },
     "execution_count": 395,
     "metadata": {},
     "output_type": "execute_result"
    }
   ],
   "source": [
    "df[df['gear_name'] =='Cancellation option'].count()[0]"
   ]
  },
  {
   "cell_type": "code",
   "execution_count": 396,
   "id": "1c4e4a2b",
   "metadata": {
    "scrolled": true
   },
   "outputs": [
    {
     "data": {
      "text/html": [
       "<div>\n",
       "<style scoped>\n",
       "    .dataframe tbody tr th:only-of-type {\n",
       "        vertical-align: middle;\n",
       "    }\n",
       "\n",
       "    .dataframe tbody tr th {\n",
       "        vertical-align: top;\n",
       "    }\n",
       "\n",
       "    .dataframe thead th {\n",
       "        text-align: right;\n",
       "    }\n",
       "</style>\n",
       "<table border=\"1\" class=\"dataframe\">\n",
       "  <thead>\n",
       "    <tr style=\"text-align: right;\">\n",
       "      <th></th>\n",
       "      <th>location</th>\n",
       "      <th>location_town</th>\n",
       "      <th>first_rental_day</th>\n",
       "      <th>return_date</th>\n",
       "      <th>gear_name</th>\n",
       "      <th>description</th>\n",
       "      <th>price</th>\n",
       "    </tr>\n",
       "  </thead>\n",
       "  <tbody>\n",
       "    <tr>\n",
       "      <th>93</th>\n",
       "      <td>La Dôle – Canton of Vaud</td>\n",
       "      <td>La Dôle</td>\n",
       "      <td>2023-12-15</td>\n",
       "      <td>2023-12-15</td>\n",
       "      <td>Skating shoes</td>\n",
       "      <td>Suitable for skating rinks &amp; natural ice.__For...</td>\n",
       "      <td>5.4</td>\n",
       "    </tr>\n",
       "    <tr>\n",
       "      <th>404</th>\n",
       "      <td>La Punt – Graubünden</td>\n",
       "      <td>La Punt</td>\n",
       "      <td>2023-12-15</td>\n",
       "      <td>2023-12-15</td>\n",
       "      <td>Skating shoes</td>\n",
       "      <td>Suitable for skating rinks &amp; natural ice.__For...</td>\n",
       "      <td>5.4</td>\n",
       "    </tr>\n",
       "    <tr>\n",
       "      <th>626</th>\n",
       "      <td>La Roche - La Berra – Region of Fribourg</td>\n",
       "      <td>La Roche - La Berra</td>\n",
       "      <td>2023-12-15</td>\n",
       "      <td>2023-12-15</td>\n",
       "      <td>Skating shoes</td>\n",
       "      <td>Suitable for skating rinks &amp; natural ice.__For...</td>\n",
       "      <td>5.4</td>\n",
       "    </tr>\n",
       "    <tr>\n",
       "      <th>695</th>\n",
       "      <td>La Forclaz VS – Valais</td>\n",
       "      <td>La Forclaz VS</td>\n",
       "      <td>2023-12-15</td>\n",
       "      <td>2023-12-15</td>\n",
       "      <td>Skating shoes</td>\n",
       "      <td>Suitable for skating rinks &amp; natural ice.__For...</td>\n",
       "      <td>5.4</td>\n",
       "    </tr>\n",
       "    <tr>\n",
       "      <th>764</th>\n",
       "      <td>Bad Ragaz – Eastern Switzerland / Liechtenstein</td>\n",
       "      <td>Bad Ragaz</td>\n",
       "      <td>2023-12-15</td>\n",
       "      <td>2023-12-15</td>\n",
       "      <td>Ski helmet</td>\n",
       "      <td>Optimal wearing comfort__Perfect protection__V...</td>\n",
       "      <td>5.4</td>\n",
       "    </tr>\n",
       "  </tbody>\n",
       "</table>\n",
       "</div>"
      ],
      "text/plain": [
       "                                            location         location_town  \\\n",
       "93                          La Dôle – Canton of Vaud              La Dôle    \n",
       "404                             La Punt – Graubünden              La Punt    \n",
       "626         La Roche - La Berra – Region of Fribourg  La Roche - La Berra    \n",
       "695                           La Forclaz VS – Valais        La Forclaz VS    \n",
       "764  Bad Ragaz – Eastern Switzerland / Liechtenstein            Bad Ragaz    \n",
       "\n",
       "    first_rental_day return_date      gear_name  \\\n",
       "93        2023-12-15  2023-12-15  Skating shoes   \n",
       "404       2023-12-15  2023-12-15  Skating shoes   \n",
       "626       2023-12-15  2023-12-15  Skating shoes   \n",
       "695       2023-12-15  2023-12-15  Skating shoes   \n",
       "764       2023-12-15  2023-12-15     Ski helmet   \n",
       "\n",
       "                                           description  price  \n",
       "93   Suitable for skating rinks & natural ice.__For...    5.4  \n",
       "404  Suitable for skating rinks & natural ice.__For...    5.4  \n",
       "626  Suitable for skating rinks & natural ice.__For...    5.4  \n",
       "695  Suitable for skating rinks & natural ice.__For...    5.4  \n",
       "764  Optimal wearing comfort__Perfect protection__V...    5.4  "
      ]
     },
     "execution_count": 396,
     "metadata": {},
     "output_type": "execute_result"
    }
   ],
   "source": [
    "df[df['price'] == df['price'].min()].head(5)"
   ]
  },
  {
   "cell_type": "code",
   "execution_count": 397,
   "id": "d658d135",
   "metadata": {
    "scrolled": false
   },
   "outputs": [
    {
     "data": {
      "text/plain": [
       "<Axes: >"
      ]
     },
     "execution_count": 397,
     "metadata": {},
     "output_type": "execute_result"
    },
    {
     "data": {
      "image/png": "[encoded data removed]",
      "text/plain": [
       "<Figure size 400x400 with 1 Axes>"
      ]
     },
     "metadata": {},
     "output_type": "display_data"
    }
   ],
   "source": [
    "df.boxplot(column='price', figsize=(4, 4))"
   ]
  },
  {
   "cell_type": "markdown",
   "id": "bd35b7bc",
   "metadata": {},
   "source": [
    "Some higher prices may be  indeed outliars,need to be"
   ]
  },
  {
   "cell_type": "code",
   "execution_count": 398,
   "id": "a8d709f4",
   "metadata": {
    "scrolled": true
   },
   "outputs": [
    {
     "data": {
      "text/html": [
       "<div>\n",
       "<style scoped>\n",
       "    .dataframe tbody tr th:only-of-type {\n",
       "        vertical-align: middle;\n",
       "    }\n",
       "\n",
       "    .dataframe tbody tr th {\n",
       "        vertical-align: top;\n",
       "    }\n",
       "\n",
       "    .dataframe thead th {\n",
       "        text-align: right;\n",
       "    }\n",
       "</style>\n",
       "<table border=\"1\" class=\"dataframe\">\n",
       "  <thead>\n",
       "    <tr style=\"text-align: right;\">\n",
       "      <th></th>\n",
       "      <th>location</th>\n",
       "      <th>location_town</th>\n",
       "      <th>first_rental_day</th>\n",
       "      <th>return_date</th>\n",
       "      <th>gear_name</th>\n",
       "      <th>description</th>\n",
       "      <th>price</th>\n",
       "    </tr>\n",
       "  </thead>\n",
       "  <tbody>\n",
       "    <tr>\n",
       "      <th>314</th>\n",
       "      <td>Silvaplana – Graubünden</td>\n",
       "      <td>Silvaplana</td>\n",
       "      <td>2023-12-15</td>\n",
       "      <td>2023-12-16</td>\n",
       "      <td>Ski set Premium</td>\n",
       "      <td>Skiset (ski, boots, poles)__Perfect run at hig...</td>\n",
       "      <td>153.0</td>\n",
       "    </tr>\n",
       "    <tr>\n",
       "      <th>337</th>\n",
       "      <td>Silvaplana – Graubünden</td>\n",
       "      <td>Silvaplana</td>\n",
       "      <td>2023-12-15</td>\n",
       "      <td>2023-12-17</td>\n",
       "      <td>Ski set Premium</td>\n",
       "      <td>Skiset (ski, boots, poles)__Perfect run at hig...</td>\n",
       "      <td>224.1</td>\n",
       "    </tr>\n",
       "    <tr>\n",
       "      <th>339</th>\n",
       "      <td>Silvaplana – Graubünden</td>\n",
       "      <td>Silvaplana</td>\n",
       "      <td>2023-12-15</td>\n",
       "      <td>2023-12-17</td>\n",
       "      <td>Ski Exclusive</td>\n",
       "      <td>Highest Quality &amp; innovative technology__Direc...</td>\n",
       "      <td>166.5</td>\n",
       "    </tr>\n",
       "    <tr>\n",
       "      <th>603</th>\n",
       "      <td>Villars-sur-Ollon – Canton of Vaud</td>\n",
       "      <td>Villars-sur-Ollon</td>\n",
       "      <td>2023-12-15</td>\n",
       "      <td>2023-12-17</td>\n",
       "      <td>Touring Set Premium</td>\n",
       "      <td>Set includes alpine touring skis, poles, skins...</td>\n",
       "      <td>185.4</td>\n",
       "    </tr>\n",
       "    <tr>\n",
       "      <th>1462</th>\n",
       "      <td>Homberg b. Thun – Bern Region</td>\n",
       "      <td>Homberg b. Thun</td>\n",
       "      <td>2023-12-15</td>\n",
       "      <td>2023-12-16</td>\n",
       "      <td>Touring Set Standard</td>\n",
       "      <td>Set includes alpine touring skis, poles, skins...</td>\n",
       "      <td>160.0</td>\n",
       "    </tr>\n",
       "  </tbody>\n",
       "</table>\n",
       "</div>"
      ],
      "text/plain": [
       "                                location       location_town first_rental_day  \\\n",
       "314              Silvaplana – Graubünden         Silvaplana        2023-12-15   \n",
       "337              Silvaplana – Graubünden         Silvaplana        2023-12-15   \n",
       "339              Silvaplana – Graubünden         Silvaplana        2023-12-15   \n",
       "603   Villars-sur-Ollon – Canton of Vaud  Villars-sur-Ollon        2023-12-15   \n",
       "1462       Homberg b. Thun – Bern Region    Homberg b. Thun        2023-12-15   \n",
       "\n",
       "     return_date             gear_name  \\\n",
       "314   2023-12-16       Ski set Premium   \n",
       "337   2023-12-17       Ski set Premium   \n",
       "339   2023-12-17         Ski Exclusive   \n",
       "603   2023-12-17   Touring Set Premium   \n",
       "1462  2023-12-16  Touring Set Standard   \n",
       "\n",
       "                                            description  price  \n",
       "314   Skiset (ski, boots, poles)__Perfect run at hig...  153.0  \n",
       "337   Skiset (ski, boots, poles)__Perfect run at hig...  224.1  \n",
       "339   Highest Quality & innovative technology__Direc...  166.5  \n",
       "603   Set includes alpine touring skis, poles, skins...  185.4  \n",
       "1462  Set includes alpine touring skis, poles, skins...  160.0  "
      ]
     },
     "execution_count": 398,
     "metadata": {},
     "output_type": "execute_result"
    }
   ],
   "source": [
    "df[df['price'] > 150]"
   ]
  },
  {
   "cell_type": "markdown",
   "id": "0c1e267b",
   "metadata": {},
   "source": [
    "Although it looks like an outliar , have to consider that are rent over multiple days and it looks like not  outliars but indeed an Hihgh End Offering"
   ]
  },
  {
   "cell_type": "markdown",
   "id": "bf235b7a",
   "metadata": {},
   "source": [
    "### Strip strings"
   ]
  },
  {
   "cell_type": "code",
   "execution_count": 399,
   "id": "336ecdb3",
   "metadata": {},
   "outputs": [
    {
     "data": {
      "text/plain": [
       "1574"
      ]
     },
     "execution_count": 399,
     "metadata": {},
     "output_type": "execute_result"
    }
   ],
   "source": [
    "(df['location_town'].str.len() != df['location_town'].str.strip().str.len()).sum()\n"
   ]
  },
  {
   "cell_type": "code",
   "execution_count": 400,
   "id": "7525ff40",
   "metadata": {
    "scrolled": true
   },
   "outputs": [
    {
     "data": {
      "text/plain": [
       "0"
      ]
     },
     "execution_count": 400,
     "metadata": {},
     "output_type": "execute_result"
    }
   ],
   "source": [
    "(df['location'].str.len() != df['location'].str.strip().str.len()).sum()\n"
   ]
  },
  {
   "cell_type": "code",
   "execution_count": 401,
   "id": "19cf969b",
   "metadata": {},
   "outputs": [
    {
     "data": {
      "text/plain": [
       "0"
      ]
     },
     "execution_count": 401,
     "metadata": {},
     "output_type": "execute_result"
    }
   ],
   "source": [
    "(df['gear_name'].str.len() != df['gear_name'].str.strip().str.len()).sum()\n"
   ]
  },
  {
   "cell_type": "code",
   "execution_count": 402,
   "id": "db56b1df",
   "metadata": {},
   "outputs": [],
   "source": [
    "df['location_town'] = df['location_town'].str.strip()"
   ]
  },
  {
   "cell_type": "code",
   "execution_count": 403,
   "id": "2ae949ec",
   "metadata": {
    "scrolled": true
   },
   "outputs": [
    {
     "data": {
      "text/plain": [
       "0"
      ]
     },
     "execution_count": 403,
     "metadata": {},
     "output_type": "execute_result"
    }
   ],
   "source": [
    "#corrected\n",
    "(df['location_town'].str.len() != df['location_town'].str.strip().str.len()).sum()\n"
   ]
  },
  {
   "cell_type": "markdown",
   "id": "1dbe3201",
   "metadata": {},
   "source": [
    "### Location Town:  correction of values"
   ]
  },
  {
   "cell_type": "code",
   "execution_count": 404,
   "id": "be6014ff",
   "metadata": {
    "scrolled": false
   },
   "outputs": [
    {
     "data": {
      "text/plain": [
       "array(['Grimentz', 'Les Collons Thyon', 'La Dôle', 'Mürren', 'Laax',\n",
       "       'St-Luc', 'St. Moritz', 'Arosa', 'Silvaplana', 'Sils i.E.',\n",
       "       'La Punt', 'Gstaad', 'Scuol', 'Les Diablerets',\n",
       "       'Villars-sur-Ollon', 'La Roche - La Berra', 'Veysonnaz',\n",
       "       'La Forclaz VS', 'Vercorin', 'Bad Ragaz', 'Obersaxen Mundaun',\n",
       "       'La Fouly', 'Les Mosses', 'Les Marécottes', 'Aletsch Arena',\n",
       "       'Samnaun', 'Münster (Goms)', 'Les Breuleux', \"Les Prés d'Orvin\",\n",
       "       'Schwyz', 'Andermatt', 'Vals', 'Oberwil i.S.', 'Sörenberg',\n",
       "       'Le Sentier', 'Buttes La Robella', 'St. Peter',\n",
       "       'Schwanden ob Sigriswil', 'Homberg b. Thun', 'Aeschi BE',\n",
       "       'Sainte-Croix Les Rasses', 'Les Paccots', 'Küssnacht am Rigi',\n",
       "       'Rathvel s/Châtel-St-Denis'], dtype=object)"
      ]
     },
     "execution_count": 404,
     "metadata": {},
     "output_type": "execute_result"
    }
   ],
   "source": [
    "df['location_town'].unique()"
   ]
  },
  {
   "cell_type": "markdown",
   "id": "1df531d4",
   "metadata": {},
   "source": [
    "### Remove canton from location_town\n",
    "In some cases the canton is still in the location_town\n"
   ]
  },
  {
   "cell_type": "code",
   "execution_count": 405,
   "id": "d57e400a",
   "metadata": {},
   "outputs": [
    {
     "name": "stdout",
     "output_type": "stream",
     "text": [
      "abbaBEBern\n"
     ]
    }
   ],
   "source": [
    "def correct_misspelling(location):\n",
    "    \"\"\" Correct the misspelling in the location\n",
    "        if canton appears at the end of the string remove it \n",
    "    \"\"\"\n",
    "    cantons = ['AG', 'AI', 'AR', 'BE', 'BL', 'BS', 'FR', 'GE', 'GL', 'GR', 'JU', 'LU', 'NE', 'NW', 'OW', 'SG', 'SH', 'SO', 'SZ', 'TG', 'TI', 'UR', 'VD', 'VS', 'ZG', 'ZH']\n",
    "    for canton in cantons:\n",
    "        if location.endswith(f' {canton}'):\n",
    "            return location.replace(f' {canton}','').strip()\n",
    "    return location.strip()   \n",
    "\n",
    "#example\n",
    "location = \"abbaBEBern BE\"\n",
    "print(correct_misspelling(location))"
   ]
  },
  {
   "cell_type": "code",
   "execution_count": 406,
   "id": "f5a04e80",
   "metadata": {
    "scrolled": true
   },
   "outputs": [],
   "source": [
    "#Apply correction\n",
    "corrected_location = df['location_town'].apply( correct_misspelling)\n"
   ]
  },
  {
   "cell_type": "code",
   "execution_count": 407,
   "id": "937d8b21",
   "metadata": {
    "scrolled": false
   },
   "outputs": [],
   "source": [
    "df['location_town'] = corrected_location"
   ]
  },
  {
   "cell_type": "code",
   "execution_count": 408,
   "id": "ce26d3de",
   "metadata": {
    "scrolled": false
   },
   "outputs": [
    {
     "data": {
      "text/plain": [
       "array(['Grimentz', 'Les Collons Thyon', 'La Dôle', 'Mürren', 'Laax',\n",
       "       'St-Luc', 'St. Moritz', 'Arosa', 'Silvaplana', 'Sils i.E.',\n",
       "       'La Punt', 'Gstaad', 'Scuol', 'Les Diablerets',\n",
       "       'Villars-sur-Ollon', 'La Roche - La Berra', 'Veysonnaz',\n",
       "       'La Forclaz', 'Vercorin', 'Bad Ragaz', 'Obersaxen Mundaun',\n",
       "       'La Fouly', 'Les Mosses', 'Les Marécottes', 'Aletsch Arena',\n",
       "       'Samnaun', 'Münster (Goms)', 'Les Breuleux', \"Les Prés d'Orvin\",\n",
       "       'Schwyz', 'Andermatt', 'Vals', 'Oberwil i.S.', 'Sörenberg',\n",
       "       'Le Sentier', 'Buttes La Robella', 'St. Peter',\n",
       "       'Schwanden ob Sigriswil', 'Homberg b. Thun', 'Aeschi',\n",
       "       'Sainte-Croix Les Rasses', 'Les Paccots', 'Küssnacht am Rigi',\n",
       "       'Rathvel s/Châtel-St-Denis'], dtype=object)"
      ]
     },
     "execution_count": 408,
     "metadata": {},
     "output_type": "execute_result"
    }
   ],
   "source": [
    "df['location_town'].unique()"
   ]
  },
  {
   "cell_type": "code",
   "execution_count": 409,
   "id": "722534e1",
   "metadata": {},
   "outputs": [],
   "source": [
    "grouped_counts = df.groupby(['gear_name', 'description']).size().reset_index(name='count')\n"
   ]
  },
  {
   "cell_type": "code",
   "execution_count": 410,
   "id": "52db8061",
   "metadata": {},
   "outputs": [],
   "source": [
    "sorted_grouped_counts = grouped_counts.sort_values(by='count', ascending=False)"
   ]
  },
  {
   "cell_type": "code",
   "execution_count": 411,
   "id": "bb43d21f",
   "metadata": {
    "scrolled": false
   },
   "outputs": [
    {
     "data": {
      "text/html": [
       "<div>\n",
       "<style scoped>\n",
       "    .dataframe tbody tr th:only-of-type {\n",
       "        vertical-align: middle;\n",
       "    }\n",
       "\n",
       "    .dataframe tbody tr th {\n",
       "        vertical-align: top;\n",
       "    }\n",
       "\n",
       "    .dataframe thead th {\n",
       "        text-align: right;\n",
       "    }\n",
       "</style>\n",
       "<table border=\"1\" class=\"dataframe\">\n",
       "  <thead>\n",
       "    <tr style=\"text-align: right;\">\n",
       "      <th></th>\n",
       "      <th>gear_name</th>\n",
       "      <th>description</th>\n",
       "      <th>count</th>\n",
       "    </tr>\n",
       "  </thead>\n",
       "  <tbody>\n",
       "    <tr>\n",
       "      <th>20</th>\n",
       "      <td>Helmet</td>\n",
       "      <td>Perfect fitting comfort__Perfect protection__C...</td>\n",
       "      <td>77</td>\n",
       "    </tr>\n",
       "    <tr>\n",
       "      <th>32</th>\n",
       "      <td>Ski Economy</td>\n",
       "      <td>For the price-conscious__Type according to ava...</td>\n",
       "      <td>72</td>\n",
       "    </tr>\n",
       "    <tr>\n",
       "      <th>49</th>\n",
       "      <td>Skiboots economy</td>\n",
       "      <td>Allround ski boot__Comfortable wearing__Excell...</td>\n",
       "      <td>71</td>\n",
       "    </tr>\n",
       "    <tr>\n",
       "      <th>36</th>\n",
       "      <td>Ski Premium</td>\n",
       "      <td>For sporty bargain hunters__A ton of fun on th...</td>\n",
       "      <td>71</td>\n",
       "    </tr>\n",
       "    <tr>\n",
       "      <th>68</th>\n",
       "      <td>Snowboard boots economy</td>\n",
       "      <td>Easy entry &amp; exit__Safe stand__Best processing...</td>\n",
       "      <td>62</td>\n",
       "    </tr>\n",
       "    <tr>\n",
       "      <th>33</th>\n",
       "      <td>Ski Exclusive</td>\n",
       "      <td>Highest Quality &amp; innovative technology__Direc...</td>\n",
       "      <td>54</td>\n",
       "    </tr>\n",
       "    <tr>\n",
       "      <th>51</th>\n",
       "      <td>Skiboots premium</td>\n",
       "      <td>Direct force transmission__High Comfort &amp; perf...</td>\n",
       "      <td>52</td>\n",
       "    </tr>\n",
       "    <tr>\n",
       "      <th>28</th>\n",
       "      <td>Ski Budget</td>\n",
       "      <td>Type according to availability;</td>\n",
       "      <td>47</td>\n",
       "    </tr>\n",
       "    <tr>\n",
       "      <th>62</th>\n",
       "      <td>Snowboard Economy</td>\n",
       "      <td>Perfect for all levels__Tolerance for failures...</td>\n",
       "      <td>47</td>\n",
       "    </tr>\n",
       "    <tr>\n",
       "      <th>42</th>\n",
       "      <td>Ski jacket and ski pants</td>\n",
       "      <td>Best fit &amp; extremely comfortable__Wonderfully ...</td>\n",
       "      <td>44</td>\n",
       "    </tr>\n",
       "  </tbody>\n",
       "</table>\n",
       "</div>"
      ],
      "text/plain": [
       "                   gear_name  \\\n",
       "20                    Helmet   \n",
       "32               Ski Economy   \n",
       "49          Skiboots economy   \n",
       "36               Ski Premium   \n",
       "68   Snowboard boots economy   \n",
       "33             Ski Exclusive   \n",
       "51          Skiboots premium   \n",
       "28                Ski Budget   \n",
       "62         Snowboard Economy   \n",
       "42  Ski jacket and ski pants   \n",
       "\n",
       "                                          description  count  \n",
       "20  Perfect fitting comfort__Perfect protection__C...     77  \n",
       "32  For the price-conscious__Type according to ava...     72  \n",
       "49  Allround ski boot__Comfortable wearing__Excell...     71  \n",
       "36  For sporty bargain hunters__A ton of fun on th...     71  \n",
       "68  Easy entry & exit__Safe stand__Best processing...     62  \n",
       "33  Highest Quality & innovative technology__Direc...     54  \n",
       "51  Direct force transmission__High Comfort & perf...     52  \n",
       "28                    Type according to availability;     47  \n",
       "62  Perfect for all levels__Tolerance for failures...     47  \n",
       "42  Best fit & extremely comfortable__Wonderfully ...     44  "
      ]
     },
     "execution_count": 411,
     "metadata": {},
     "output_type": "execute_result"
    }
   ],
   "source": [
    "sorted_grouped_counts.head(10)"
   ]
  },
  {
   "cell_type": "markdown",
   "id": "e35225c0",
   "metadata": {},
   "source": [
    "### Lower case\n",
    "Lower case not to remove duplicates but just for harmonisation"
   ]
  },
  {
   "cell_type": "code",
   "execution_count": 412,
   "id": "0870e098",
   "metadata": {
    "scrolled": true
   },
   "outputs": [
    {
     "data": {
      "text/plain": [
       "0"
      ]
     },
     "execution_count": 412,
     "metadata": {},
     "output_type": "execute_result"
    }
   ],
   "source": [
    "(df['gear_name'].str.lower().str.len() != df['gear_name'].str.len()).sum()\n"
   ]
  },
  {
   "cell_type": "code",
   "execution_count": 413,
   "id": "01c34579",
   "metadata": {},
   "outputs": [],
   "source": [
    "df['gear_name'] = df['gear_name'].str.lower()\n"
   ]
  },
  {
   "cell_type": "markdown",
   "id": "f701df03",
   "metadata": {},
   "source": [
    "### Drop  not necessary columns\n",
    "### Description is. a generic free text will be not used for the analsis"
   ]
  },
  {
   "cell_type": "code",
   "execution_count": 414,
   "id": "5df5a960",
   "metadata": {},
   "outputs": [],
   "source": [
    "df.drop('description', axis=1, inplace=True)\n"
   ]
  },
  {
   "cell_type": "code",
   "execution_count": 415,
   "id": "9bdd36b4",
   "metadata": {
    "scrolled": false
   },
   "outputs": [
    {
     "data": {
      "text/html": [
       "<div>\n",
       "<style scoped>\n",
       "    .dataframe tbody tr th:only-of-type {\n",
       "        vertical-align: middle;\n",
       "    }\n",
       "\n",
       "    .dataframe tbody tr th {\n",
       "        vertical-align: top;\n",
       "    }\n",
       "\n",
       "    .dataframe thead th {\n",
       "        text-align: right;\n",
       "    }\n",
       "</style>\n",
       "<table border=\"1\" class=\"dataframe\">\n",
       "  <thead>\n",
       "    <tr style=\"text-align: right;\">\n",
       "      <th></th>\n",
       "      <th>location</th>\n",
       "      <th>location_town</th>\n",
       "      <th>first_rental_day</th>\n",
       "      <th>return_date</th>\n",
       "      <th>gear_name</th>\n",
       "      <th>price</th>\n",
       "    </tr>\n",
       "  </thead>\n",
       "  <tbody>\n",
       "    <tr>\n",
       "      <th>0</th>\n",
       "      <td>Grimentz – Valais</td>\n",
       "      <td>Grimentz</td>\n",
       "      <td>2023-12-15</td>\n",
       "      <td>2023-12-15</td>\n",
       "      <td>ski exclusive</td>\n",
       "      <td>49.5</td>\n",
       "    </tr>\n",
       "    <tr>\n",
       "      <th>1</th>\n",
       "      <td>Grimentz – Valais</td>\n",
       "      <td>Grimentz</td>\n",
       "      <td>2023-12-15</td>\n",
       "      <td>2023-12-15</td>\n",
       "      <td>ski premium</td>\n",
       "      <td>34.2</td>\n",
       "    </tr>\n",
       "    <tr>\n",
       "      <th>2</th>\n",
       "      <td>Grimentz – Valais</td>\n",
       "      <td>Grimentz</td>\n",
       "      <td>2023-12-15</td>\n",
       "      <td>2023-12-15</td>\n",
       "      <td>telemark ski premium</td>\n",
       "      <td>49.5</td>\n",
       "    </tr>\n",
       "    <tr>\n",
       "      <th>3</th>\n",
       "      <td>Grimentz – Valais</td>\n",
       "      <td>Grimentz</td>\n",
       "      <td>2023-12-15</td>\n",
       "      <td>2023-12-15</td>\n",
       "      <td>ski economy</td>\n",
       "      <td>26.1</td>\n",
       "    </tr>\n",
       "    <tr>\n",
       "      <th>4</th>\n",
       "      <td>Grimentz – Valais</td>\n",
       "      <td>Grimentz</td>\n",
       "      <td>2023-12-15</td>\n",
       "      <td>2023-12-15</td>\n",
       "      <td>skiboots premium</td>\n",
       "      <td>17.1</td>\n",
       "    </tr>\n",
       "  </tbody>\n",
       "</table>\n",
       "</div>"
      ],
      "text/plain": [
       "            location location_town first_rental_day return_date  \\\n",
       "0  Grimentz – Valais      Grimentz       2023-12-15  2023-12-15   \n",
       "1  Grimentz – Valais      Grimentz       2023-12-15  2023-12-15   \n",
       "2  Grimentz – Valais      Grimentz       2023-12-15  2023-12-15   \n",
       "3  Grimentz – Valais      Grimentz       2023-12-15  2023-12-15   \n",
       "4  Grimentz – Valais      Grimentz       2023-12-15  2023-12-15   \n",
       "\n",
       "              gear_name  price  \n",
       "0         ski exclusive   49.5  \n",
       "1           ski premium   34.2  \n",
       "2  telemark ski premium   49.5  \n",
       "3           ski economy   26.1  \n",
       "4      skiboots premium   17.1  "
      ]
     },
     "execution_count": 415,
     "metadata": {},
     "output_type": "execute_result"
    }
   ],
   "source": [
    "df.head(5)"
   ]
  },
  {
   "cell_type": "markdown",
   "id": "db6e4be8",
   "metadata": {},
   "source": [
    "## TRANSFORM\n",
    "- 1) rent duration:\n",
    "    - The query uses specific dates, here we want the rent duration in days\n",
    "- 2) rent price per day calculated\n",
    "    - The price from scraping is for the full rental period interesting is the per day price \n",
    "- 3) Gear Class\n",
    "    -  the gear name clearly states the type of gear or service, but for AGGREGATED selection \n",
    "       would be nice to determine a more generic gear class"
   ]
  },
  {
   "cell_type": "code",
   "execution_count": 416,
   "id": "49bca7a5",
   "metadata": {
    "scrolled": false
   },
   "outputs": [],
   "source": [
    "df['rental_duration'] = 1 + (df['return_date'] - df['first_rental_day']).dt.days\n"
   ]
  },
  {
   "cell_type": "code",
   "execution_count": 417,
   "id": "6b0e427e",
   "metadata": {
    "scrolled": false
   },
   "outputs": [],
   "source": [
    "df['price_per_day'] = df['price'] / df['rental_duration']\n"
   ]
  },
  {
   "cell_type": "markdown",
   "id": "32cead0e",
   "metadata": {},
   "source": [
    "### GEAR_CLASS(new field): In the first step we remove words that specify service level or other details (economy,premum)"
   ]
  },
  {
   "cell_type": "code",
   "execution_count": 419,
   "id": "85130b76",
   "metadata": {},
   "outputs": [
    {
     "data": {
      "text/plain": [
       "array(['ski exclusive', 'ski premium', 'telemark ski premium',\n",
       "       'ski economy', 'skiboots premium', 'skiboots economy',\n",
       "       'alpine touring ski boots', 'telemark skiboots',\n",
       "       'touring ski exklusiv', 'split board', 'snowboard exclusive',\n",
       "       'snowboard premium', 'snowboard boots economy',\n",
       "       'nordic set classic', 'snowshoes', 'helmet', 'ski budget',\n",
       "       'snowboard budget', 'ski superior', 'alpine touring ski',\n",
       "       'ski jacket and ski pants', 'ski helmet', 'snowboard economy',\n",
       "       'snowboard boots premium', 'snowblades', 'snow shoes incl. poles',\n",
       "       'skating shoes', 'ski set economy', 'ski test',\n",
       "       'skiing jacket adult', 'skiing pants adult',\n",
       "       'snowboardboots premium', 'toboggan', 'sledges', 'ski set premium',\n",
       "       'touring set premium', 'touring ski premium', 'jacket / pants',\n",
       "       'nordic set skating', 'ski poles', 'alpine economy touring ski',\n",
       "       'back protection (shield)', 'comfort depot box 2 persons',\n",
       "       'alpine touring ski superior', 'alpine touring premium',\n",
       "       'alpine touring ski boots premium', 'snowboard superior',\n",
       "       'skiboots budget', 'snowboardboots budget', 'carving ski superior',\n",
       "       'carving ski premium', 'carving ski economy', 'skating set',\n",
       "       'ski carving boots premium', 'ski carving boots economy',\n",
       "       'economy snowboard boots', 'back protector',\n",
       "       'carefree package ski', 'carefree package snowboard',\n",
       "       'snowshoes with poles', 'ski boot', 'freerideski superior',\n",
       "       'avalanche tranceiver', 'safety set', 'snowboard boots',\n",
       "       'shortcarver', 'sledge', 'alpine touring skis superior + crampons',\n",
       "       'touring set standard', 'cross-country skiing boots'], dtype=object)"
      ]
     },
     "execution_count": 419,
     "metadata": {},
     "output_type": "execute_result"
    }
   ],
   "source": [
    "df['gear_name'].unique() #explore gear names"
   ]
  },
  {
   "cell_type": "code",
   "execution_count": 435,
   "id": "21ed404c",
   "metadata": {
    "scrolled": false
   },
   "outputs": [],
   "source": [
    "df['gear_class'] = df['gear_name']\n",
    "\n",
    "specific_keywords = ['economy','premium','budget','exclusive','superior','alpine','touring','nordic',\n",
    "               'carving','classic','telemark','exklusiv','adult']\n",
    "\n",
    "\n",
    "for specific_keyword in specific_keywords:\n",
    "    df['gear_class'] = df['gear_class'].str.lower().str.replace(specific_keyword, \"\").str.strip()\n",
    "\n"
   ]
  },
  {
   "cell_type": "code",
   "execution_count": 436,
   "id": "87b5988d",
   "metadata": {
    "scrolled": true
   },
   "outputs": [
    {
     "data": {
      "text/plain": [
       "array(['ski', 'skiboots', 'ski boots', 'split board', 'snowboard',\n",
       "       'snowboard boots', 'set', 'snowshoes', 'helmet',\n",
       "       'ski jacket and ski pants', 'ski helmet', 'snowblades',\n",
       "       'snow shoes incl. poles', 'skating shoes', 'ski set', 'ski test',\n",
       "       'skiing jacket', 'skiing pants', 'snowboardboots', 'toboggan',\n",
       "       'sledges', 'jacket / pants', 'set skating', 'ski poles',\n",
       "       'back protection (shield)', 'comfort depot box 2 persons', '',\n",
       "       'skating set', 'ski  boots', 'back protector',\n",
       "       'carefree package ski', 'carefree package snowboard',\n",
       "       'snowshoes with poles', 'ski boot', 'freerideski',\n",
       "       'avalanche tranceiver', 'safety set', 'shortcarver', 'sledge',\n",
       "       'skis  + crampons', 'set standard', 'cross-country skiing boots'],\n",
       "      dtype=object)"
      ]
     },
     "execution_count": 436,
     "metadata": {},
     "output_type": "execute_result"
    }
   ],
   "source": [
    "df['gear_class'].unique()"
   ]
  },
  {
   "cell_type": "markdown",
   "id": "48552f24",
   "metadata": {},
   "source": [
    "### GEAR_CLASS(new field): In the second step we remove words that specify service level or other details (economy,premum)\n"
   ]
  },
  {
   "cell_type": "code",
   "execution_count": 437,
   "id": "fd2a5add",
   "metadata": {},
   "outputs": [],
   "source": [
    "# define rules as \n",
    "#                dict KEY = TARGET GEAR_CLASS\n",
    "#                dict VALUES: words that if found in GEAR_NAME determine the GEAR_CLASS\n",
    "\n",
    "business_rules = [\n",
    "    {\"services\":['package','depo']},\n",
    "    {\"clothes\": ['shoes','jacket','back','boot','pants']},\n",
    "    {\"other\": ['tranceiver']},\n",
    "    {\"helmet\": ['helmet']},\n",
    "    {\"set\": ['set']},\n",
    "    {\"ski\": ['ski','shortcarver','snowblades']},\n",
    "    {\"snowboard\": ['snowboard','split board']},\n",
    "    {\"sledge\": ['sledge','toboggan']},\n",
    "    \n",
    "]\n",
    "#Business Rule lambda function implementation\n",
    "business_rules_function = lambda x: gear_class if any(word in x.lower() for word in words) else x\n",
    "\n",
    "#APPLY ALL BUSINESS RULE\n",
    "for business_rule in business_rules:\n",
    "    for gear_class,words in business_rule.items():\n",
    "        df['gear_class'] = df['gear_class'].apply(business_rules_function)\n",
    "        \n",
    "#in case of empyty strings        \n",
    "df['gear_class'] = df['gear_class'].apply(lambda x: 'other' if x == '' else x)\n",
    "\n",
    "\n"
   ]
  },
  {
   "cell_type": "code",
   "execution_count": 438,
   "id": "eb3d974a",
   "metadata": {},
   "outputs": [
    {
     "data": {
      "text/plain": [
       "array(['ski', 'clothes', 'snowboard', 'set', 'helmet', 'sledge',\n",
       "       'services', 'other'], dtype=object)"
      ]
     },
     "execution_count": 438,
     "metadata": {},
     "output_type": "execute_result"
    }
   ],
   "source": [
    "df['gear_class'].unique()"
   ]
  },
  {
   "cell_type": "code",
   "execution_count": 439,
   "id": "6b0839bb",
   "metadata": {
    "scrolled": false
   },
   "outputs": [
    {
     "data": {
      "text/html": [
       "<div>\n",
       "<style scoped>\n",
       "    .dataframe tbody tr th:only-of-type {\n",
       "        vertical-align: middle;\n",
       "    }\n",
       "\n",
       "    .dataframe tbody tr th {\n",
       "        vertical-align: top;\n",
       "    }\n",
       "\n",
       "    .dataframe thead th {\n",
       "        text-align: right;\n",
       "    }\n",
       "</style>\n",
       "<table border=\"1\" class=\"dataframe\">\n",
       "  <thead>\n",
       "    <tr style=\"text-align: right;\">\n",
       "      <th></th>\n",
       "      <th>location</th>\n",
       "      <th>location_town</th>\n",
       "      <th>first_rental_day</th>\n",
       "      <th>return_date</th>\n",
       "      <th>gear_name</th>\n",
       "      <th>price</th>\n",
       "      <th>rental_duration</th>\n",
       "      <th>price_per_day</th>\n",
       "      <th>gear_class</th>\n",
       "    </tr>\n",
       "  </thead>\n",
       "  <tbody>\n",
       "    <tr>\n",
       "      <th>50</th>\n",
       "      <td>Grimentz – Valais</td>\n",
       "      <td>Grimentz</td>\n",
       "      <td>2023-12-15</td>\n",
       "      <td>2023-12-17</td>\n",
       "      <td>helmet</td>\n",
       "      <td>27.9</td>\n",
       "      <td>3</td>\n",
       "      <td>9.3</td>\n",
       "      <td>helmet</td>\n",
       "    </tr>\n",
       "    <tr>\n",
       "      <th>51</th>\n",
       "      <td>Les Collons Thyon – Valais</td>\n",
       "      <td>Les Collons Thyon</td>\n",
       "      <td>2023-12-15</td>\n",
       "      <td>2023-12-15</td>\n",
       "      <td>ski exclusive</td>\n",
       "      <td>53.1</td>\n",
       "      <td>1</td>\n",
       "      <td>53.1</td>\n",
       "      <td>ski</td>\n",
       "    </tr>\n",
       "    <tr>\n",
       "      <th>52</th>\n",
       "      <td>Les Collons Thyon – Valais</td>\n",
       "      <td>Les Collons Thyon</td>\n",
       "      <td>2023-12-15</td>\n",
       "      <td>2023-12-15</td>\n",
       "      <td>ski premium</td>\n",
       "      <td>53.1</td>\n",
       "      <td>1</td>\n",
       "      <td>53.1</td>\n",
       "      <td>ski</td>\n",
       "    </tr>\n",
       "  </tbody>\n",
       "</table>\n",
       "</div>"
      ],
      "text/plain": [
       "                      location      location_town first_rental_day  \\\n",
       "50           Grimentz – Valais           Grimentz       2023-12-15   \n",
       "51  Les Collons Thyon – Valais  Les Collons Thyon       2023-12-15   \n",
       "52  Les Collons Thyon – Valais  Les Collons Thyon       2023-12-15   \n",
       "\n",
       "   return_date      gear_name  price  rental_duration  price_per_day  \\\n",
       "50  2023-12-17         helmet   27.9                3            9.3   \n",
       "51  2023-12-15  ski exclusive   53.1                1           53.1   \n",
       "52  2023-12-15    ski premium   53.1                1           53.1   \n",
       "\n",
       "   gear_class  \n",
       "50     helmet  \n",
       "51        ski  \n",
       "52        ski  "
      ]
     },
     "execution_count": 439,
     "metadata": {},
     "output_type": "execute_result"
    }
   ],
   "source": [
    "df.head(50).tail(3)"
   ]
  },
  {
   "cell_type": "code",
   "execution_count": 440,
   "id": "ff6136db",
   "metadata": {
    "scrolled": false
   },
   "outputs": [
    {
     "data": {
      "text/plain": [
       "clothes      561\n",
       "ski          532\n",
       "snowboard    196\n",
       "helmet       121\n",
       "set           98\n",
       "sledge        34\n",
       "other         23\n",
       "services       9\n",
       "Name: gear_class, dtype: int64"
      ]
     },
     "execution_count": 440,
     "metadata": {},
     "output_type": "execute_result"
    }
   ],
   "source": [
    "df['gear_class'].value_counts()"
   ]
  },
  {
   "cell_type": "markdown",
   "id": "3cf07d18",
   "metadata": {},
   "source": [
    "### persist cleaned and enriched data"
   ]
  },
  {
   "cell_type": "code",
   "execution_count": 215,
   "id": "004acc90",
   "metadata": {},
   "outputs": [],
   "source": [
    "df.to_csv('../Data/gears_stage3.csv', index=False)\n"
   ]
  },
  {
   "cell_type": "code",
   "execution_count": 441,
   "id": "c63eb288",
   "metadata": {
    "scrolled": true
   },
   "outputs": [
    {
     "data": {
      "text/html": [
       "<div>\n",
       "<style scoped>\n",
       "    .dataframe tbody tr th:only-of-type {\n",
       "        vertical-align: middle;\n",
       "    }\n",
       "\n",
       "    .dataframe tbody tr th {\n",
       "        vertical-align: top;\n",
       "    }\n",
       "\n",
       "    .dataframe thead th {\n",
       "        text-align: right;\n",
       "    }\n",
       "</style>\n",
       "<table border=\"1\" class=\"dataframe\">\n",
       "  <thead>\n",
       "    <tr style=\"text-align: right;\">\n",
       "      <th></th>\n",
       "      <th>location</th>\n",
       "      <th>location_town</th>\n",
       "      <th>first_rental_day</th>\n",
       "      <th>return_date</th>\n",
       "      <th>gear_name</th>\n",
       "      <th>price</th>\n",
       "      <th>rental_duration</th>\n",
       "      <th>price_per_day</th>\n",
       "      <th>gear_class</th>\n",
       "    </tr>\n",
       "  </thead>\n",
       "  <tbody>\n",
       "    <tr>\n",
       "      <th>0</th>\n",
       "      <td>Grimentz – Valais</td>\n",
       "      <td>Grimentz</td>\n",
       "      <td>2023-12-15</td>\n",
       "      <td>2023-12-15</td>\n",
       "      <td>ski exclusive</td>\n",
       "      <td>49.5</td>\n",
       "      <td>1</td>\n",
       "      <td>49.5</td>\n",
       "      <td>ski</td>\n",
       "    </tr>\n",
       "    <tr>\n",
       "      <th>1</th>\n",
       "      <td>Grimentz – Valais</td>\n",
       "      <td>Grimentz</td>\n",
       "      <td>2023-12-15</td>\n",
       "      <td>2023-12-15</td>\n",
       "      <td>ski premium</td>\n",
       "      <td>34.2</td>\n",
       "      <td>1</td>\n",
       "      <td>34.2</td>\n",
       "      <td>ski</td>\n",
       "    </tr>\n",
       "    <tr>\n",
       "      <th>2</th>\n",
       "      <td>Grimentz – Valais</td>\n",
       "      <td>Grimentz</td>\n",
       "      <td>2023-12-15</td>\n",
       "      <td>2023-12-15</td>\n",
       "      <td>telemark ski premium</td>\n",
       "      <td>49.5</td>\n",
       "      <td>1</td>\n",
       "      <td>49.5</td>\n",
       "      <td>ski</td>\n",
       "    </tr>\n",
       "    <tr>\n",
       "      <th>3</th>\n",
       "      <td>Grimentz – Valais</td>\n",
       "      <td>Grimentz</td>\n",
       "      <td>2023-12-15</td>\n",
       "      <td>2023-12-15</td>\n",
       "      <td>ski economy</td>\n",
       "      <td>26.1</td>\n",
       "      <td>1</td>\n",
       "      <td>26.1</td>\n",
       "      <td>ski</td>\n",
       "    </tr>\n",
       "    <tr>\n",
       "      <th>4</th>\n",
       "      <td>Grimentz – Valais</td>\n",
       "      <td>Grimentz</td>\n",
       "      <td>2023-12-15</td>\n",
       "      <td>2023-12-15</td>\n",
       "      <td>skiboots premium</td>\n",
       "      <td>17.1</td>\n",
       "      <td>1</td>\n",
       "      <td>17.1</td>\n",
       "      <td>clothes</td>\n",
       "    </tr>\n",
       "    <tr>\n",
       "      <th>5</th>\n",
       "      <td>Grimentz – Valais</td>\n",
       "      <td>Grimentz</td>\n",
       "      <td>2023-12-15</td>\n",
       "      <td>2023-12-15</td>\n",
       "      <td>skiboots economy</td>\n",
       "      <td>13.5</td>\n",
       "      <td>1</td>\n",
       "      <td>13.5</td>\n",
       "      <td>clothes</td>\n",
       "    </tr>\n",
       "    <tr>\n",
       "      <th>6</th>\n",
       "      <td>Grimentz – Valais</td>\n",
       "      <td>Grimentz</td>\n",
       "      <td>2023-12-15</td>\n",
       "      <td>2023-12-15</td>\n",
       "      <td>alpine touring ski boots</td>\n",
       "      <td>17.1</td>\n",
       "      <td>1</td>\n",
       "      <td>17.1</td>\n",
       "      <td>clothes</td>\n",
       "    </tr>\n",
       "    <tr>\n",
       "      <th>7</th>\n",
       "      <td>Grimentz – Valais</td>\n",
       "      <td>Grimentz</td>\n",
       "      <td>2023-12-15</td>\n",
       "      <td>2023-12-15</td>\n",
       "      <td>telemark skiboots</td>\n",
       "      <td>17.1</td>\n",
       "      <td>1</td>\n",
       "      <td>17.1</td>\n",
       "      <td>clothes</td>\n",
       "    </tr>\n",
       "    <tr>\n",
       "      <th>8</th>\n",
       "      <td>Grimentz – Valais</td>\n",
       "      <td>Grimentz</td>\n",
       "      <td>2023-12-15</td>\n",
       "      <td>2023-12-15</td>\n",
       "      <td>touring ski exklusiv</td>\n",
       "      <td>49.5</td>\n",
       "      <td>1</td>\n",
       "      <td>49.5</td>\n",
       "      <td>ski</td>\n",
       "    </tr>\n",
       "    <tr>\n",
       "      <th>9</th>\n",
       "      <td>Grimentz – Valais</td>\n",
       "      <td>Grimentz</td>\n",
       "      <td>2023-12-15</td>\n",
       "      <td>2023-12-15</td>\n",
       "      <td>split board</td>\n",
       "      <td>49.5</td>\n",
       "      <td>1</td>\n",
       "      <td>49.5</td>\n",
       "      <td>snowboard</td>\n",
       "    </tr>\n",
       "  </tbody>\n",
       "</table>\n",
       "</div>"
      ],
      "text/plain": [
       "            location location_town first_rental_day return_date  \\\n",
       "0  Grimentz – Valais      Grimentz       2023-12-15  2023-12-15   \n",
       "1  Grimentz – Valais      Grimentz       2023-12-15  2023-12-15   \n",
       "2  Grimentz – Valais      Grimentz       2023-12-15  2023-12-15   \n",
       "3  Grimentz – Valais      Grimentz       2023-12-15  2023-12-15   \n",
       "4  Grimentz – Valais      Grimentz       2023-12-15  2023-12-15   \n",
       "5  Grimentz – Valais      Grimentz       2023-12-15  2023-12-15   \n",
       "6  Grimentz – Valais      Grimentz       2023-12-15  2023-12-15   \n",
       "7  Grimentz – Valais      Grimentz       2023-12-15  2023-12-15   \n",
       "8  Grimentz – Valais      Grimentz       2023-12-15  2023-12-15   \n",
       "9  Grimentz – Valais      Grimentz       2023-12-15  2023-12-15   \n",
       "\n",
       "                  gear_name  price  rental_duration  price_per_day gear_class  \n",
       "0             ski exclusive   49.5                1           49.5        ski  \n",
       "1               ski premium   34.2                1           34.2        ski  \n",
       "2      telemark ski premium   49.5                1           49.5        ski  \n",
       "3               ski economy   26.1                1           26.1        ski  \n",
       "4          skiboots premium   17.1                1           17.1    clothes  \n",
       "5          skiboots economy   13.5                1           13.5    clothes  \n",
       "6  alpine touring ski boots   17.1                1           17.1    clothes  \n",
       "7         telemark skiboots   17.1                1           17.1    clothes  \n",
       "8      touring ski exklusiv   49.5                1           49.5        ski  \n",
       "9               split board   49.5                1           49.5  snowboard  "
      ]
     },
     "execution_count": 441,
     "metadata": {},
     "output_type": "execute_result"
    }
   ],
   "source": [
    "df.head(10)"
   ]
  },
  {
   "cell_type": "code",
   "execution_count": null,
   "id": "c21e8332",
   "metadata": {},
   "outputs": [],
   "source": []
  }
 ],
 "metadata": {
  "kernelspec": {
   "display_name": "Python 3.9 (cv)",
   "language": "python",
   "name": "cv"
  },
  "language_info": {
   "codemirror_mode": {
    "name": "ipython",
    "version": 3
   },
   "file_extension": ".py",
   "mimetype": "text/x-python",
   "name": "python",
   "nbconvert_exporter": "python",
   "pygments_lexer": "ipython3",
   "version": "3.8.5"
  }
 },
 "nbformat": 4,
 "nbformat_minor": 5
}
