{
 "cells": [
  {
   "cell_type": "markdown",
   "id": "913c8446",
   "metadata": {},
   "source": [
    "## CLEANING\n",
    "- 0) Not handled cause OK: Missing Values, Duplicates, Zero Values, Outliars\n",
    "- 1) Data types (first_rental_day,return_date,price) : All Rows\n",
    "- 2) Reformat Currency (CHF 99.99) : All Rows\n",
    "- 3) Irrelevant column values (gear_name): 80 Rows\n",
    "- 4) location_town Correction: remove Canton from gemeinde (Aeschi BE): All Rows\n",
    "- 5) String strip spaces,etc.: All Rows\n",
    "- 6) Drop irrelevant columns : All Rows\n",
    "## TRANSFORM\n",
    "- 1) rent duration\n",
    "- 2) Daily Rent calculated\n",
    "- 3) Region\n",
    "- 4) Gear Class\n",
    "- 5) Gear harmonised name"
   ]
  },
  {
   "cell_type": "code",
   "execution_count": 12,
   "id": "87979897",
   "metadata": {},
   "outputs": [],
   "source": [
    "import pandas as pd"
   ]
  },
  {
   "cell_type": "code",
   "execution_count": 23,
   "id": "f540f97a",
   "metadata": {},
   "outputs": [],
   "source": [
    "df = pd.read_csv(\"../Data/gears_stage1.csv\", sep=',')"
   ]
  },
  {
   "cell_type": "code",
   "execution_count": 24,
   "id": "3458109e",
   "metadata": {
    "scrolled": false
   },
   "outputs": [
    {
     "data": {
      "text/html": [
       "<div>\n",
       "<style scoped>\n",
       "    .dataframe tbody tr th:only-of-type {\n",
       "        vertical-align: middle;\n",
       "    }\n",
       "\n",
       "    .dataframe tbody tr th {\n",
       "        vertical-align: top;\n",
       "    }\n",
       "\n",
       "    .dataframe thead th {\n",
       "        text-align: right;\n",
       "    }\n",
       "</style>\n",
       "<table border=\"1\" class=\"dataframe\">\n",
       "  <thead>\n",
       "    <tr style=\"text-align: right;\">\n",
       "      <th></th>\n",
       "      <th>location</th>\n",
       "      <th>location_town</th>\n",
       "      <th>first_rental_day</th>\n",
       "      <th>return_date</th>\n",
       "      <th>gear_name</th>\n",
       "      <th>description</th>\n",
       "      <th>price</th>\n",
       "    </tr>\n",
       "  </thead>\n",
       "  <tbody>\n",
       "    <tr>\n",
       "      <th>0</th>\n",
       "      <td>Grimentz – Valais</td>\n",
       "      <td>Grimentz</td>\n",
       "      <td>2023-12-15</td>\n",
       "      <td>2023-12-15</td>\n",
       "      <td>Ski Exclusive</td>\n",
       "      <td>Highest Quality &amp; innovative technology__Direc...</td>\n",
       "      <td>CHF 49.50</td>\n",
       "    </tr>\n",
       "    <tr>\n",
       "      <th>1</th>\n",
       "      <td>Grimentz – Valais</td>\n",
       "      <td>Grimentz</td>\n",
       "      <td>2023-12-15</td>\n",
       "      <td>2023-12-15</td>\n",
       "      <td>Ski Premium</td>\n",
       "      <td>For sporty bargain hunters__A ton of fun on th...</td>\n",
       "      <td>CHF 34.20</td>\n",
       "    </tr>\n",
       "    <tr>\n",
       "      <th>2</th>\n",
       "      <td>Grimentz – Valais</td>\n",
       "      <td>Grimentz</td>\n",
       "      <td>2023-12-15</td>\n",
       "      <td>2023-12-15</td>\n",
       "      <td>Telemark Ski Premium</td>\n",
       "      <td>Type according to availability;</td>\n",
       "      <td>CHF 49.50</td>\n",
       "    </tr>\n",
       "    <tr>\n",
       "      <th>3</th>\n",
       "      <td>Grimentz – Valais</td>\n",
       "      <td>Grimentz</td>\n",
       "      <td>2023-12-15</td>\n",
       "      <td>2023-12-15</td>\n",
       "      <td>Ski Economy</td>\n",
       "      <td>For the price-conscious__Type according to ava...</td>\n",
       "      <td>CHF 26.10</td>\n",
       "    </tr>\n",
       "    <tr>\n",
       "      <th>4</th>\n",
       "      <td>Grimentz – Valais</td>\n",
       "      <td>Grimentz</td>\n",
       "      <td>2023-12-15</td>\n",
       "      <td>2023-12-15</td>\n",
       "      <td>Skiboots premium</td>\n",
       "      <td>Direct force transmission__High Comfort &amp; perf...</td>\n",
       "      <td>CHF 17.10</td>\n",
       "    </tr>\n",
       "  </tbody>\n",
       "</table>\n",
       "</div>"
      ],
      "text/plain": [
       "            location location_town first_rental_day return_date  \\\n",
       "0  Grimentz – Valais     Grimentz        2023-12-15  2023-12-15   \n",
       "1  Grimentz – Valais     Grimentz        2023-12-15  2023-12-15   \n",
       "2  Grimentz – Valais     Grimentz        2023-12-15  2023-12-15   \n",
       "3  Grimentz – Valais     Grimentz        2023-12-15  2023-12-15   \n",
       "4  Grimentz – Valais     Grimentz        2023-12-15  2023-12-15   \n",
       "\n",
       "              gear_name                                        description  \\\n",
       "0         Ski Exclusive  Highest Quality & innovative technology__Direc...   \n",
       "1           Ski Premium  For sporty bargain hunters__A ton of fun on th...   \n",
       "2  Telemark Ski Premium                    Type according to availability;   \n",
       "3           Ski Economy  For the price-conscious__Type according to ava...   \n",
       "4      Skiboots premium  Direct force transmission__High Comfort & perf...   \n",
       "\n",
       "       price  \n",
       "0  CHF 49.50  \n",
       "1  CHF 34.20  \n",
       "2  CHF 49.50  \n",
       "3  CHF 26.10  \n",
       "4  CHF 17.10  "
      ]
     },
     "execution_count": 24,
     "metadata": {},
     "output_type": "execute_result"
    }
   ],
   "source": [
    "df.head(5)"
   ]
  },
  {
   "cell_type": "code",
   "execution_count": 26,
   "id": "02b9e439",
   "metadata": {
    "scrolled": false
   },
   "outputs": [
    {
     "data": {
      "text/html": [
       "<div>\n",
       "<style scoped>\n",
       "    .dataframe tbody tr th:only-of-type {\n",
       "        vertical-align: middle;\n",
       "    }\n",
       "\n",
       "    .dataframe tbody tr th {\n",
       "        vertical-align: top;\n",
       "    }\n",
       "\n",
       "    .dataframe thead th {\n",
       "        text-align: right;\n",
       "    }\n",
       "</style>\n",
       "<table border=\"1\" class=\"dataframe\">\n",
       "  <thead>\n",
       "    <tr style=\"text-align: right;\">\n",
       "      <th></th>\n",
       "      <th>location</th>\n",
       "      <th>location_town</th>\n",
       "      <th>first_rental_day</th>\n",
       "      <th>return_date</th>\n",
       "      <th>gear_name</th>\n",
       "      <th>description</th>\n",
       "      <th>price</th>\n",
       "    </tr>\n",
       "  </thead>\n",
       "  <tbody>\n",
       "    <tr>\n",
       "      <th>count</th>\n",
       "      <td>1654</td>\n",
       "      <td>1654</td>\n",
       "      <td>1654</td>\n",
       "      <td>1654</td>\n",
       "      <td>1654</td>\n",
       "      <td>1654</td>\n",
       "      <td>1654</td>\n",
       "    </tr>\n",
       "    <tr>\n",
       "      <th>unique</th>\n",
       "      <td>44</td>\n",
       "      <td>44</td>\n",
       "      <td>1</td>\n",
       "      <td>3</td>\n",
       "      <td>74</td>\n",
       "      <td>69</td>\n",
       "      <td>288</td>\n",
       "    </tr>\n",
       "    <tr>\n",
       "      <th>top</th>\n",
       "      <td>Silvaplana – Graubünden</td>\n",
       "      <td>Silvaplana</td>\n",
       "      <td>2023-12-15</td>\n",
       "      <td>2023-12-15</td>\n",
       "      <td>Ski Economy</td>\n",
       "      <td>Type according to availability;</td>\n",
       "      <td>CHF 5.00</td>\n",
       "    </tr>\n",
       "    <tr>\n",
       "      <th>freq</th>\n",
       "      <td>69</td>\n",
       "      <td>69</td>\n",
       "      <td>1654</td>\n",
       "      <td>573</td>\n",
       "      <td>113</td>\n",
       "      <td>164</td>\n",
       "      <td>80</td>\n",
       "    </tr>\n",
       "  </tbody>\n",
       "</table>\n",
       "</div>"
      ],
      "text/plain": [
       "                       location location_town first_rental_day return_date  \\\n",
       "count                      1654          1654             1654        1654   \n",
       "unique                       44            44                1           3   \n",
       "top     Silvaplana – Graubünden   Silvaplana        2023-12-15  2023-12-15   \n",
       "freq                         69            69             1654         573   \n",
       "\n",
       "          gear_name                      description     price  \n",
       "count          1654                             1654      1654  \n",
       "unique           74                               69       288  \n",
       "top     Ski Economy  Type according to availability;  CHF 5.00  \n",
       "freq            113                              164        80  "
      ]
     },
     "execution_count": 26,
     "metadata": {},
     "output_type": "execute_result"
    }
   ],
   "source": [
    "df.describe()"
   ]
  },
  {
   "cell_type": "markdown",
   "id": "b375d8c1",
   "metadata": {},
   "source": [
    "## Handling Missing\n",
    "There are no Missing Data so we don't have to decide if want to drop data or to decide an imputation strategy."
   ]
  },
  {
   "cell_type": "code",
   "execution_count": 27,
   "id": "99a9cb6a",
   "metadata": {},
   "outputs": [
    {
     "data": {
      "text/plain": [
       "location            0\n",
       "location_town       0\n",
       "first_rental_day    0\n",
       "return_date         0\n",
       "gear_name           0\n",
       "description         0\n",
       "price               0\n",
       "dtype: int64"
      ]
     },
     "execution_count": 27,
     "metadata": {},
     "output_type": "execute_result"
    }
   ],
   "source": [
    "df.isnull().sum()"
   ]
  },
  {
   "cell_type": "markdown",
   "id": "8c2ee973",
   "metadata": {},
   "source": [
    "## Duplicated\n",
    "No duplicated found so no need to apply a strategy for duplicates."
   ]
  },
  {
   "cell_type": "code",
   "execution_count": 28,
   "id": "800cd187",
   "metadata": {},
   "outputs": [
    {
     "data": {
      "text/plain": [
       "0"
      ]
     },
     "execution_count": 28,
     "metadata": {},
     "output_type": "execute_result"
    }
   ],
   "source": [
    "df.duplicated().sum()"
   ]
  },
  {
   "cell_type": "code",
   "execution_count": 29,
   "id": "6451ceb8",
   "metadata": {
    "scrolled": true
   },
   "outputs": [
    {
     "data": {
      "text/html": [
       "<div>\n",
       "<style scoped>\n",
       "    .dataframe tbody tr th:only-of-type {\n",
       "        vertical-align: middle;\n",
       "    }\n",
       "\n",
       "    .dataframe tbody tr th {\n",
       "        vertical-align: top;\n",
       "    }\n",
       "\n",
       "    .dataframe thead th {\n",
       "        text-align: right;\n",
       "    }\n",
       "</style>\n",
       "<table border=\"1\" class=\"dataframe\">\n",
       "  <thead>\n",
       "    <tr style=\"text-align: right;\">\n",
       "      <th></th>\n",
       "      <th>location</th>\n",
       "      <th>location_town</th>\n",
       "      <th>first_rental_day</th>\n",
       "      <th>return_date</th>\n",
       "      <th>gear_name</th>\n",
       "      <th>description</th>\n",
       "      <th>price</th>\n",
       "    </tr>\n",
       "  </thead>\n",
       "  <tbody>\n",
       "  </tbody>\n",
       "</table>\n",
       "</div>"
      ],
      "text/plain": [
       "Empty DataFrame\n",
       "Columns: [location, location_town, first_rental_day, return_date, gear_name, description, price]\n",
       "Index: []"
      ]
     },
     "execution_count": 29,
     "metadata": {},
     "output_type": "execute_result"
    }
   ],
   "source": [
    "df[df.duplicated()]"
   ]
  },
  {
   "cell_type": "markdown",
   "id": "23e0bc47",
   "metadata": {},
   "source": [
    "## Data Types check\n"
   ]
  },
  {
   "cell_type": "code",
   "execution_count": 31,
   "id": "659bbc66",
   "metadata": {
    "scrolled": false
   },
   "outputs": [
    {
     "name": "stdout",
     "output_type": "stream",
     "text": [
      "<class 'pandas.core.frame.DataFrame'>\n",
      "RangeIndex: 1654 entries, 0 to 1653\n",
      "Data columns (total 7 columns):\n",
      " #   Column            Non-Null Count  Dtype \n",
      "---  ------            --------------  ----- \n",
      " 0   location          1654 non-null   object\n",
      " 1   location_town     1654 non-null   object\n",
      " 2   first_rental_day  1654 non-null   object\n",
      " 3   return_date       1654 non-null   object\n",
      " 4   gear_name         1654 non-null   object\n",
      " 5   description       1654 non-null   object\n",
      " 6   price             1654 non-null   object\n",
      "dtypes: object(7)\n",
      "memory usage: 90.6+ KB\n"
     ]
    }
   ],
   "source": [
    "df.info()"
   ]
  },
  {
   "cell_type": "markdown",
   "id": "5af581a7",
   "metadata": {},
   "source": [
    "### Change in data type\n",
    "- first_rental_day to be casted as a DATE\n",
    "- return_date to be casted as a DATE\n",
    "- price to be casted as a NUMBER\n"
   ]
  },
  {
   "cell_type": "code",
   "execution_count": 33,
   "id": "b134efb3",
   "metadata": {},
   "outputs": [],
   "source": [
    "df['first_rental_day'] = pd.to_datetime(df['first_rental_day'])\n"
   ]
  },
  {
   "cell_type": "code",
   "execution_count": 36,
   "id": "6762646c",
   "metadata": {},
   "outputs": [],
   "source": [
    "df['return_date'] = pd.to_datetime(df['return_date'])\n"
   ]
  },
  {
   "cell_type": "code",
   "execution_count": 65,
   "id": "1c490c1f",
   "metadata": {},
   "outputs": [],
   "source": [
    "### Price: Wrong Format and Change data type "
   ]
  },
  {
   "cell_type": "code",
   "execution_count": 41,
   "id": "8993a47f",
   "metadata": {
    "scrolled": false
   },
   "outputs": [
    {
     "data": {
      "text/plain": [
       "0    CHF 49.50\n",
       "1    CHF 34.20\n",
       "2    CHF 49.50\n",
       "3    CHF 26.10\n",
       "4    CHF 17.10\n",
       "5    CHF 13.50\n",
       "6    CHF 17.10\n",
       "7    CHF 17.10\n",
       "8    CHF 49.50\n",
       "9    CHF 49.50\n",
       "Name: price, dtype: object"
      ]
     },
     "execution_count": 41,
     "metadata": {},
     "output_type": "execute_result"
    }
   ],
   "source": [
    "df['price'].head(10)"
   ]
  },
  {
   "cell_type": "code",
   "execution_count": 42,
   "id": "1ddcec7d",
   "metadata": {},
   "outputs": [],
   "source": [
    "# Remove non numeric\n",
    "df['price'] = pd.to_numeric(df['price'].replace('[^\\d.]', '', regex=True), errors='coerce')\n"
   ]
  },
  {
   "cell_type": "code",
   "execution_count": 43,
   "id": "89604261",
   "metadata": {
    "scrolled": false
   },
   "outputs": [
    {
     "data": {
      "text/plain": [
       "0    49.5\n",
       "1    34.2\n",
       "2    49.5\n",
       "3    26.1\n",
       "4    17.1\n",
       "5    13.5\n",
       "6    17.1\n",
       "7    17.1\n",
       "8    49.5\n",
       "9    49.5\n",
       "Name: price, dtype: float64"
      ]
     },
     "execution_count": 43,
     "metadata": {},
     "output_type": "execute_result"
    }
   ],
   "source": [
    "df['price'].head(10)"
   ]
  },
  {
   "cell_type": "code",
   "execution_count": null,
   "id": "03bdac47",
   "metadata": {},
   "outputs": [],
   "source": []
  },
  {
   "cell_type": "code",
   "execution_count": 51,
   "id": "fa9fe910",
   "metadata": {
    "scrolled": true
   },
   "outputs": [
    {
     "name": "stdout",
     "output_type": "stream",
     "text": [
      "<class 'pandas.core.frame.DataFrame'>\n",
      "RangeIndex: 1654 entries, 0 to 1653\n",
      "Data columns (total 7 columns):\n",
      " #   Column            Non-Null Count  Dtype         \n",
      "---  ------            --------------  -----         \n",
      " 0   location          1654 non-null   object        \n",
      " 1   location_town     1654 non-null   object        \n",
      " 2   first_rental_day  1654 non-null   datetime64[ns]\n",
      " 3   return_date       1654 non-null   datetime64[ns]\n",
      " 4   gear_name         1654 non-null   object        \n",
      " 5   description       1654 non-null   object        \n",
      " 6   price             1654 non-null   float64       \n",
      "dtypes: datetime64[ns](2), float64(1), object(4)\n",
      "memory usage: 90.6+ KB\n"
     ]
    }
   ],
   "source": [
    "df.info()"
   ]
  },
  {
   "cell_type": "markdown",
   "id": "5da4393e",
   "metadata": {},
   "source": [
    "### Data Types now OK"
   ]
  },
  {
   "cell_type": "code",
   "execution_count": 35,
   "id": "199d36b8",
   "metadata": {
    "scrolled": true
   },
   "outputs": [
    {
     "data": {
      "text/html": [
       "<div>\n",
       "<style scoped>\n",
       "    .dataframe tbody tr th:only-of-type {\n",
       "        vertical-align: middle;\n",
       "    }\n",
       "\n",
       "    .dataframe tbody tr th {\n",
       "        vertical-align: top;\n",
       "    }\n",
       "\n",
       "    .dataframe thead th {\n",
       "        text-align: right;\n",
       "    }\n",
       "</style>\n",
       "<table border=\"1\" class=\"dataframe\">\n",
       "  <thead>\n",
       "    <tr style=\"text-align: right;\">\n",
       "      <th></th>\n",
       "      <th>location</th>\n",
       "      <th>location_town</th>\n",
       "      <th>first_rental_day</th>\n",
       "      <th>return_date</th>\n",
       "      <th>gear_name</th>\n",
       "      <th>description</th>\n",
       "      <th>price</th>\n",
       "    </tr>\n",
       "  </thead>\n",
       "  <tbody>\n",
       "    <tr>\n",
       "      <th>0</th>\n",
       "      <td>Grimentz – Valais</td>\n",
       "      <td>Grimentz</td>\n",
       "      <td>2023-12-15</td>\n",
       "      <td>2023-12-15</td>\n",
       "      <td>Ski Exclusive</td>\n",
       "      <td>Highest Quality &amp; innovative technology__Direc...</td>\n",
       "      <td>CHF 49.50</td>\n",
       "    </tr>\n",
       "    <tr>\n",
       "      <th>1</th>\n",
       "      <td>Grimentz – Valais</td>\n",
       "      <td>Grimentz</td>\n",
       "      <td>2023-12-15</td>\n",
       "      <td>2023-12-15</td>\n",
       "      <td>Ski Premium</td>\n",
       "      <td>For sporty bargain hunters__A ton of fun on th...</td>\n",
       "      <td>CHF 34.20</td>\n",
       "    </tr>\n",
       "    <tr>\n",
       "      <th>2</th>\n",
       "      <td>Grimentz – Valais</td>\n",
       "      <td>Grimentz</td>\n",
       "      <td>2023-12-15</td>\n",
       "      <td>2023-12-15</td>\n",
       "      <td>Telemark Ski Premium</td>\n",
       "      <td>Type according to availability;</td>\n",
       "      <td>CHF 49.50</td>\n",
       "    </tr>\n",
       "  </tbody>\n",
       "</table>\n",
       "</div>"
      ],
      "text/plain": [
       "            location location_town first_rental_day return_date  \\\n",
       "0  Grimentz – Valais     Grimentz        2023-12-15  2023-12-15   \n",
       "1  Grimentz – Valais     Grimentz        2023-12-15  2023-12-15   \n",
       "2  Grimentz – Valais     Grimentz        2023-12-15  2023-12-15   \n",
       "\n",
       "              gear_name                                        description  \\\n",
       "0         Ski Exclusive  Highest Quality & innovative technology__Direc...   \n",
       "1           Ski Premium  For sporty bargain hunters__A ton of fun on th...   \n",
       "2  Telemark Ski Premium                    Type according to availability;   \n",
       "\n",
       "       price  \n",
       "0  CHF 49.50  \n",
       "1  CHF 34.20  \n",
       "2  CHF 49.50  "
      ]
     },
     "execution_count": 35,
     "metadata": {},
     "output_type": "execute_result"
    }
   ],
   "source": [
    "df.head(3)"
   ]
  },
  {
   "cell_type": "code",
   "execution_count": null,
   "id": "ea5a115d",
   "metadata": {},
   "outputs": [],
   "source": [
    "rental duration return_date"
   ]
  },
  {
   "cell_type": "markdown",
   "id": "662ddb46",
   "metadata": {},
   "source": [
    "## Zeros check"
   ]
  },
  {
   "cell_type": "markdown",
   "id": "54c3bb07",
   "metadata": {},
   "source": [
    "Are there \"empty\" dates? From the queries we know we have  very limited set of date"
   ]
  },
  {
   "cell_type": "code",
   "execution_count": 57,
   "id": "260438f8",
   "metadata": {
    "scrolled": true
   },
   "outputs": [
    {
     "data": {
      "text/plain": [
       "array(['2023-12-15T00:00:00.000000000'], dtype='datetime64[ns]')"
      ]
     },
     "execution_count": 57,
     "metadata": {},
     "output_type": "execute_result"
    }
   ],
   "source": [
    "df['first_rental_day'].unique()"
   ]
  },
  {
   "cell_type": "code",
   "execution_count": 58,
   "id": "8447d4f2",
   "metadata": {
    "scrolled": true
   },
   "outputs": [
    {
     "data": {
      "text/plain": [
       "array(['2023-12-15T00:00:00.000000000', '2023-12-16T00:00:00.000000000',\n",
       "       '2023-12-17T00:00:00.000000000'], dtype='datetime64[ns]')"
      ]
     },
     "execution_count": 58,
     "metadata": {},
     "output_type": "execute_result"
    }
   ],
   "source": [
    "df['return_date'].unique()"
   ]
  },
  {
   "cell_type": "markdown",
   "id": "135d1a60",
   "metadata": {},
   "source": [
    "Checking \"zero\" values for prices"
   ]
  },
  {
   "cell_type": "code",
   "execution_count": 59,
   "id": "294f3254",
   "metadata": {},
   "outputs": [
    {
     "data": {
      "text/plain": [
       "count    1654.000000\n",
       "mean       46.533222\n",
       "std        33.197804\n",
       "min         5.000000\n",
       "25%        20.700000\n",
       "50%        37.600000\n",
       "75%        64.950000\n",
       "max       224.100000\n",
       "Name: price, dtype: float64"
      ]
     },
     "execution_count": 59,
     "metadata": {},
     "output_type": "execute_result"
    }
   ],
   "source": [
    "df['price'].describe()"
   ]
  },
  {
   "cell_type": "markdown",
   "id": "102e32dd",
   "metadata": {},
   "source": [
    "### max price will be investigated as outliars"
   ]
  },
  {
   "cell_type": "markdown",
   "id": "a8d46b2b",
   "metadata": {},
   "source": [
    "Investigating on lowest value"
   ]
  },
  {
   "cell_type": "code",
   "execution_count": 63,
   "id": "9ba2e42c",
   "metadata": {
    "scrolled": true
   },
   "outputs": [
    {
     "data": {
      "text/html": [
       "<div>\n",
       "<style scoped>\n",
       "    .dataframe tbody tr th:only-of-type {\n",
       "        vertical-align: middle;\n",
       "    }\n",
       "\n",
       "    .dataframe tbody tr th {\n",
       "        vertical-align: top;\n",
       "    }\n",
       "\n",
       "    .dataframe thead th {\n",
       "        text-align: right;\n",
       "    }\n",
       "</style>\n",
       "<table border=\"1\" class=\"dataframe\">\n",
       "  <thead>\n",
       "    <tr style=\"text-align: right;\">\n",
       "      <th></th>\n",
       "      <th>location</th>\n",
       "      <th>location_town</th>\n",
       "      <th>first_rental_day</th>\n",
       "      <th>return_date</th>\n",
       "      <th>gear_name</th>\n",
       "      <th>description</th>\n",
       "      <th>price</th>\n",
       "    </tr>\n",
       "  </thead>\n",
       "  <tbody>\n",
       "    <tr>\n",
       "      <th>10</th>\n",
       "      <td>Grimentz – Valais</td>\n",
       "      <td>Grimentz</td>\n",
       "      <td>2023-12-15</td>\n",
       "      <td>2023-12-15</td>\n",
       "      <td>Cancellation option</td>\n",
       "      <td>With the cancellation option you can cancel yo...</td>\n",
       "      <td>5.0</td>\n",
       "    </tr>\n",
       "    <tr>\n",
       "      <th>27</th>\n",
       "      <td>Grimentz – Valais</td>\n",
       "      <td>Grimentz</td>\n",
       "      <td>2023-12-15</td>\n",
       "      <td>2023-12-16</td>\n",
       "      <td>Cancellation option</td>\n",
       "      <td>With the cancellation option you can cancel yo...</td>\n",
       "      <td>5.0</td>\n",
       "    </tr>\n",
       "    <tr>\n",
       "      <th>44</th>\n",
       "      <td>Grimentz – Valais</td>\n",
       "      <td>Grimentz</td>\n",
       "      <td>2023-12-15</td>\n",
       "      <td>2023-12-17</td>\n",
       "      <td>Cancellation option</td>\n",
       "      <td>With the cancellation option you can cancel yo...</td>\n",
       "      <td>5.0</td>\n",
       "    </tr>\n",
       "    <tr>\n",
       "      <th>57</th>\n",
       "      <td>Les Collons Thyon – Valais</td>\n",
       "      <td>Les Collons Thyon</td>\n",
       "      <td>2023-12-15</td>\n",
       "      <td>2023-12-15</td>\n",
       "      <td>Cancellation option</td>\n",
       "      <td>With the cancellation option you can cancel yo...</td>\n",
       "      <td>5.0</td>\n",
       "    </tr>\n",
       "    <tr>\n",
       "      <th>67</th>\n",
       "      <td>Les Collons Thyon – Valais</td>\n",
       "      <td>Les Collons Thyon</td>\n",
       "      <td>2023-12-15</td>\n",
       "      <td>2023-12-16</td>\n",
       "      <td>Cancellation option</td>\n",
       "      <td>With the cancellation option you can cancel yo...</td>\n",
       "      <td>5.0</td>\n",
       "    </tr>\n",
       "  </tbody>\n",
       "</table>\n",
       "</div>"
      ],
      "text/plain": [
       "                      location       location_town first_rental_day  \\\n",
       "10           Grimentz – Valais           Grimentz        2023-12-15   \n",
       "27           Grimentz – Valais           Grimentz        2023-12-15   \n",
       "44           Grimentz – Valais           Grimentz        2023-12-15   \n",
       "57  Les Collons Thyon – Valais  Les Collons Thyon        2023-12-15   \n",
       "67  Les Collons Thyon – Valais  Les Collons Thyon        2023-12-15   \n",
       "\n",
       "   return_date            gear_name  \\\n",
       "10  2023-12-15  Cancellation option   \n",
       "27  2023-12-16  Cancellation option   \n",
       "44  2023-12-17  Cancellation option   \n",
       "57  2023-12-15  Cancellation option   \n",
       "67  2023-12-16  Cancellation option   \n",
       "\n",
       "                                          description  price  \n",
       "10  With the cancellation option you can cancel yo...    5.0  \n",
       "27  With the cancellation option you can cancel yo...    5.0  \n",
       "44  With the cancellation option you can cancel yo...    5.0  \n",
       "57  With the cancellation option you can cancel yo...    5.0  \n",
       "67  With the cancellation option you can cancel yo...    5.0  "
      ]
     },
     "execution_count": 63,
     "metadata": {},
     "output_type": "execute_result"
    }
   ],
   "source": [
    "df[df['price'] == df['price'].min()].head(5)"
   ]
  },
  {
   "cell_type": "code",
   "execution_count": 64,
   "id": "cf962db8",
   "metadata": {
    "scrolled": false
   },
   "outputs": [
    {
     "data": {
      "text/html": [
       "<div>\n",
       "<style scoped>\n",
       "    .dataframe tbody tr th:only-of-type {\n",
       "        vertical-align: middle;\n",
       "    }\n",
       "\n",
       "    .dataframe tbody tr th {\n",
       "        vertical-align: top;\n",
       "    }\n",
       "\n",
       "    .dataframe thead th {\n",
       "        text-align: right;\n",
       "    }\n",
       "</style>\n",
       "<table border=\"1\" class=\"dataframe\">\n",
       "  <thead>\n",
       "    <tr style=\"text-align: right;\">\n",
       "      <th></th>\n",
       "      <th>location</th>\n",
       "      <th>location_town</th>\n",
       "      <th>first_rental_day</th>\n",
       "      <th>return_date</th>\n",
       "      <th>gear_name</th>\n",
       "      <th>description</th>\n",
       "      <th>price</th>\n",
       "    </tr>\n",
       "  </thead>\n",
       "  <tbody>\n",
       "    <tr>\n",
       "      <th>10</th>\n",
       "      <td>Grimentz – Valais</td>\n",
       "      <td>Grimentz</td>\n",
       "      <td>2023-12-15</td>\n",
       "      <td>2023-12-15</td>\n",
       "      <td>Cancellation option</td>\n",
       "      <td>With the cancellation option you can cancel yo...</td>\n",
       "      <td>5.0</td>\n",
       "    </tr>\n",
       "    <tr>\n",
       "      <th>27</th>\n",
       "      <td>Grimentz – Valais</td>\n",
       "      <td>Grimentz</td>\n",
       "      <td>2023-12-15</td>\n",
       "      <td>2023-12-16</td>\n",
       "      <td>Cancellation option</td>\n",
       "      <td>With the cancellation option you can cancel yo...</td>\n",
       "      <td>5.0</td>\n",
       "    </tr>\n",
       "    <tr>\n",
       "      <th>44</th>\n",
       "      <td>Grimentz – Valais</td>\n",
       "      <td>Grimentz</td>\n",
       "      <td>2023-12-15</td>\n",
       "      <td>2023-12-17</td>\n",
       "      <td>Cancellation option</td>\n",
       "      <td>With the cancellation option you can cancel yo...</td>\n",
       "      <td>5.0</td>\n",
       "    </tr>\n",
       "    <tr>\n",
       "      <th>57</th>\n",
       "      <td>Les Collons Thyon – Valais</td>\n",
       "      <td>Les Collons Thyon</td>\n",
       "      <td>2023-12-15</td>\n",
       "      <td>2023-12-15</td>\n",
       "      <td>Cancellation option</td>\n",
       "      <td>With the cancellation option you can cancel yo...</td>\n",
       "      <td>5.0</td>\n",
       "    </tr>\n",
       "    <tr>\n",
       "      <th>67</th>\n",
       "      <td>Les Collons Thyon – Valais</td>\n",
       "      <td>Les Collons Thyon</td>\n",
       "      <td>2023-12-15</td>\n",
       "      <td>2023-12-16</td>\n",
       "      <td>Cancellation option</td>\n",
       "      <td>With the cancellation option you can cancel yo...</td>\n",
       "      <td>5.0</td>\n",
       "    </tr>\n",
       "  </tbody>\n",
       "</table>\n",
       "</div>"
      ],
      "text/plain": [
       "                      location       location_town first_rental_day  \\\n",
       "10           Grimentz – Valais           Grimentz        2023-12-15   \n",
       "27           Grimentz – Valais           Grimentz        2023-12-15   \n",
       "44           Grimentz – Valais           Grimentz        2023-12-15   \n",
       "57  Les Collons Thyon – Valais  Les Collons Thyon        2023-12-15   \n",
       "67  Les Collons Thyon – Valais  Les Collons Thyon        2023-12-15   \n",
       "\n",
       "   return_date            gear_name  \\\n",
       "10  2023-12-15  Cancellation option   \n",
       "27  2023-12-16  Cancellation option   \n",
       "44  2023-12-17  Cancellation option   \n",
       "57  2023-12-15  Cancellation option   \n",
       "67  2023-12-16  Cancellation option   \n",
       "\n",
       "                                          description  price  \n",
       "10  With the cancellation option you can cancel yo...    5.0  \n",
       "27  With the cancellation option you can cancel yo...    5.0  \n",
       "44  With the cancellation option you can cancel yo...    5.0  \n",
       "57  With the cancellation option you can cancel yo...    5.0  \n",
       "67  With the cancellation option you can cancel yo...    5.0  "
      ]
     },
     "execution_count": 64,
     "metadata": {},
     "output_type": "execute_result"
    }
   ],
   "source": [
    "df[df['gear_name'] =='Cancellation option'].head(5)"
   ]
  },
  {
   "cell_type": "markdown",
   "id": "cade8591",
   "metadata": {},
   "source": [
    "### this will have to be threated as irrelevant"
   ]
  },
  {
   "cell_type": "code",
   "execution_count": 66,
   "id": "091b439e",
   "metadata": {
    "scrolled": false
   },
   "outputs": [
    {
     "data": {
      "text/plain": [
       "location            80\n",
       "location_town       80\n",
       "first_rental_day    80\n",
       "return_date         80\n",
       "gear_name           80\n",
       "description         80\n",
       "price               80\n",
       "dtype: int64"
      ]
     },
     "execution_count": 66,
     "metadata": {},
     "output_type": "execute_result"
    }
   ],
   "source": [
    "df[df['gear_name'] =='Cancellation option'].count()"
   ]
  },
  {
   "cell_type": "code",
   "execution_count": 67,
   "id": "45fd5bf8",
   "metadata": {},
   "outputs": [],
   "source": [
    "df = df[df['gear_name'] != 'Cancellation option']"
   ]
  },
  {
   "cell_type": "code",
   "execution_count": 72,
   "id": "13b59b25",
   "metadata": {
    "scrolled": false
   },
   "outputs": [
    {
     "data": {
      "text/plain": [
       "1574"
      ]
     },
     "execution_count": 72,
     "metadata": {},
     "output_type": "execute_result"
    }
   ],
   "source": [
    "df.count()[0]"
   ]
  },
  {
   "cell_type": "code",
   "execution_count": 70,
   "id": "20325fa5",
   "metadata": {
    "scrolled": true
   },
   "outputs": [
    {
     "data": {
      "text/html": [
       "<div>\n",
       "<style scoped>\n",
       "    .dataframe tbody tr th:only-of-type {\n",
       "        vertical-align: middle;\n",
       "    }\n",
       "\n",
       "    .dataframe tbody tr th {\n",
       "        vertical-align: top;\n",
       "    }\n",
       "\n",
       "    .dataframe thead th {\n",
       "        text-align: right;\n",
       "    }\n",
       "</style>\n",
       "<table border=\"1\" class=\"dataframe\">\n",
       "  <thead>\n",
       "    <tr style=\"text-align: right;\">\n",
       "      <th></th>\n",
       "      <th>location</th>\n",
       "      <th>location_town</th>\n",
       "      <th>first_rental_day</th>\n",
       "      <th>return_date</th>\n",
       "      <th>gear_name</th>\n",
       "      <th>description</th>\n",
       "      <th>price</th>\n",
       "    </tr>\n",
       "  </thead>\n",
       "  <tbody>\n",
       "    <tr>\n",
       "      <th>0</th>\n",
       "      <td>Grimentz – Valais</td>\n",
       "      <td>Grimentz</td>\n",
       "      <td>2023-12-15</td>\n",
       "      <td>2023-12-15</td>\n",
       "      <td>Ski Exclusive</td>\n",
       "      <td>Highest Quality &amp; innovative technology__Direc...</td>\n",
       "      <td>49.5</td>\n",
       "    </tr>\n",
       "    <tr>\n",
       "      <th>1</th>\n",
       "      <td>Grimentz – Valais</td>\n",
       "      <td>Grimentz</td>\n",
       "      <td>2023-12-15</td>\n",
       "      <td>2023-12-15</td>\n",
       "      <td>Ski Premium</td>\n",
       "      <td>For sporty bargain hunters__A ton of fun on th...</td>\n",
       "      <td>34.2</td>\n",
       "    </tr>\n",
       "    <tr>\n",
       "      <th>2</th>\n",
       "      <td>Grimentz – Valais</td>\n",
       "      <td>Grimentz</td>\n",
       "      <td>2023-12-15</td>\n",
       "      <td>2023-12-15</td>\n",
       "      <td>Telemark Ski Premium</td>\n",
       "      <td>Type according to availability;</td>\n",
       "      <td>49.5</td>\n",
       "    </tr>\n",
       "    <tr>\n",
       "      <th>3</th>\n",
       "      <td>Grimentz – Valais</td>\n",
       "      <td>Grimentz</td>\n",
       "      <td>2023-12-15</td>\n",
       "      <td>2023-12-15</td>\n",
       "      <td>Ski Economy</td>\n",
       "      <td>For the price-conscious__Type according to ava...</td>\n",
       "      <td>26.1</td>\n",
       "    </tr>\n",
       "    <tr>\n",
       "      <th>4</th>\n",
       "      <td>Grimentz – Valais</td>\n",
       "      <td>Grimentz</td>\n",
       "      <td>2023-12-15</td>\n",
       "      <td>2023-12-15</td>\n",
       "      <td>Skiboots premium</td>\n",
       "      <td>Direct force transmission__High Comfort &amp; perf...</td>\n",
       "      <td>17.1</td>\n",
       "    </tr>\n",
       "  </tbody>\n",
       "</table>\n",
       "</div>"
      ],
      "text/plain": [
       "            location location_town first_rental_day return_date  \\\n",
       "0  Grimentz – Valais     Grimentz        2023-12-15  2023-12-15   \n",
       "1  Grimentz – Valais     Grimentz        2023-12-15  2023-12-15   \n",
       "2  Grimentz – Valais     Grimentz        2023-12-15  2023-12-15   \n",
       "3  Grimentz – Valais     Grimentz        2023-12-15  2023-12-15   \n",
       "4  Grimentz – Valais     Grimentz        2023-12-15  2023-12-15   \n",
       "\n",
       "              gear_name                                        description  \\\n",
       "0         Ski Exclusive  Highest Quality & innovative technology__Direc...   \n",
       "1           Ski Premium  For sporty bargain hunters__A ton of fun on th...   \n",
       "2  Telemark Ski Premium                    Type according to availability;   \n",
       "3           Ski Economy  For the price-conscious__Type according to ava...   \n",
       "4      Skiboots premium  Direct force transmission__High Comfort & perf...   \n",
       "\n",
       "   price  \n",
       "0   49.5  \n",
       "1   34.2  \n",
       "2   49.5  \n",
       "3   26.1  \n",
       "4   17.1  "
      ]
     },
     "execution_count": 70,
     "metadata": {},
     "output_type": "execute_result"
    }
   ],
   "source": [
    "df.head()"
   ]
  },
  {
   "cell_type": "markdown",
   "id": "8f636a2c",
   "metadata": {},
   "source": [
    "## Outliar"
   ]
  },
  {
   "cell_type": "code",
   "execution_count": 81,
   "id": "5a4f42df",
   "metadata": {
    "scrolled": false
   },
   "outputs": [
    {
     "data": {
      "text/plain": [
       "<Axes: >"
      ]
     },
     "execution_count": 81,
     "metadata": {},
     "output_type": "execute_result"
    },
    {
     "data": {
      "image/png": "[encoded data removed]",
      "text/plain": [
       "<Figure size 640x480 with 1 Axes>"
      ]
     },
     "metadata": {},
     "output_type": "display_data"
    }
   ],
   "source": [
    "df.boxplot(column='price')"
   ]
  },
  {
   "cell_type": "code",
   "execution_count": 152,
   "id": "404cee78",
   "metadata": {
    "scrolled": true
   },
   "outputs": [
    {
     "data": {
      "image/png": "[encoded data removed]",
      "text/plain": [
       "<Figure size 640x480 with 1 Axes>"
      ]
     },
     "metadata": {},
     "output_type": "display_data"
    }
   ],
   "source": []
  },
  {
   "cell_type": "code",
   "execution_count": null,
   "id": "bedd67da",
   "metadata": {},
   "outputs": [],
   "source": []
  },
  {
   "cell_type": "code",
   "execution_count": 73,
   "id": "d21a330e",
   "metadata": {
    "scrolled": true
   },
   "outputs": [
    {
     "data": {
      "text/html": [
       "<div>\n",
       "<style scoped>\n",
       "    .dataframe tbody tr th:only-of-type {\n",
       "        vertical-align: middle;\n",
       "    }\n",
       "\n",
       "    .dataframe tbody tr th {\n",
       "        vertical-align: top;\n",
       "    }\n",
       "\n",
       "    .dataframe thead th {\n",
       "        text-align: right;\n",
       "    }\n",
       "</style>\n",
       "<table border=\"1\" class=\"dataframe\">\n",
       "  <thead>\n",
       "    <tr style=\"text-align: right;\">\n",
       "      <th></th>\n",
       "      <th>location</th>\n",
       "      <th>location_town</th>\n",
       "      <th>first_rental_day</th>\n",
       "      <th>return_date</th>\n",
       "      <th>gear_name</th>\n",
       "      <th>description</th>\n",
       "      <th>price</th>\n",
       "    </tr>\n",
       "  </thead>\n",
       "  <tbody>\n",
       "    <tr>\n",
       "      <th>337</th>\n",
       "      <td>Silvaplana – Graubünden</td>\n",
       "      <td>Silvaplana</td>\n",
       "      <td>2023-12-15</td>\n",
       "      <td>2023-12-17</td>\n",
       "      <td>Ski set Premium</td>\n",
       "      <td>Skiset (ski, boots, poles)__Perfect run at hig...</td>\n",
       "      <td>224.1</td>\n",
       "    </tr>\n",
       "  </tbody>\n",
       "</table>\n",
       "</div>"
      ],
      "text/plain": [
       "                    location location_town first_rental_day return_date  \\\n",
       "337  Silvaplana – Graubünden   Silvaplana        2023-12-15  2023-12-17   \n",
       "\n",
       "           gear_name                                        description  price  \n",
       "337  Ski set Premium  Skiset (ski, boots, poles)__Perfect run at hig...  224.1  "
      ]
     },
     "execution_count": 73,
     "metadata": {},
     "output_type": "execute_result"
    }
   ],
   "source": [
    "df[df['price'] > 200]"
   ]
  },
  {
   "cell_type": "markdown",
   "id": "9db2d13a",
   "metadata": {},
   "source": [
    "Although it looks like an outliar may be interesting to keep this for analysis in next steps"
   ]
  },
  {
   "cell_type": "markdown",
   "id": "481db0dc",
   "metadata": {},
   "source": [
    "### Check strip string"
   ]
  },
  {
   "cell_type": "code",
   "execution_count": 84,
   "id": "bcb76bab",
   "metadata": {},
   "outputs": [
    {
     "data": {
      "text/plain": [
       "0"
      ]
     },
     "execution_count": 84,
     "metadata": {},
     "output_type": "execute_result"
    }
   ],
   "source": [
    "(df['location'].str.len() != df['location'].str.strip().str.len()).sum()\n"
   ]
  },
  {
   "cell_type": "markdown",
   "id": "d93a738d",
   "metadata": {},
   "source": [
    "### Location correction"
   ]
  },
  {
   "cell_type": "code",
   "execution_count": 110,
   "id": "10fb250a",
   "metadata": {
    "scrolled": false
   },
   "outputs": [
    {
     "data": {
      "text/plain": [
       "array(['Grimentz ', 'Les Collons Thyon ', 'La Dôle ', 'Mürren ', 'Laax ',\n",
       "       'St-Luc ', 'St. Moritz ', 'Arosa ', 'Silvaplana ', 'Sils i.E. ',\n",
       "       'La Punt ', 'Gstaad ', 'Scuol ', 'Les Diablerets ',\n",
       "       'Villars-sur-Ollon ', 'La Roche - La Berra ', 'Veysonnaz ',\n",
       "       'La Forclaz VS ', 'Vercorin ', 'Bad Ragaz ', 'Obersaxen Mundaun ',\n",
       "       'La Fouly ', 'Les Mosses ', 'Les Marécottes ', 'Aletsch Arena ',\n",
       "       'Samnaun ', 'Münster (Goms) ', 'Les Breuleux ',\n",
       "       \"Les Prés d'Orvin \", 'Schwyz ', 'Andermatt ', 'Vals ',\n",
       "       'Oberwil i.S. ', 'Sörenberg ', 'Le Sentier ', 'Buttes La Robella ',\n",
       "       'St. Peter ', 'Schwanden ob Sigriswil ', 'Homberg b. Thun ',\n",
       "       'Aeschi BE ', 'Sainte-Croix Les Rasses ', 'Les Paccots ',\n",
       "       'Küssnacht am Rigi ', 'Rathvel s/Châtel-St-Denis '], dtype=object)"
      ]
     },
     "execution_count": 110,
     "metadata": {},
     "output_type": "execute_result"
    }
   ],
   "source": [
    "df['location_town'].unique()"
   ]
  },
  {
   "cell_type": "markdown",
   "id": "24bf50cf",
   "metadata": {},
   "source": [
    "Remove canton and strip spaces"
   ]
  },
  {
   "cell_type": "code",
   "execution_count": 111,
   "id": "20884012",
   "metadata": {},
   "outputs": [
    {
     "name": "stdout",
     "output_type": "stream",
     "text": [
      "abbaBEBern\n"
     ]
    }
   ],
   "source": [
    "def correct_misspelling(location):\n",
    "    \"\"\" Correct the misspelling in the location \"\"\"\n",
    "    cantons = ['AG', 'AI', 'AR', 'BE', 'BL', 'BS', 'FR', 'GE', 'GL', 'GR', 'JU', 'LU', 'NE', 'NW', 'OW', 'SG', 'SH', 'SO', 'SZ', 'TG', 'TI', 'UR', 'VD', 'VS', 'ZG', 'ZH']\n",
    "    for canton in cantons:\n",
    "        if location.endswith(f' {canton}'):\n",
    "            return location.replace(f' {canton}','').strip()\n",
    "    return location.strip()   \n",
    "\n",
    "location = \"abbaBEBern BE\"\n",
    "print(correct_misspelling(location))"
   ]
  },
  {
   "cell_type": "code",
   "execution_count": 115,
   "id": "809d126c",
   "metadata": {
    "scrolled": true
   },
   "outputs": [],
   "source": [
    "corrected_location = df['location_town'].apply( correct_misspelling)\n"
   ]
  },
  {
   "cell_type": "code",
   "execution_count": 116,
   "id": "b4f7e88a",
   "metadata": {
    "scrolled": true
   },
   "outputs": [
    {
     "name": "stderr",
     "output_type": "stream",
     "text": [
      "/var/folders/v0/_fxsm4pj6d7d59wv1nmnqw200000gp/T/ipykernel_15929/547972757.py:1: SettingWithCopyWarning: \n",
      "A value is trying to be set on a copy of a slice from a DataFrame.\n",
      "Try using .loc[row_indexer,col_indexer] = value instead\n",
      "\n",
      "See the caveats in the documentation: https://pandas.pydata.org/pandas-docs/stable/user_guide/indexing.html#returning-a-view-versus-a-copy\n",
      "  df['location_town'] = corrected_location\n"
     ]
    }
   ],
   "source": [
    "df['location_town'] = corrected_location"
   ]
  },
  {
   "cell_type": "code",
   "execution_count": 120,
   "id": "ba411ee6",
   "metadata": {
    "scrolled": false
   },
   "outputs": [
    {
     "data": {
      "text/plain": [
       "['Aeschi',\n",
       " 'Aletsch Arena',\n",
       " 'Andermatt',\n",
       " 'Arosa',\n",
       " 'Bad Ragaz',\n",
       " 'Buttes La Robella',\n",
       " 'Grimentz',\n",
       " 'Gstaad',\n",
       " 'Homberg b. Thun',\n",
       " 'Küssnacht am Rigi',\n",
       " 'La Dôle',\n",
       " 'La Forclaz',\n",
       " 'La Fouly',\n",
       " 'La Punt',\n",
       " 'La Roche - La Berra',\n",
       " 'Laax',\n",
       " 'Le Sentier',\n",
       " 'Les Breuleux',\n",
       " 'Les Collons Thyon',\n",
       " 'Les Diablerets',\n",
       " 'Les Marécottes',\n",
       " 'Les Mosses',\n",
       " 'Les Paccots',\n",
       " \"Les Prés d'Orvin\",\n",
       " 'Münster (Goms)',\n",
       " 'Mürren',\n",
       " 'Obersaxen Mundaun',\n",
       " 'Oberwil i.S.',\n",
       " 'Rathvel s/Châtel-St-Denis',\n",
       " 'Sainte-Croix Les Rasses',\n",
       " 'Samnaun',\n",
       " 'Schwanden ob Sigriswil',\n",
       " 'Schwyz',\n",
       " 'Scuol',\n",
       " 'Sils i.E.',\n",
       " 'Silvaplana',\n",
       " 'St-Luc',\n",
       " 'St. Moritz',\n",
       " 'St. Peter',\n",
       " 'Sörenberg',\n",
       " 'Vals',\n",
       " 'Vercorin',\n",
       " 'Veysonnaz',\n",
       " 'Villars-sur-Ollon']"
      ]
     },
     "execution_count": 120,
     "metadata": {},
     "output_type": "execute_result"
    }
   ],
   "source": [
    "sorted(df['location_town'].unique())"
   ]
  },
  {
   "cell_type": "code",
   "execution_count": 121,
   "id": "3158a04a",
   "metadata": {
    "scrolled": true
   },
   "outputs": [
    {
     "data": {
      "text/html": [
       "<div>\n",
       "<style scoped>\n",
       "    .dataframe tbody tr th:only-of-type {\n",
       "        vertical-align: middle;\n",
       "    }\n",
       "\n",
       "    .dataframe tbody tr th {\n",
       "        vertical-align: top;\n",
       "    }\n",
       "\n",
       "    .dataframe thead th {\n",
       "        text-align: right;\n",
       "    }\n",
       "</style>\n",
       "<table border=\"1\" class=\"dataframe\">\n",
       "  <thead>\n",
       "    <tr style=\"text-align: right;\">\n",
       "      <th></th>\n",
       "      <th>location</th>\n",
       "      <th>location_town</th>\n",
       "      <th>first_rental_day</th>\n",
       "      <th>return_date</th>\n",
       "      <th>gear_name</th>\n",
       "      <th>description</th>\n",
       "      <th>price</th>\n",
       "      <th>corrected_location</th>\n",
       "      <th>price2</th>\n",
       "    </tr>\n",
       "  </thead>\n",
       "  <tbody>\n",
       "    <tr>\n",
       "      <th>0</th>\n",
       "      <td>Grimentz – Valais</td>\n",
       "      <td>Grimentz</td>\n",
       "      <td>2023-12-15</td>\n",
       "      <td>2023-12-15</td>\n",
       "      <td>Ski Exclusive</td>\n",
       "      <td>Highest Quality &amp; innovative technology__Direc...</td>\n",
       "      <td>49.5</td>\n",
       "      <td>Grimentz – Valais</td>\n",
       "      <td>1</td>\n",
       "    </tr>\n",
       "    <tr>\n",
       "      <th>1</th>\n",
       "      <td>Grimentz – Valais</td>\n",
       "      <td>Grimentz</td>\n",
       "      <td>2023-12-15</td>\n",
       "      <td>2023-12-15</td>\n",
       "      <td>Ski Premium</td>\n",
       "      <td>For sporty bargain hunters__A ton of fun on th...</td>\n",
       "      <td>34.2</td>\n",
       "      <td>Grimentz – Valais</td>\n",
       "      <td>1</td>\n",
       "    </tr>\n",
       "    <tr>\n",
       "      <th>2</th>\n",
       "      <td>Grimentz – Valais</td>\n",
       "      <td>Grimentz</td>\n",
       "      <td>2023-12-15</td>\n",
       "      <td>2023-12-15</td>\n",
       "      <td>Telemark Ski Premium</td>\n",
       "      <td>Type according to availability;</td>\n",
       "      <td>49.5</td>\n",
       "      <td>Grimentz – Valais</td>\n",
       "      <td>1</td>\n",
       "    </tr>\n",
       "    <tr>\n",
       "      <th>3</th>\n",
       "      <td>Grimentz – Valais</td>\n",
       "      <td>Grimentz</td>\n",
       "      <td>2023-12-15</td>\n",
       "      <td>2023-12-15</td>\n",
       "      <td>Ski Economy</td>\n",
       "      <td>For the price-conscious__Type according to ava...</td>\n",
       "      <td>26.1</td>\n",
       "      <td>Grimentz – Valais</td>\n",
       "      <td>1</td>\n",
       "    </tr>\n",
       "    <tr>\n",
       "      <th>4</th>\n",
       "      <td>Grimentz – Valais</td>\n",
       "      <td>Grimentz</td>\n",
       "      <td>2023-12-15</td>\n",
       "      <td>2023-12-15</td>\n",
       "      <td>Skiboots premium</td>\n",
       "      <td>Direct force transmission__High Comfort &amp; perf...</td>\n",
       "      <td>17.1</td>\n",
       "      <td>Grimentz – Valais</td>\n",
       "      <td>1</td>\n",
       "    </tr>\n",
       "  </tbody>\n",
       "</table>\n",
       "</div>"
      ],
      "text/plain": [
       "            location location_town first_rental_day return_date  \\\n",
       "0  Grimentz – Valais      Grimentz       2023-12-15  2023-12-15   \n",
       "1  Grimentz – Valais      Grimentz       2023-12-15  2023-12-15   \n",
       "2  Grimentz – Valais      Grimentz       2023-12-15  2023-12-15   \n",
       "3  Grimentz – Valais      Grimentz       2023-12-15  2023-12-15   \n",
       "4  Grimentz – Valais      Grimentz       2023-12-15  2023-12-15   \n",
       "\n",
       "              gear_name                                        description  \\\n",
       "0         Ski Exclusive  Highest Quality & innovative technology__Direc...   \n",
       "1           Ski Premium  For sporty bargain hunters__A ton of fun on th...   \n",
       "2  Telemark Ski Premium                    Type according to availability;   \n",
       "3           Ski Economy  For the price-conscious__Type according to ava...   \n",
       "4      Skiboots premium  Direct force transmission__High Comfort & perf...   \n",
       "\n",
       "   price corrected_location  price2  \n",
       "0   49.5  Grimentz – Valais       1  \n",
       "1   34.2  Grimentz – Valais       1  \n",
       "2   49.5  Grimentz – Valais       1  \n",
       "3   26.1  Grimentz – Valais       1  \n",
       "4   17.1  Grimentz – Valais       1  "
      ]
     },
     "execution_count": 121,
     "metadata": {},
     "output_type": "execute_result"
    }
   ],
   "source": [
    "df.head(5)"
   ]
  },
  {
   "cell_type": "code",
   "execution_count": 132,
   "id": "29300d6a",
   "metadata": {
    "scrolled": true
   },
   "outputs": [
    {
     "name": "stdout",
     "output_type": "stream",
     "text": [
      "gear_name\n",
      "description\n"
     ]
    }
   ],
   "source": [
    "for x in df[['gear_name', 'description']]:\n",
    "    print(x)"
   ]
  },
  {
   "cell_type": "code",
   "execution_count": 129,
   "id": "b254f01b",
   "metadata": {
    "scrolled": false
   },
   "outputs": [
    {
     "data": {
      "text/html": [
       "<div>\n",
       "<style scoped>\n",
       "    .dataframe tbody tr th:only-of-type {\n",
       "        vertical-align: middle;\n",
       "    }\n",
       "\n",
       "    .dataframe tbody tr th {\n",
       "        vertical-align: top;\n",
       "    }\n",
       "\n",
       "    .dataframe thead th {\n",
       "        text-align: right;\n",
       "    }\n",
       "</style>\n",
       "<table border=\"1\" class=\"dataframe\">\n",
       "  <thead>\n",
       "    <tr style=\"text-align: right;\">\n",
       "      <th></th>\n",
       "      <th>location</th>\n",
       "      <th>location_town</th>\n",
       "      <th>first_rental_day</th>\n",
       "      <th>return_date</th>\n",
       "      <th>gear_name</th>\n",
       "      <th>description</th>\n",
       "      <th>price</th>\n",
       "    </tr>\n",
       "  </thead>\n",
       "  <tbody>\n",
       "    <tr>\n",
       "      <th>0</th>\n",
       "      <td>Grimentz – Valais</td>\n",
       "      <td>Grimentz</td>\n",
       "      <td>2023-12-15</td>\n",
       "      <td>2023-12-15</td>\n",
       "      <td>Ski Exclusive</td>\n",
       "      <td>Highest Quality &amp; innovative technology__Direc...</td>\n",
       "      <td>49.5</td>\n",
       "    </tr>\n",
       "    <tr>\n",
       "      <th>1</th>\n",
       "      <td>Grimentz – Valais</td>\n",
       "      <td>Grimentz</td>\n",
       "      <td>2023-12-15</td>\n",
       "      <td>2023-12-15</td>\n",
       "      <td>Ski Premium</td>\n",
       "      <td>For sporty bargain hunters__A ton of fun on th...</td>\n",
       "      <td>34.2</td>\n",
       "    </tr>\n",
       "    <tr>\n",
       "      <th>2</th>\n",
       "      <td>Grimentz – Valais</td>\n",
       "      <td>Grimentz</td>\n",
       "      <td>2023-12-15</td>\n",
       "      <td>2023-12-15</td>\n",
       "      <td>Telemark Ski Premium</td>\n",
       "      <td>Type according to availability;</td>\n",
       "      <td>49.5</td>\n",
       "    </tr>\n",
       "    <tr>\n",
       "      <th>3</th>\n",
       "      <td>Grimentz – Valais</td>\n",
       "      <td>Grimentz</td>\n",
       "      <td>2023-12-15</td>\n",
       "      <td>2023-12-15</td>\n",
       "      <td>Ski Economy</td>\n",
       "      <td>For the price-conscious__Type according to ava...</td>\n",
       "      <td>26.1</td>\n",
       "    </tr>\n",
       "    <tr>\n",
       "      <th>4</th>\n",
       "      <td>Grimentz – Valais</td>\n",
       "      <td>Grimentz</td>\n",
       "      <td>2023-12-15</td>\n",
       "      <td>2023-12-15</td>\n",
       "      <td>Skiboots premium</td>\n",
       "      <td>Direct force transmission__High Comfort &amp; perf...</td>\n",
       "      <td>17.1</td>\n",
       "    </tr>\n",
       "  </tbody>\n",
       "</table>\n",
       "</div>"
      ],
      "text/plain": [
       "            location location_town first_rental_day return_date  \\\n",
       "0  Grimentz – Valais      Grimentz       2023-12-15  2023-12-15   \n",
       "1  Grimentz – Valais      Grimentz       2023-12-15  2023-12-15   \n",
       "2  Grimentz – Valais      Grimentz       2023-12-15  2023-12-15   \n",
       "3  Grimentz – Valais      Grimentz       2023-12-15  2023-12-15   \n",
       "4  Grimentz – Valais      Grimentz       2023-12-15  2023-12-15   \n",
       "\n",
       "              gear_name                                        description  \\\n",
       "0         Ski Exclusive  Highest Quality & innovative technology__Direc...   \n",
       "1           Ski Premium  For sporty bargain hunters__A ton of fun on th...   \n",
       "2  Telemark Ski Premium                    Type according to availability;   \n",
       "3           Ski Economy  For the price-conscious__Type according to ava...   \n",
       "4      Skiboots premium  Direct force transmission__High Comfort & perf...   \n",
       "\n",
       "   price  \n",
       "0   49.5  \n",
       "1   34.2  \n",
       "2   49.5  \n",
       "3   26.1  \n",
       "4   17.1  "
      ]
     },
     "execution_count": 129,
     "metadata": {},
     "output_type": "execute_result"
    }
   ],
   "source": [
    "df.head(5)"
   ]
  },
  {
   "cell_type": "code",
   "execution_count": 139,
   "id": "8ff1d841",
   "metadata": {},
   "outputs": [],
   "source": [
    "grouped_counts = df.groupby(['gear_name', 'description']).size().reset_index(name='count')\n"
   ]
  },
  {
   "cell_type": "code",
   "execution_count": 145,
   "id": "2e2facb0",
   "metadata": {},
   "outputs": [],
   "source": [
    "sorted_grouped_counts = grouped_counts.sort_values(by='gear_name', ascending=False)"
   ]
  },
  {
   "cell_type": "code",
   "execution_count": 147,
   "id": "efb5d677",
   "metadata": {
    "scrolled": false
   },
   "outputs": [
    {
     "name": "stdout",
     "output_type": "stream",
     "text": [
      "Touring Ski exklusiv Type according to availability__incl. skins and poles; Count: 26\n",
      "Touring Ski Premium  Type according to availability__incl. skins and poles; Count: 12\n",
      "Touring Set Standard Set includes alpine touring skis, poles, skins and touring ski boots__Suitable for piste tours or ski tours in open terrain; Count: 2\n",
      "Touring Set Premium  Set includes alpine touring skis, poles, skins and touring ski boots__Suitable for piste tours or ski tours in open terrain; Count: 6\n",
      "Toboggan             Comfortable Seating__Easy steering; Count: 9\n",
      "Telemark skiboots    Type according to availability; Count: 21\n",
      "Telemark Ski Premium Type according to availability; Count: 15\n",
      "Split Board          Top Performance__Type according to availability; Count: 10\n",
      "Snowshoes with Poles Great natural experience__Easy going on snow__Highest comfort; Count: 3\n",
      "Snowshoes            Great natural experience__Easy going on snow__Highest Comfort; Count: 44\n",
      "Snowboardboots premium Direct Power Transmission__Safe stand & warm feet__Maximum heel stability__Type according to availability; Count: 14\n",
      "Snowboardboots budget Lightweight__Absolute Comfort__Safe stand__Type according to availability; Count: 3\n",
      "Snowboard premium    Top Performance__Supporting swing release__Perfect for powder__Type according to availability; Count: 29\n",
      "Snowboard exclusive  Unbelieveable edge stability__Extreme Performance__Control in all situations__Type according to availability; Count: 6\n",
      "Snowboard boots economy Easy entry & exit__Safe stand__Best processing__Type according to availability; Count: 62\n",
      "Snowboard boots economy Easy entry & exit__Safe stand__Best processing; Count: 6\n",
      "Snowboard boots Premium Direct Power Transmission__Safe stand & warm feet__Maximum heel stability; Count: 20\n",
      "Snowboard boots      Lightweight__Absolute Comfort__Safe stand; Count: 15\n",
      "Snowboard Superior   Unbelieveable edge stability__Extreme Performance__Control in all situations; Count: 6\n",
      "Snowboard Premium    Top Performance__Supporting swing release__Perfect for powder; Count: 23\n",
      "Snowboard Economy    Perfect for all levels__Tolerance for failures__Stable Board__Type according to availability; Count: 47\n",
      "Snowboard Economy    Lightweight and stable board__Tolerance for failures__Stable Board; Count: 42\n",
      "Snowboard Budget     Perfect for beginners__Tolerant for failures__Stable Board__Type according to availability; Count: 33\n",
      "Snowblades           Extreme sidecut__For turning and reversing__Max. length 90cm__Very narrow radius; Count: 18\n",
      "Snow shoes incl. poles Great natural experience__Easy going on snow__Highest comfort; Count: 35\n",
      "Snow shoes incl. poles Great natural experience__Easy going on snow__Highest Comfort; Count: 3\n",
      "Sledges              Comfortable Seating__Rubber bearing for dumping__Easy steering; Count: 17\n",
      "Sledge               Comfortable Seating__Rubber bearing for dumping__Easy steering; Count: 3\n",
      "Sledge               Comfortable seating__Rubber bearing for dumping__Easy steering; Count: 5\n",
      "Skiing pants adult   Waterproof__Windproof__Perfect fit__Type according to availability; Count: 9\n",
      "Skiing jacket adult  Waterproof__Windproof__Pleasant temperature for your perfect skiing experience__Type according to availability; Count: 9\n",
      "Skiboots premium     Direct force transmission__High Comfort & perfect Footing__Better Performance__Type according to availability; Count: 52\n",
      "Skiboots premium     Direct force transmission__High Comfort & perfect Footing__Better Performance; Count: 8\n",
      "Skiboots economy     Allround ski boot__Comfortable wearing__Excellent driving performance__Type according to availability; Count: 71\n",
      "Skiboots economy     Allround ski boot__Comfortable wearing__Excellent driving performance; Count: 27\n",
      "Skiboots budget      For youngsters__Comfortable__Stable but yet soft; Count: 3\n",
      "Ski set Premium      Skiset (ski, boots, poles)__Perfect run at high speed__Optimal power transmission__Type according to availability; Count: 5\n",
      "Ski set Premium      Skiset (ski, boots, poles)__Perfect run at high speed__Optimal power transmission; Count: 3\n",
      "Ski set Economy      Skiset (ski, boots, poles)__Comfort with little effort__Run with high fault tolerance__Type according to availability; Count: 11\n",
      "Ski poles            Perfect length for everybody__Good grip__With savety straps; Count: 2\n",
      "Ski jacket and ski pants Best fit & extremely comfortable__Wonderfully warming & super light__Windproof/waterproof & breathable__High-end ski suit for all weather conditions; Count: 44\n",
      "Ski helmet           Optimal wearing comfort__Perfect protection__Verified material; Count: 41\n",
      "Ski boot             Direct Force transmission__High Comfort__Better Performance__Perfect footing; Count: 12\n",
      "Ski Test             rent the newest models to test__Models can be changed as often as desired on the day of rental; Count: 24\n",
      "Ski Superior         For skiers who want something special__High end skis from this season__Free ski-model exchange__Free daily service; Count: 41\n",
      "Ski Set Economy      Skiset (ski, boots, poles)__Comfort with little effort__Run with high fault tolerance; Count: 3\n",
      "Ski Premium          For sporty bargain hunters__A ton of fun on the slopes__Type according to availability; Count: 71\n",
      "Ski Premium          For beginners to sporty ones__Novelties of the season__Free ski-model exchange; Count: 41\n",
      "Ski Helmet           Perfect fitting comfort__Perfect protection__Checked for safety; Count: 3\n",
      "Ski Exclusive        Highest Quality & innovative technology__Direct power transmission__Power for sporting descents__Type according to availability; Count: 54\n",
      "Ski Economy          For the price-conscious__Brand skis; Count: 41\n",
      "Ski Economy          For the price-conscious__Type according to availability; Count: 72\n",
      "Ski Carving Boots Premium Direct force transmission__High Comfort & perfect Footing__Better Performance; Count: 3\n",
      "Ski Carving Boots Economy Allround ski boot__Comfortable wearing__Excellent driving performance; Count: 3\n",
      "Ski Budget           Type according to availability; Count: 47\n",
      "Skating shoes        Suitable for skating rinks & natural ice.__For beginners and pro's__Perfect fitting; Count: 21\n",
      "Skating set          Latest binding technology__For long lasting scating sessions__Perfect fitting boots__Lot of different brands available; Count: 3\n",
      "Shortcarver          Extreme sidecut__Bended on both sides__For turning and reversing; Count: 15\n",
      "Safety Set           Set includes avalanche backpack, tranceiver, probe & shovel__For more safety__Easy to use__Perfect for winter sports in open terrain; Count: 15\n",
      "Nordic Set Skating   Type according to availability; Count: 22\n",
      "Nordic Set Classic   Type according to availability; Count: 28\n",
      "Jacket / Pants       Type according to availability; Count: 3\n",
      "Helmet               Perfect fitting comfort__Perfect protection__Checked for safety__Type according to availability; Count: 77\n",
      "Freerideski Superior Extra wide skis for off-pistes__Best for fresh snow conditions__Perfect for ambitious skiiers; Count: 12\n",
      "Economy Snowboard Boots Easy entry & exit__Safe stand__Best processing; Count: 3\n",
      "Cross-country skiing boots Easy boot entry__Natural rolling motion__Highest comfort and optimum grip__Efficient repulsion; Count: 2\n",
      "Comfort Depot Box 2 persons Personal Ski Locker__Storage for 2 pairs of ski, shoes & helmets__Drying with warm air; Count: 3\n",
      "Carving Ski Superior Highest Quality & innovative technology__Direct power transmission__Power for sporting descents__Incl. Poles; Count: 3\n",
      "Carving Ski Premium  Perfect for beginners & intermediate skiers__Less effort & fast driving__Ideal for icy slopes__Incl. Poles; Count: 3\n",
      "Carving Ski Economy  For the price-conscious__A ton of fun on the slopes__For sporty bargain hunters__Incl Poles; Count: 3\n",
      "Carefree Package Snowboard No retention cost__Optimal protection for your rental__No risk - no worries; Count: 3\n",
      "Carefree Package Ski No retention cost__Optimal protection for your rental__No Risk - No worries; Count: 3\n",
      "Back protection (shield) Protection of the lumbar vertebrae__Perfect fit__No friction; Count: 8\n",
      "Back Protector       Protection of the lumbar vertebrae__Perfect fit__No friction; Count: 3\n",
      "Avalanche tranceiver Modern technology__Easy to use__For more safety__Perfect for alpine touring; Count: 15\n"
     ]
    },
    {
     "name": "stdout",
     "output_type": "stream",
     "text": [
      "Alpine touring skis Superior + crampons High end alpine touring skis__Including bindings, skins and crampons__Endless fun off-pistes__Perfect for ambitious skiiers; Count: 6\n",
      "Alpine touring ski boots Premium Touring ski boots of different quality brands__Different sizes available for perfect fit__High wearing comfort on the way to the summit; Count: 5\n",
      "Alpine touring ski boots Type according to availability; Count: 28\n",
      "Alpine touring ski boots perfect fitting touring boots__the newest models of the season__different brands; Count: 21\n",
      "Alpine touring ski Superior Incl. poles and skins__Light weight__Easy to handle; Count: 3\n",
      "Alpine touring ski   With skins and poles__With the best skiservice__For your adventure in the alps; Count: 18\n",
      "Alpine touring Premium Incl. skins and poles__With the best skiservice__For your adventure in the alps; Count: 8\n",
      "Alpine economy touring ski incl. skins and poles__with the best skiservice__for your adventure in the alps__Type according to availability; Count: 5\n"
     ]
    }
   ],
   "source": [
    "for index, row in sorted_grouped_counts.iterrows():\n",
    "    input(f\"{row['gear_name']:20} {row['description']:20} Count: {row['count']}\")"
   ]
  },
  {
   "cell_type": "code",
   "execution_count": null,
   "id": "c2e553bc",
   "metadata": {},
   "outputs": [],
   "source": []
  },
  {
   "cell_type": "markdown",
   "id": "cbfe511b",
   "metadata": {},
   "source": [
    "Those could also be roemoved: Comfort Depot Box  ; Carefree,Nordic Set Classic"
   ]
  },
  {
   "cell_type": "markdown",
   "id": "10c0ed9d",
   "metadata": {},
   "source": [
    "### Drop  not necessary columns"
   ]
  },
  {
   "cell_type": "code",
   "execution_count": 148,
   "id": "6052c666",
   "metadata": {},
   "outputs": [
    {
     "name": "stderr",
     "output_type": "stream",
     "text": [
      "/var/folders/v0/_fxsm4pj6d7d59wv1nmnqw200000gp/T/ipykernel_15929/1085905750.py:1: SettingWithCopyWarning: \n",
      "A value is trying to be set on a copy of a slice from a DataFrame\n",
      "\n",
      "See the caveats in the documentation: https://pandas.pydata.org/pandas-docs/stable/user_guide/indexing.html#returning-a-view-versus-a-copy\n",
      "  df.drop('description', axis=1, inplace=True)\n"
     ]
    }
   ],
   "source": [
    "df.drop('description', axis=1, inplace=True)\n"
   ]
  },
  {
   "cell_type": "code",
   "execution_count": 149,
   "id": "09fe8377",
   "metadata": {
    "scrolled": false
   },
   "outputs": [
    {
     "data": {
      "text/html": [
       "<div>\n",
       "<style scoped>\n",
       "    .dataframe tbody tr th:only-of-type {\n",
       "        vertical-align: middle;\n",
       "    }\n",
       "\n",
       "    .dataframe tbody tr th {\n",
       "        vertical-align: top;\n",
       "    }\n",
       "\n",
       "    .dataframe thead th {\n",
       "        text-align: right;\n",
       "    }\n",
       "</style>\n",
       "<table border=\"1\" class=\"dataframe\">\n",
       "  <thead>\n",
       "    <tr style=\"text-align: right;\">\n",
       "      <th></th>\n",
       "      <th>location</th>\n",
       "      <th>location_town</th>\n",
       "      <th>first_rental_day</th>\n",
       "      <th>return_date</th>\n",
       "      <th>gear_name</th>\n",
       "      <th>price</th>\n",
       "    </tr>\n",
       "  </thead>\n",
       "  <tbody>\n",
       "    <tr>\n",
       "      <th>0</th>\n",
       "      <td>Grimentz – Valais</td>\n",
       "      <td>Grimentz</td>\n",
       "      <td>2023-12-15</td>\n",
       "      <td>2023-12-15</td>\n",
       "      <td>Ski Exclusive</td>\n",
       "      <td>49.5</td>\n",
       "    </tr>\n",
       "    <tr>\n",
       "      <th>1</th>\n",
       "      <td>Grimentz – Valais</td>\n",
       "      <td>Grimentz</td>\n",
       "      <td>2023-12-15</td>\n",
       "      <td>2023-12-15</td>\n",
       "      <td>Ski Premium</td>\n",
       "      <td>34.2</td>\n",
       "    </tr>\n",
       "    <tr>\n",
       "      <th>2</th>\n",
       "      <td>Grimentz – Valais</td>\n",
       "      <td>Grimentz</td>\n",
       "      <td>2023-12-15</td>\n",
       "      <td>2023-12-15</td>\n",
       "      <td>Telemark Ski Premium</td>\n",
       "      <td>49.5</td>\n",
       "    </tr>\n",
       "    <tr>\n",
       "      <th>3</th>\n",
       "      <td>Grimentz – Valais</td>\n",
       "      <td>Grimentz</td>\n",
       "      <td>2023-12-15</td>\n",
       "      <td>2023-12-15</td>\n",
       "      <td>Ski Economy</td>\n",
       "      <td>26.1</td>\n",
       "    </tr>\n",
       "    <tr>\n",
       "      <th>4</th>\n",
       "      <td>Grimentz – Valais</td>\n",
       "      <td>Grimentz</td>\n",
       "      <td>2023-12-15</td>\n",
       "      <td>2023-12-15</td>\n",
       "      <td>Skiboots premium</td>\n",
       "      <td>17.1</td>\n",
       "    </tr>\n",
       "  </tbody>\n",
       "</table>\n",
       "</div>"
      ],
      "text/plain": [
       "            location location_town first_rental_day return_date  \\\n",
       "0  Grimentz – Valais      Grimentz       2023-12-15  2023-12-15   \n",
       "1  Grimentz – Valais      Grimentz       2023-12-15  2023-12-15   \n",
       "2  Grimentz – Valais      Grimentz       2023-12-15  2023-12-15   \n",
       "3  Grimentz – Valais      Grimentz       2023-12-15  2023-12-15   \n",
       "4  Grimentz – Valais      Grimentz       2023-12-15  2023-12-15   \n",
       "\n",
       "              gear_name  price  \n",
       "0         Ski Exclusive   49.5  \n",
       "1           Ski Premium   34.2  \n",
       "2  Telemark Ski Premium   49.5  \n",
       "3           Ski Economy   26.1  \n",
       "4      Skiboots premium   17.1  "
      ]
     },
     "execution_count": 149,
     "metadata": {},
     "output_type": "execute_result"
    }
   ],
   "source": [
    "df.head(5)"
   ]
  },
  {
   "cell_type": "markdown",
   "id": "3af4df75",
   "metadata": {},
   "source": [
    "## TRANSFORM\n",
    "- 1) rent duration\n",
    "- 2) Region\n",
    "- 3) Gear Class\n",
    "- 4) Gera harmonised name"
   ]
  },
  {
   "cell_type": "code",
   "execution_count": null,
   "id": "b5168a86",
   "metadata": {},
   "outputs": [],
   "source": []
  },
  {
   "cell_type": "code",
   "execution_count": null,
   "id": "fd122a6c",
   "metadata": {},
   "outputs": [],
   "source": []
  },
  {
   "cell_type": "markdown",
   "id": "797be223",
   "metadata": {},
   "source": [
    "### persist cleaned and enriched data"
   ]
  },
  {
   "cell_type": "code",
   "execution_count": 156,
   "id": "c312f1b2",
   "metadata": {},
   "outputs": [],
   "source": [
    "df.to_csv('../Data/gear_stage3.csv', index=False)\n"
   ]
  },
  {
   "cell_type": "code",
   "execution_count": 157,
   "id": "c6bef5e0",
   "metadata": {},
   "outputs": [
    {
     "data": {
      "text/html": [
       "<div>\n",
       "<style scoped>\n",
       "    .dataframe tbody tr th:only-of-type {\n",
       "        vertical-align: middle;\n",
       "    }\n",
       "\n",
       "    .dataframe tbody tr th {\n",
       "        vertical-align: top;\n",
       "    }\n",
       "\n",
       "    .dataframe thead th {\n",
       "        text-align: right;\n",
       "    }\n",
       "</style>\n",
       "<table border=\"1\" class=\"dataframe\">\n",
       "  <thead>\n",
       "    <tr style=\"text-align: right;\">\n",
       "      <th></th>\n",
       "      <th>location</th>\n",
       "      <th>location_town</th>\n",
       "      <th>first_rental_day</th>\n",
       "      <th>return_date</th>\n",
       "      <th>gear_name</th>\n",
       "      <th>price</th>\n",
       "    </tr>\n",
       "  </thead>\n",
       "  <tbody>\n",
       "    <tr>\n",
       "      <th>0</th>\n",
       "      <td>Grimentz – Valais</td>\n",
       "      <td>Grimentz</td>\n",
       "      <td>2023-12-15</td>\n",
       "      <td>2023-12-15</td>\n",
       "      <td>Ski Exclusive</td>\n",
       "      <td>49.5</td>\n",
       "    </tr>\n",
       "    <tr>\n",
       "      <th>1</th>\n",
       "      <td>Grimentz – Valais</td>\n",
       "      <td>Grimentz</td>\n",
       "      <td>2023-12-15</td>\n",
       "      <td>2023-12-15</td>\n",
       "      <td>Ski Premium</td>\n",
       "      <td>34.2</td>\n",
       "    </tr>\n",
       "    <tr>\n",
       "      <th>2</th>\n",
       "      <td>Grimentz – Valais</td>\n",
       "      <td>Grimentz</td>\n",
       "      <td>2023-12-15</td>\n",
       "      <td>2023-12-15</td>\n",
       "      <td>Telemark Ski Premium</td>\n",
       "      <td>49.5</td>\n",
       "    </tr>\n",
       "    <tr>\n",
       "      <th>3</th>\n",
       "      <td>Grimentz – Valais</td>\n",
       "      <td>Grimentz</td>\n",
       "      <td>2023-12-15</td>\n",
       "      <td>2023-12-15</td>\n",
       "      <td>Ski Economy</td>\n",
       "      <td>26.1</td>\n",
       "    </tr>\n",
       "    <tr>\n",
       "      <th>4</th>\n",
       "      <td>Grimentz – Valais</td>\n",
       "      <td>Grimentz</td>\n",
       "      <td>2023-12-15</td>\n",
       "      <td>2023-12-15</td>\n",
       "      <td>Skiboots premium</td>\n",
       "      <td>17.1</td>\n",
       "    </tr>\n",
       "    <tr>\n",
       "      <th>5</th>\n",
       "      <td>Grimentz – Valais</td>\n",
       "      <td>Grimentz</td>\n",
       "      <td>2023-12-15</td>\n",
       "      <td>2023-12-15</td>\n",
       "      <td>Skiboots economy</td>\n",
       "      <td>13.5</td>\n",
       "    </tr>\n",
       "    <tr>\n",
       "      <th>6</th>\n",
       "      <td>Grimentz – Valais</td>\n",
       "      <td>Grimentz</td>\n",
       "      <td>2023-12-15</td>\n",
       "      <td>2023-12-15</td>\n",
       "      <td>Alpine touring ski boots</td>\n",
       "      <td>17.1</td>\n",
       "    </tr>\n",
       "    <tr>\n",
       "      <th>7</th>\n",
       "      <td>Grimentz – Valais</td>\n",
       "      <td>Grimentz</td>\n",
       "      <td>2023-12-15</td>\n",
       "      <td>2023-12-15</td>\n",
       "      <td>Telemark skiboots</td>\n",
       "      <td>17.1</td>\n",
       "    </tr>\n",
       "    <tr>\n",
       "      <th>8</th>\n",
       "      <td>Grimentz – Valais</td>\n",
       "      <td>Grimentz</td>\n",
       "      <td>2023-12-15</td>\n",
       "      <td>2023-12-15</td>\n",
       "      <td>Touring Ski exklusiv</td>\n",
       "      <td>49.5</td>\n",
       "    </tr>\n",
       "    <tr>\n",
       "      <th>9</th>\n",
       "      <td>Grimentz – Valais</td>\n",
       "      <td>Grimentz</td>\n",
       "      <td>2023-12-15</td>\n",
       "      <td>2023-12-15</td>\n",
       "      <td>Split Board</td>\n",
       "      <td>49.5</td>\n",
       "    </tr>\n",
       "  </tbody>\n",
       "</table>\n",
       "</div>"
      ],
      "text/plain": [
       "            location location_town first_rental_day return_date  \\\n",
       "0  Grimentz – Valais      Grimentz       2023-12-15  2023-12-15   \n",
       "1  Grimentz – Valais      Grimentz       2023-12-15  2023-12-15   \n",
       "2  Grimentz – Valais      Grimentz       2023-12-15  2023-12-15   \n",
       "3  Grimentz – Valais      Grimentz       2023-12-15  2023-12-15   \n",
       "4  Grimentz – Valais      Grimentz       2023-12-15  2023-12-15   \n",
       "5  Grimentz – Valais      Grimentz       2023-12-15  2023-12-15   \n",
       "6  Grimentz – Valais      Grimentz       2023-12-15  2023-12-15   \n",
       "7  Grimentz – Valais      Grimentz       2023-12-15  2023-12-15   \n",
       "8  Grimentz – Valais      Grimentz       2023-12-15  2023-12-15   \n",
       "9  Grimentz – Valais      Grimentz       2023-12-15  2023-12-15   \n",
       "\n",
       "                  gear_name  price  \n",
       "0             Ski Exclusive   49.5  \n",
       "1               Ski Premium   34.2  \n",
       "2      Telemark Ski Premium   49.5  \n",
       "3               Ski Economy   26.1  \n",
       "4          Skiboots premium   17.1  \n",
       "5          Skiboots economy   13.5  \n",
       "6  Alpine touring ski boots   17.1  \n",
       "7         Telemark skiboots   17.1  \n",
       "8      Touring Ski exklusiv   49.5  \n",
       "9               Split Board   49.5  "
      ]
     },
     "execution_count": 157,
     "metadata": {},
     "output_type": "execute_result"
    }
   ],
   "source": [
    "df.head(10)"
   ]
  },
  {
   "cell_type": "code",
   "execution_count": null,
   "id": "19b6c938",
   "metadata": {},
   "outputs": [],
   "source": []
  }
 ],
 "metadata": {
  "kernelspec": {
   "display_name": "Python 3.9 (cv)",
   "language": "python",
   "name": "cv"
  },
  "language_info": {
   "codemirror_mode": {
    "name": "ipython",
    "version": 3
   },
   "file_extension": ".py",
   "mimetype": "text/x-python",
   "name": "python",
   "nbconvert_exporter": "python",
   "pygments_lexer": "ipython3",
   "version": "3.8.5"
  }
 },
 "nbformat": 4,
 "nbformat_minor": 5
}
