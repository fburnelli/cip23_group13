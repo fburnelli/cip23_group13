{
 "cells": [
  {
   "cell_type": "markdown",
   "id": "83dabff3",
   "metadata": {},
   "source": [
    "## Data Analysis \n",
    "- Exploration\n",
    "\n",
    "\n"
   ]
  },
  {
   "cell_type": "code",
   "execution_count": 1,
   "id": "fd941156",
   "metadata": {},
   "outputs": [],
   "source": [
    "import pandas as pd\n",
    "import warnings\n",
    "import mariadb\n",
    "import matplotlib.pyplot as plt\n",
    "\n",
    "warnings.filterwarnings('ignore')"
   ]
  },
  {
   "cell_type": "code",
   "execution_count": 2,
   "id": "03df6e1a-6d22-4110-aa5a-c7fe56da86eb",
   "metadata": {},
   "outputs": [],
   "source": [
    "username = 'cip_user'\n",
    "password = 'cip_pw'\n",
    "database_name = 'CIP'\n",
    "\n",
    "conn = mariadb.connect(\n",
    "        user=username,\n",
    "        password=password,\n",
    "        host=\"localhost\",\n",
    "        port=3306,\n",
    "        database=database_name\n",
    "    )\n",
    "mycursor = conn.cursor()\n",
    "\n",
    "df = pd.read_sql_query(\"\"\"SELECT \n",
    "                                resort,location_key,first_rental_day,return_date,gear_name,price,rental_duration,price_per_day,gear_class\n",
    "                       \n",
    "                                 FROM merged;\"\"\", conn)\n",
    "conn.close()"
   ]
  },
  {
   "cell_type": "code",
   "execution_count": 3,
   "id": "55ef192d",
   "metadata": {
    "scrolled": true
   },
   "outputs": [
    {
     "data": {
      "text/html": [
       "<div>\n",
       "<style scoped>\n",
       "    .dataframe tbody tr th:only-of-type {\n",
       "        vertical-align: middle;\n",
       "    }\n",
       "\n",
       "    .dataframe tbody tr th {\n",
       "        vertical-align: top;\n",
       "    }\n",
       "\n",
       "    .dataframe thead th {\n",
       "        text-align: right;\n",
       "    }\n",
       "</style>\n",
       "<table border=\"1\" class=\"dataframe\">\n",
       "  <thead>\n",
       "    <tr style=\"text-align: right;\">\n",
       "      <th></th>\n",
       "      <th>resort</th>\n",
       "      <th>location_key</th>\n",
       "      <th>first_rental_day</th>\n",
       "      <th>return_date</th>\n",
       "      <th>gear_name</th>\n",
       "      <th>price</th>\n",
       "      <th>rental_duration</th>\n",
       "      <th>price_per_day</th>\n",
       "      <th>gear_class</th>\n",
       "    </tr>\n",
       "  </thead>\n",
       "  <tbody>\n",
       "    <tr>\n",
       "      <th>0</th>\n",
       "      <td>Grimentz-Zinal /Anniviers</td>\n",
       "      <td>Grimentz</td>\n",
       "      <td>2023-12-15</td>\n",
       "      <td>2023-12-15</td>\n",
       "      <td>Ski Exclusive</td>\n",
       "      <td>49.5</td>\n",
       "      <td>1.0</td>\n",
       "      <td>49.5</td>\n",
       "      <td>ski</td>\n",
       "    </tr>\n",
       "    <tr>\n",
       "      <th>1</th>\n",
       "      <td>Grimentz-Zinal /Anniviers</td>\n",
       "      <td>Grimentz</td>\n",
       "      <td>2023-12-15</td>\n",
       "      <td>2023-12-15</td>\n",
       "      <td>Ski Exclusive</td>\n",
       "      <td>49.5</td>\n",
       "      <td>1.0</td>\n",
       "      <td>49.5</td>\n",
       "      <td>ski</td>\n",
       "    </tr>\n",
       "    <tr>\n",
       "      <th>2</th>\n",
       "      <td>Grimentz-Zinal /Anniviers</td>\n",
       "      <td>Grimentz</td>\n",
       "      <td>2023-12-15</td>\n",
       "      <td>2023-12-15</td>\n",
       "      <td>Ski Exclusive</td>\n",
       "      <td>49.5</td>\n",
       "      <td>1.0</td>\n",
       "      <td>49.5</td>\n",
       "      <td>ski</td>\n",
       "    </tr>\n",
       "    <tr>\n",
       "      <th>3</th>\n",
       "      <td>Grimentz-Zinal /Anniviers</td>\n",
       "      <td>Grimentz</td>\n",
       "      <td>2023-12-15</td>\n",
       "      <td>2023-12-15</td>\n",
       "      <td>Ski Exclusive</td>\n",
       "      <td>49.5</td>\n",
       "      <td>1.0</td>\n",
       "      <td>49.5</td>\n",
       "      <td>ski</td>\n",
       "    </tr>\n",
       "    <tr>\n",
       "      <th>4</th>\n",
       "      <td>Grimentz-Zinal /Anniviers</td>\n",
       "      <td>Grimentz</td>\n",
       "      <td>2023-12-15</td>\n",
       "      <td>2023-12-15</td>\n",
       "      <td>Ski Exclusive</td>\n",
       "      <td>49.5</td>\n",
       "      <td>1.0</td>\n",
       "      <td>49.5</td>\n",
       "      <td>ski</td>\n",
       "    </tr>\n",
       "    <tr>\n",
       "      <th>...</th>\n",
       "      <td>...</td>\n",
       "      <td>...</td>\n",
       "      <td>...</td>\n",
       "      <td>...</td>\n",
       "      <td>...</td>\n",
       "      <td>...</td>\n",
       "      <td>...</td>\n",
       "      <td>...</td>\n",
       "      <td>...</td>\n",
       "    </tr>\n",
       "    <tr>\n",
       "      <th>86299</th>\n",
       "      <td>Obermutten</td>\n",
       "      <td>Obermutten</td>\n",
       "      <td>None</td>\n",
       "      <td>None</td>\n",
       "      <td>None</td>\n",
       "      <td>NaN</td>\n",
       "      <td>NaN</td>\n",
       "      <td>NaN</td>\n",
       "      <td>None</td>\n",
       "    </tr>\n",
       "    <tr>\n",
       "      <th>86300</th>\n",
       "      <td>Obermutten</td>\n",
       "      <td>Obermutten</td>\n",
       "      <td>None</td>\n",
       "      <td>None</td>\n",
       "      <td>None</td>\n",
       "      <td>NaN</td>\n",
       "      <td>NaN</td>\n",
       "      <td>NaN</td>\n",
       "      <td>None</td>\n",
       "    </tr>\n",
       "    <tr>\n",
       "      <th>86301</th>\n",
       "      <td>Obermutten</td>\n",
       "      <td>Obermutten</td>\n",
       "      <td>None</td>\n",
       "      <td>None</td>\n",
       "      <td>None</td>\n",
       "      <td>NaN</td>\n",
       "      <td>NaN</td>\n",
       "      <td>NaN</td>\n",
       "      <td>None</td>\n",
       "    </tr>\n",
       "    <tr>\n",
       "      <th>86302</th>\n",
       "      <td>Obermutten</td>\n",
       "      <td>Obermutten</td>\n",
       "      <td>None</td>\n",
       "      <td>None</td>\n",
       "      <td>None</td>\n",
       "      <td>NaN</td>\n",
       "      <td>NaN</td>\n",
       "      <td>NaN</td>\n",
       "      <td>None</td>\n",
       "    </tr>\n",
       "    <tr>\n",
       "      <th>86303</th>\n",
       "      <td>Obermutten</td>\n",
       "      <td>Obermutten</td>\n",
       "      <td>None</td>\n",
       "      <td>None</td>\n",
       "      <td>None</td>\n",
       "      <td>NaN</td>\n",
       "      <td>NaN</td>\n",
       "      <td>NaN</td>\n",
       "      <td>None</td>\n",
       "    </tr>\n",
       "  </tbody>\n",
       "</table>\n",
       "<p>86304 rows × 9 columns</p>\n",
       "</div>"
      ],
      "text/plain": [
       "                          resort location_key first_rental_day return_date  \\\n",
       "0      Grimentz-Zinal /Anniviers     Grimentz       2023-12-15  2023-12-15   \n",
       "1      Grimentz-Zinal /Anniviers     Grimentz       2023-12-15  2023-12-15   \n",
       "2      Grimentz-Zinal /Anniviers     Grimentz       2023-12-15  2023-12-15   \n",
       "3      Grimentz-Zinal /Anniviers     Grimentz       2023-12-15  2023-12-15   \n",
       "4      Grimentz-Zinal /Anniviers     Grimentz       2023-12-15  2023-12-15   \n",
       "...                          ...          ...              ...         ...   \n",
       "86299                 Obermutten   Obermutten             None        None   \n",
       "86300                 Obermutten   Obermutten             None        None   \n",
       "86301                 Obermutten   Obermutten             None        None   \n",
       "86302                 Obermutten   Obermutten             None        None   \n",
       "86303                 Obermutten   Obermutten             None        None   \n",
       "\n",
       "           gear_name  price  rental_duration  price_per_day gear_class  \n",
       "0      Ski Exclusive   49.5              1.0           49.5        ski  \n",
       "1      Ski Exclusive   49.5              1.0           49.5        ski  \n",
       "2      Ski Exclusive   49.5              1.0           49.5        ski  \n",
       "3      Ski Exclusive   49.5              1.0           49.5        ski  \n",
       "4      Ski Exclusive   49.5              1.0           49.5        ski  \n",
       "...              ...    ...              ...            ...        ...  \n",
       "86299           None    NaN              NaN            NaN       None  \n",
       "86300           None    NaN              NaN            NaN       None  \n",
       "86301           None    NaN              NaN            NaN       None  \n",
       "86302           None    NaN              NaN            NaN       None  \n",
       "86303           None    NaN              NaN            NaN       None  \n",
       "\n",
       "[86304 rows x 9 columns]"
      ]
     },
     "execution_count": 3,
     "metadata": {},
     "output_type": "execute_result"
    }
   ],
   "source": [
    "#df = pd.read_csv(\"../Data/gears_stage3.csv\", sep=',')\n",
    "#df.columns\n",
    "\n",
    "df"
   ]
  },
  {
   "cell_type": "code",
   "execution_count": 4,
   "id": "75aaecf0",
   "metadata": {
    "scrolled": true
   },
   "outputs": [
    {
     "data": {
      "text/html": [
       "<div>\n",
       "<style scoped>\n",
       "    .dataframe tbody tr th:only-of-type {\n",
       "        vertical-align: middle;\n",
       "    }\n",
       "\n",
       "    .dataframe tbody tr th {\n",
       "        vertical-align: top;\n",
       "    }\n",
       "\n",
       "    .dataframe thead th {\n",
       "        text-align: right;\n",
       "    }\n",
       "</style>\n",
       "<table border=\"1\" class=\"dataframe\">\n",
       "  <thead>\n",
       "    <tr style=\"text-align: right;\">\n",
       "      <th></th>\n",
       "      <th>resort</th>\n",
       "      <th>location_key</th>\n",
       "      <th>first_rental_day</th>\n",
       "      <th>return_date</th>\n",
       "      <th>gear_name</th>\n",
       "      <th>price</th>\n",
       "      <th>rental_duration</th>\n",
       "      <th>price_per_day</th>\n",
       "      <th>gear_class</th>\n",
       "    </tr>\n",
       "  </thead>\n",
       "  <tbody>\n",
       "    <tr>\n",
       "      <th>0</th>\n",
       "      <td>Grimentz-Zinal /Anniviers</td>\n",
       "      <td>Grimentz</td>\n",
       "      <td>2023-12-15</td>\n",
       "      <td>2023-12-15</td>\n",
       "      <td>Ski Exclusive</td>\n",
       "      <td>49.5</td>\n",
       "      <td>1.0</td>\n",
       "      <td>49.5</td>\n",
       "      <td>ski</td>\n",
       "    </tr>\n",
       "    <tr>\n",
       "      <th>1</th>\n",
       "      <td>Grimentz-Zinal /Anniviers</td>\n",
       "      <td>Grimentz</td>\n",
       "      <td>2023-12-15</td>\n",
       "      <td>2023-12-15</td>\n",
       "      <td>Ski Exclusive</td>\n",
       "      <td>49.5</td>\n",
       "      <td>1.0</td>\n",
       "      <td>49.5</td>\n",
       "      <td>ski</td>\n",
       "    </tr>\n",
       "    <tr>\n",
       "      <th>2</th>\n",
       "      <td>Grimentz-Zinal /Anniviers</td>\n",
       "      <td>Grimentz</td>\n",
       "      <td>2023-12-15</td>\n",
       "      <td>2023-12-15</td>\n",
       "      <td>Ski Exclusive</td>\n",
       "      <td>49.5</td>\n",
       "      <td>1.0</td>\n",
       "      <td>49.5</td>\n",
       "      <td>ski</td>\n",
       "    </tr>\n",
       "    <tr>\n",
       "      <th>3</th>\n",
       "      <td>Grimentz-Zinal /Anniviers</td>\n",
       "      <td>Grimentz</td>\n",
       "      <td>2023-12-15</td>\n",
       "      <td>2023-12-15</td>\n",
       "      <td>Ski Exclusive</td>\n",
       "      <td>49.5</td>\n",
       "      <td>1.0</td>\n",
       "      <td>49.5</td>\n",
       "      <td>ski</td>\n",
       "    </tr>\n",
       "  </tbody>\n",
       "</table>\n",
       "</div>"
      ],
      "text/plain": [
       "                      resort location_key first_rental_day return_date  \\\n",
       "0  Grimentz-Zinal /Anniviers     Grimentz       2023-12-15  2023-12-15   \n",
       "1  Grimentz-Zinal /Anniviers     Grimentz       2023-12-15  2023-12-15   \n",
       "2  Grimentz-Zinal /Anniviers     Grimentz       2023-12-15  2023-12-15   \n",
       "3  Grimentz-Zinal /Anniviers     Grimentz       2023-12-15  2023-12-15   \n",
       "\n",
       "       gear_name  price  rental_duration  price_per_day gear_class  \n",
       "0  Ski Exclusive   49.5              1.0           49.5        ski  \n",
       "1  Ski Exclusive   49.5              1.0           49.5        ski  \n",
       "2  Ski Exclusive   49.5              1.0           49.5        ski  \n",
       "3  Ski Exclusive   49.5              1.0           49.5        ski  "
      ]
     },
     "execution_count": 4,
     "metadata": {},
     "output_type": "execute_result"
    }
   ],
   "source": [
    "df.head(4)"
   ]
  },
  {
   "cell_type": "code",
   "execution_count": 5,
   "id": "1bef50ed-6ac6-4d99-8765-e68951b8b376",
   "metadata": {},
   "outputs": [
    {
     "name": "stdout",
     "output_type": "stream",
     "text": [
      "<class 'pandas.core.frame.DataFrame'>\n",
      "RangeIndex: 86304 entries, 0 to 86303\n",
      "Data columns (total 9 columns):\n",
      " #   Column            Non-Null Count  Dtype  \n",
      "---  ------            --------------  -----  \n",
      " 0   resort            86304 non-null  object \n",
      " 1   location_key      86304 non-null  object \n",
      " 2   first_rental_day  80419 non-null  object \n",
      " 3   return_date       80419 non-null  object \n",
      " 4   gear_name         80419 non-null  object \n",
      " 5   price             80419 non-null  float64\n",
      " 6   rental_duration   80419 non-null  float64\n",
      " 7   price_per_day     80419 non-null  float64\n",
      " 8   gear_class        80419 non-null  object \n",
      "dtypes: float64(3), object(6)\n",
      "memory usage: 5.9+ MB\n"
     ]
    }
   ],
   "source": [
    "df.info()"
   ]
  },
  {
   "cell_type": "code",
   "execution_count": 6,
   "id": "b79d90ef-5049-40c9-b4dc-175d8fc6e7bb",
   "metadata": {},
   "outputs": [],
   "source": [
    "df['first_rental_day'] = pd.to_datetime(df['first_rental_day'])\n",
    "df['return_date'] = pd.to_datetime(df['return_date'])\n"
   ]
  },
  {
   "cell_type": "code",
   "execution_count": 7,
   "id": "f95baaac-ff4a-4a8d-ac08-242daa89e8cb",
   "metadata": {
    "scrolled": true
   },
   "outputs": [
    {
     "name": "stdout",
     "output_type": "stream",
     "text": [
      "<class 'pandas.core.frame.DataFrame'>\n",
      "RangeIndex: 86304 entries, 0 to 86303\n",
      "Data columns (total 9 columns):\n",
      " #   Column            Non-Null Count  Dtype         \n",
      "---  ------            --------------  -----         \n",
      " 0   resort            86304 non-null  object        \n",
      " 1   location_key      86304 non-null  object        \n",
      " 2   first_rental_day  80419 non-null  datetime64[ns]\n",
      " 3   return_date       80419 non-null  datetime64[ns]\n",
      " 4   gear_name         80419 non-null  object        \n",
      " 5   price             80419 non-null  float64       \n",
      " 6   rental_duration   80419 non-null  float64       \n",
      " 7   price_per_day     80419 non-null  float64       \n",
      " 8   gear_class        80419 non-null  object        \n",
      "dtypes: datetime64[ns](2), float64(3), object(4)\n",
      "memory usage: 5.9+ MB\n"
     ]
    }
   ],
   "source": [
    "df.info()"
   ]
  },
  {
   "cell_type": "code",
   "execution_count": null,
   "id": "35abdac0-8eca-44dc-981e-e005a511529c",
   "metadata": {},
   "outputs": [],
   "source": []
  },
  {
   "cell_type": "markdown",
   "id": "82fcd74d-d0b3-4016-8a04-5e8ba37cabaf",
   "metadata": {},
   "source": [
    "## How many Resorts with an Intersport in town?"
   ]
  },
  {
   "cell_type": "code",
   "execution_count": 8,
   "id": "b239e574-06b6-4fa5-81a7-edb8da7aa97b",
   "metadata": {},
   "outputs": [
    {
     "name": "stdout",
     "output_type": "stream",
     "text": [
      "Number of Resorts with an Intersport in town: 45 \n"
     ]
    }
   ],
   "source": [
    "filtered_df = df[df['rental_duration'].notnull()]\n",
    "s=f\"\"\"Number of Resorts with an Intersport in town: {len(filtered_df['resort'].unique())} \"\"\"\n",
    "print(s)"
   ]
  },
  {
   "cell_type": "markdown",
   "id": "d310d209-3d95-4178-8a77-7fb9fa474026",
   "metadata": {},
   "source": [
    "## Most Expansive and Cheapest Location (based on renting Ski Premium)"
   ]
  },
  {
   "cell_type": "code",
   "execution_count": 10,
   "id": "f3e7bd6e",
   "metadata": {
    "scrolled": true
   },
   "outputs": [
    {
     "name": "stdout",
     "output_type": "stream",
     "text": [
      "most_expensive:Sils i.E. cheapest:La Dôle\n"
     ]
    }
   ],
   "source": [
    "product = \"ski premium\"\n",
    "df_selection = df[['location_key', 'price_per_day']][df['gear_name'].str.lower() == product]\n",
    "df_prices = df_selection.groupby('location_key')['price_per_day'].mean().reset_index()\n",
    "most_expensive = df_prices.loc[df_prices['price_per_day'].idxmax()].location_key\n",
    "cheapest = df_prices.loc[df_prices['price_per_day'].idxmin()].location_key\n",
    "\n",
    "print(f\"most_expensive:{most_expensive} cheapest:{cheapest}\")"
   ]
  },
  {
   "cell_type": "code",
   "execution_count": 11,
   "id": "eb736e61-070b-41b8-96a1-90993542d813",
   "metadata": {
    "scrolled": true
   },
   "outputs": [
    {
     "data": {
      "text/plain": [
       "Text(0.5, 1.0, 'product:ski premium -- most exp:Sils i.E.;cheapest:La Dôle')"
      ]
     },
     "execution_count": 11,
     "metadata": {},
     "output_type": "execute_result"
    },
    {
     "data": {
      "image/png": "[encoded data removed]",
      "text/plain": [
       "<Figure size 640x480 with 1 Axes>"
      ]
     },
     "metadata": {},
     "output_type": "display_data"
    }
   ],
   "source": [
    "df_prices.boxplot(column='price_per_day', grid=False).set_title(f\"product:{product} -- most exp:{most_expensive};cheapest:{cheapest}\")"
   ]
  },
  {
   "cell_type": "markdown",
   "id": "4dee419a-c5b3-4e19-a754-3f2a510268e1",
   "metadata": {},
   "source": [
    "## Difference in price between Ski Premium and Ski Economy"
   ]
  },
  {
   "cell_type": "code",
   "execution_count": 12,
   "id": "8e5080b7-bd63-4f3f-8a4d-9df79bf71dd9",
   "metadata": {},
   "outputs": [
    {
     "data": {
      "image/png": "[encoded data removed]",
      "text/plain": [
       "<Figure size 1000x500 with 2 Axes>"
      ]
     },
     "metadata": {},
     "output_type": "display_data"
    }
   ],
   "source": [
    "product1 = \"ski economy\"\n",
    "df_selection = df[['location_key', 'price_per_day']][df['gear_name'].str.lower() == product1]\n",
    "df_econ = df_selection.groupby('location_key')['price_per_day'].mean().reset_index()\n",
    "\n",
    "product2 = \"ski premium\"\n",
    "df_selection = df[['location_key', 'price_per_day']][df['gear_name'].str.lower() == product2]\n",
    "df_prem = df_selection.groupby('location_key')['price_per_day'].mean().reset_index()\n",
    "\n",
    "fig, axes = plt.subplots(nrows=1, ncols=2, figsize=(10, 5), sharey=True)\n",
    "df_econ.boxplot(column='price_per_day', ax=axes[0])\n",
    "axes[0].set_title(product1)\n",
    "axes[0].set_xlabel(product1)\n",
    "axes[0].set_ylabel('price_per_day')\n",
    "# Boxplot for 'Value2'\n",
    "df_prem.boxplot(column='price_per_day', ax=axes[1])\n",
    "axes[1].set_title(product2)\n",
    "axes[1].set_xlabel(product2)\n",
    "axes[1].set_ylabel(\"\")\n",
    "\n",
    "plt.tight_layout()\n",
    "plt.show()"
   ]
  },
  {
   "cell_type": "code",
   "execution_count": 19,
   "id": "b6aa27ca",
   "metadata": {
    "scrolled": true
   },
   "outputs": [
    {
     "data": {
      "text/plain": [
       "Text(0.5, 1.0, 'product:ski economy -- most exp:Sils i.E.;cheapest:Buttes La Robella')"
      ]
     },
     "execution_count": 19,
     "metadata": {},
     "output_type": "execute_result"
    }
   ],
   "source": [
    "product = \"ski economy\"\n",
    "df_selection = df[['location_key', 'price_per_day']][df['gear_name'].str.lower() == product]\n",
    "df_prices = df_selection.groupby('location_key')['price_per_day'].mean().reset_index()\n",
    "most_expensive = df_prices.loc[df_prices['price_per_day'].idxmax()].location_key\n",
    "cheapest = df_prices.loc[df_prices['price_per_day'].idxmin()].location_key\n",
    "\n",
    "df_prices.boxplot(column='price_per_day', grid=False).set_title(f\"product:{product} -- most exp:{most_expensive};cheapest:{cheapest}\")\n"
   ]
  },
  {
   "cell_type": "code",
   "execution_count": 32,
   "id": "d2d6f5e6",
   "metadata": {
    "scrolled": true
   },
   "outputs": [
    {
     "data": {
      "text/plain": [
       "Text(0.5, 1.0, 'product:helmet -- most exp:Münster (Goms);cheapest:Les Diablerets')"
      ]
     },
     "execution_count": 32,
     "metadata": {},
     "output_type": "execute_result"
    },
    {
     "data": {
      "image/png": "[encoded data removed]",
      "text/plain": [
       "<Figure size 640x480 with 1 Axes>"
      ]
     },
     "metadata": {},
     "output_type": "display_data"
    }
   ],
   "source": [
    "product = \"helmet\"\n",
    "df_selection = df[['location_town', 'price_per_day']][df['gear_name'].str.lower() == product]\n",
    "df_prices = df_selection.groupby('location_town')['price_per_day'].mean().reset_index()\n",
    "most_expensive = df_prices.loc[df_prices['price_per_day'].idxmax()].location_town\n",
    "cheapest = df_prices.loc[df_prices['price_per_day'].idxmin()].location_town\n",
    "\n",
    "df_prices.boxplot(column='price_per_day', grid=False).set_title(f\"product:{product} -- most exp:{most_expensive};cheapest:{cheapest}\")\n"
   ]
  },
  {
   "cell_type": "code",
   "execution_count": 20,
   "id": "4a82cc68",
   "metadata": {},
   "outputs": [
    {
     "data": {
      "text/html": [
       "<div>\n",
       "<style scoped>\n",
       "    .dataframe tbody tr th:only-of-type {\n",
       "        vertical-align: middle;\n",
       "    }\n",
       "\n",
       "    .dataframe tbody tr th {\n",
       "        vertical-align: top;\n",
       "    }\n",
       "\n",
       "    .dataframe thead th {\n",
       "        text-align: right;\n",
       "    }\n",
       "</style>\n",
       "<table border=\"1\" class=\"dataframe\">\n",
       "  <thead>\n",
       "    <tr style=\"text-align: right;\">\n",
       "      <th></th>\n",
       "      <th>location_key</th>\n",
       "      <th>first_rental_day</th>\n",
       "      <th>return_date</th>\n",
       "      <th>gear_name</th>\n",
       "      <th>price</th>\n",
       "      <th>rental_duration</th>\n",
       "      <th>price_per_day</th>\n",
       "      <th>gear_class</th>\n",
       "    </tr>\n",
       "  </thead>\n",
       "  <tbody>\n",
       "    <tr>\n",
       "      <th>0</th>\n",
       "      <td>Grimentz</td>\n",
       "      <td>2023-12-15</td>\n",
       "      <td>2023-12-15</td>\n",
       "      <td>Ski Exclusive</td>\n",
       "      <td>49.5</td>\n",
       "      <td>1.0</td>\n",
       "      <td>49.5</td>\n",
       "      <td>ski</td>\n",
       "    </tr>\n",
       "    <tr>\n",
       "      <th>1</th>\n",
       "      <td>Grimentz</td>\n",
       "      <td>2023-12-15</td>\n",
       "      <td>2023-12-15</td>\n",
       "      <td>Ski Exclusive</td>\n",
       "      <td>49.5</td>\n",
       "      <td>1.0</td>\n",
       "      <td>49.5</td>\n",
       "      <td>ski</td>\n",
       "    </tr>\n",
       "    <tr>\n",
       "      <th>2</th>\n",
       "      <td>Grimentz</td>\n",
       "      <td>2023-12-15</td>\n",
       "      <td>2023-12-15</td>\n",
       "      <td>Ski Exclusive</td>\n",
       "      <td>49.5</td>\n",
       "      <td>1.0</td>\n",
       "      <td>49.5</td>\n",
       "      <td>ski</td>\n",
       "    </tr>\n",
       "  </tbody>\n",
       "</table>\n",
       "</div>"
      ],
      "text/plain": [
       "  location_key first_rental_day return_date      gear_name  price  \\\n",
       "0     Grimentz       2023-12-15  2023-12-15  Ski Exclusive   49.5   \n",
       "1     Grimentz       2023-12-15  2023-12-15  Ski Exclusive   49.5   \n",
       "2     Grimentz       2023-12-15  2023-12-15  Ski Exclusive   49.5   \n",
       "\n",
       "   rental_duration  price_per_day gear_class  \n",
       "0              1.0           49.5        ski  \n",
       "1              1.0           49.5        ski  \n",
       "2              1.0           49.5        ski  "
      ]
     },
     "execution_count": 20,
     "metadata": {},
     "output_type": "execute_result"
    }
   ],
   "source": [
    "df.head(3)"
   ]
  },
  {
   "cell_type": "code",
   "execution_count": 21,
   "id": "4270c838",
   "metadata": {
    "scrolled": true
   },
   "outputs": [
    {
     "data": {
      "text/html": [
       "<div>\n",
       "<style scoped>\n",
       "    .dataframe tbody tr th:only-of-type {\n",
       "        vertical-align: middle;\n",
       "    }\n",
       "\n",
       "    .dataframe tbody tr th {\n",
       "        vertical-align: top;\n",
       "    }\n",
       "\n",
       "    .dataframe thead th {\n",
       "        text-align: right;\n",
       "    }\n",
       "</style>\n",
       "<table border=\"1\" class=\"dataframe\">\n",
       "  <thead>\n",
       "    <tr style=\"text-align: right;\">\n",
       "      <th></th>\n",
       "      <th>gear_class</th>\n",
       "      <th>count</th>\n",
       "    </tr>\n",
       "  </thead>\n",
       "  <tbody>\n",
       "    <tr>\n",
       "      <th>0</th>\n",
       "      <td>ski</td>\n",
       "      <td>9591</td>\n",
       "    </tr>\n",
       "    <tr>\n",
       "      <th>1</th>\n",
       "      <td>clothes</td>\n",
       "      <td>9486</td>\n",
       "    </tr>\n",
       "    <tr>\n",
       "      <th>2</th>\n",
       "      <td>snowboard</td>\n",
       "      <td>3858</td>\n",
       "    </tr>\n",
       "    <tr>\n",
       "      <th>3</th>\n",
       "      <td>helmet</td>\n",
       "      <td>2162</td>\n",
       "    </tr>\n",
       "    <tr>\n",
       "      <th>4</th>\n",
       "      <td>set</td>\n",
       "      <td>1813</td>\n",
       "    </tr>\n",
       "    <tr>\n",
       "      <th>5</th>\n",
       "      <td>sledge</td>\n",
       "      <td>715</td>\n",
       "    </tr>\n",
       "    <tr>\n",
       "      <th>6</th>\n",
       "      <td>other</td>\n",
       "      <td>474</td>\n",
       "    </tr>\n",
       "    <tr>\n",
       "      <th>7</th>\n",
       "      <td>services</td>\n",
       "      <td>150</td>\n",
       "    </tr>\n",
       "  </tbody>\n",
       "</table>\n",
       "</div>"
      ],
      "text/plain": [
       "  gear_class  count\n",
       "0        ski   9591\n",
       "1    clothes   9486\n",
       "2  snowboard   3858\n",
       "3     helmet   2162\n",
       "4        set   1813\n",
       "5     sledge    715\n",
       "6      other    474\n",
       "7   services    150"
      ]
     },
     "execution_count": 21,
     "metadata": {},
     "output_type": "execute_result"
    }
   ],
   "source": [
    "df['gear_class'].value_counts().reset_index()"
   ]
  },
  {
   "cell_type": "code",
   "execution_count": 23,
   "id": "9e8290ed",
   "metadata": {},
   "outputs": [
    {
     "data": {
      "text/html": [
       "<div>\n",
       "<style scoped>\n",
       "    .dataframe tbody tr th:only-of-type {\n",
       "        vertical-align: middle;\n",
       "    }\n",
       "\n",
       "    .dataframe tbody tr th {\n",
       "        vertical-align: top;\n",
       "    }\n",
       "\n",
       "    .dataframe thead th {\n",
       "        text-align: right;\n",
       "    }\n",
       "</style>\n",
       "<table border=\"1\" class=\"dataframe\">\n",
       "  <thead>\n",
       "    <tr style=\"text-align: right;\">\n",
       "      <th></th>\n",
       "      <th>location_key</th>\n",
       "      <th>distinct_gear_class_count</th>\n",
       "    </tr>\n",
       "  </thead>\n",
       "  <tbody>\n",
       "    <tr>\n",
       "      <th>76</th>\n",
       "      <td>Le Sentier</td>\n",
       "      <td>7</td>\n",
       "    </tr>\n",
       "    <tr>\n",
       "      <th>134</th>\n",
       "      <td>Scuol</td>\n",
       "      <td>7</td>\n",
       "    </tr>\n",
       "    <tr>\n",
       "      <th>159</th>\n",
       "      <td>Villars-sur-Ollon</td>\n",
       "      <td>6</td>\n",
       "    </tr>\n",
       "    <tr>\n",
       "      <th>154</th>\n",
       "      <td>Vals</td>\n",
       "      <td>6</td>\n",
       "    </tr>\n",
       "    <tr>\n",
       "      <th>104</th>\n",
       "      <td>Oberwil i.S.</td>\n",
       "      <td>6</td>\n",
       "    </tr>\n",
       "    <tr>\n",
       "      <th>...</th>\n",
       "      <td>...</td>\n",
       "      <td>...</td>\n",
       "    </tr>\n",
       "    <tr>\n",
       "      <th>30</th>\n",
       "      <td>Champex-Lac</td>\n",
       "      <td>0</td>\n",
       "    </tr>\n",
       "    <tr>\n",
       "      <th>31</th>\n",
       "      <td>Champéry</td>\n",
       "      <td>0</td>\n",
       "    </tr>\n",
       "    <tr>\n",
       "      <th>32</th>\n",
       "      <td>Charmey</td>\n",
       "      <td>0</td>\n",
       "    </tr>\n",
       "    <tr>\n",
       "      <th>70</th>\n",
       "      <td>La Forclaz VS</td>\n",
       "      <td>0</td>\n",
       "    </tr>\n",
       "    <tr>\n",
       "      <th>21</th>\n",
       "      <td>Bosco Gurin</td>\n",
       "      <td>0</td>\n",
       "    </tr>\n",
       "  </tbody>\n",
       "</table>\n",
       "<p>168 rows × 2 columns</p>\n",
       "</div>"
      ],
      "text/plain": [
       "          location_key  distinct_gear_class_count\n",
       "76          Le Sentier                          7\n",
       "134              Scuol                          7\n",
       "159  Villars-sur-Ollon                          6\n",
       "154               Vals                          6\n",
       "104       Oberwil i.S.                          6\n",
       "..                 ...                        ...\n",
       "30         Champex-Lac                          0\n",
       "31            Champéry                          0\n",
       "32             Charmey                          0\n",
       "70       La Forclaz VS                          0\n",
       "21         Bosco Gurin                          0\n",
       "\n",
       "[168 rows x 2 columns]"
      ]
     },
     "execution_count": 23,
     "metadata": {},
     "output_type": "execute_result"
    }
   ],
   "source": [
    "df.groupby('location_key')['gear_class'].nunique().reset_index(name='distinct_gear_class_count').sort_values(by='distinct_gear_class_count', ascending=False)\n",
    "\n"
   ]
  },
  {
   "cell_type": "code",
   "execution_count": null,
   "id": "deda6cc5",
   "metadata": {},
   "outputs": [],
   "source": []
  },
  {
   "cell_type": "code",
   "execution_count": null,
   "id": "37b21532",
   "metadata": {
    "scrolled": true
   },
   "outputs": [],
   "source": []
  },
  {
   "cell_type": "code",
   "execution_count": null,
   "id": "fc0fc195",
   "metadata": {},
   "outputs": [],
   "source": []
  }
 ],
 "metadata": {
  "kernelspec": {
   "display_name": "Python 3 (ipykernel)",
   "language": "python",
   "name": "python3"
  },
  "language_info": {
   "codemirror_mode": {
    "name": "ipython",
    "version": 3
   },
   "file_extension": ".py",
   "mimetype": "text/x-python",
   "name": "python",
   "nbconvert_exporter": "python",
   "pygments_lexer": "ipython3",
   "version": "3.10.12"
  }
 },
 "nbformat": 4,
 "nbformat_minor": 5
}
